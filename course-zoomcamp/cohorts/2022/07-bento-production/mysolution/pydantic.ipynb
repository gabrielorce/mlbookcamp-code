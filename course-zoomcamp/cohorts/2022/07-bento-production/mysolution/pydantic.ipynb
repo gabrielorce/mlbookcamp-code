{
 "cells": [
  {
   "cell_type": "code",
   "execution_count": 43,
   "metadata": {},
   "outputs": [],
   "source": [
    "from pydantic import BaseModel\n",
    "from pydantic import ValidationError\n"
   ]
  },
  {
   "cell_type": "code",
   "execution_count": 44,
   "metadata": {},
   "outputs": [],
   "source": [
    "\n",
    "import string"
   ]
  },
  {
   "cell_type": "code",
   "execution_count": 45,
   "metadata": {},
   "outputs": [],
   "source": [
    "class UserProfile(BaseModel):\n",
    "    name : str\n",
    "    age: int\n",
    "    country: str\n",
    "    rating: float"
   ]
  },
  {
   "cell_type": "code",
   "execution_count": 46,
   "metadata": {},
   "outputs": [
    {
     "name": "stdout",
     "output_type": "stream",
     "text": [
      "Good!\n"
     ]
    }
   ],
   "source": [
    "good_data={\n",
    "  \"name\": \"Tim\",\n",
    "  \"age\": 37,\n",
    "  \"country\": \"US\",\n",
    "  \"rating\": 3.14\n",
    "}\n",
    "\n",
    "try:\n",
    "    UserProfile.parse_obj(good_data)\n",
    "    print (\"Good!\")\n",
    "except ValidationError as err:\n",
    "    print(\"Something went wrong with the data!\")"
   ]
  },
  {
   "cell_type": "code",
   "execution_count": 47,
   "metadata": {},
   "outputs": [
    {
     "name": "stdout",
     "output_type": "stream",
     "text": [
      "Something went wrong with the data 1!\n",
      "Something went wrong with the data 2!\n"
     ]
    }
   ],
   "source": [
    "bad_data={\n",
    "  \"name\": \"Tim\",\n",
    "  \"age\": 37,\n",
    "  \"country\": \"US\",\n",
    "}\n",
    "\n",
    "try:\n",
    "    UserProfile.parse_obj(bad_data)\n",
    "    print (\"Good data 1!\")\n",
    "except ValidationError as err:\n",
    "    print(\"Something went wrong with the data 1!\")\n",
    "\n",
    "bad_data2={\n",
    "  \"name\": \"Tim\",\n",
    "  \"age\": \"hey!\",\n",
    "  \"country\": \"US\",\n",
    "  \"rating\": 3.14\n",
    "\n",
    "}\n",
    "\n",
    "try:\n",
    "    UserProfile.parse_obj(bad_data2)\n",
    "    print (\"Good data 2!\")\n",
    "except ValidationError as err:\n",
    "    print(\"Something went wrong with the data 2!\")"
   ]
  }
 ],
 "metadata": {
  "kernelspec": {
   "display_name": "Python 3.10.4 ('mysolution-MN9qx-wb')",
   "language": "python",
   "name": "python3"
  },
  "language_info": {
   "codemirror_mode": {
    "name": "ipython",
    "version": 3
   },
   "file_extension": ".py",
   "mimetype": "text/x-python",
   "name": "python",
   "nbconvert_exporter": "python",
   "pygments_lexer": "ipython3",
   "version": "3.10.4"
  },
  "orig_nbformat": 4,
  "vscode": {
   "interpreter": {
    "hash": "e661ecd764c9da6319e7cb06dea76b69b342c488e77318cbd2d222228f5e4d7c"
   }
  }
 },
 "nbformat": 4,
 "nbformat_minor": 2
}
