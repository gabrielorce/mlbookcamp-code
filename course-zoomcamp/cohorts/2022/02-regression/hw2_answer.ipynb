{
  "nbformat": 4,
  "nbformat_minor": 0,
  "metadata": {
    "colab": {
      "provenance": [],
      "collapsed_sections": []
    },
    "kernelspec": {
      "name": "python3",
      "display_name": "Python 3"
    },
    "language_info": {
      "name": "python"
    }
  },
  "cells": [
    {
      "cell_type": "code",
      "execution_count": 2259,
      "metadata": {
        "id": "rUcOTK6-YExJ"
      },
      "outputs": [],
      "source": [
        "import pandas as pd\n",
        "import numpy as np\n",
        "\n",
        "import seaborn as sns\n",
        "from matplotlib import pyplot as plt\n",
        "%matplotlib inline"
      ]
    },
    {
      "cell_type": "code",
      "source": [
        "# Input the data from the URL.\n",
        "data = \"https://raw.githubusercontent.com/alexeygrigorev/datasets/master/housing.csv\"\n",
        "!wget $data # Get the data.\n"
      ],
      "metadata": {
        "colab": {
          "base_uri": "https://localhost:8080/"
        },
        "id": "i2Y-7M4Zaewn",
        "outputId": "e53cced9-3178-4e78-b479-c8b9d6904eec"
      },
      "execution_count": 2260,
      "outputs": [
        {
          "output_type": "stream",
          "name": "stdout",
          "text": [
            "--2022-09-20 20:02:56--  https://raw.githubusercontent.com/alexeygrigorev/datasets/master/housing.csv\n",
            "Resolving raw.githubusercontent.com (raw.githubusercontent.com)... 185.199.108.133, 185.199.109.133, 185.199.110.133, ...\n",
            "Connecting to raw.githubusercontent.com (raw.githubusercontent.com)|185.199.108.133|:443... connected.\n",
            "HTTP request sent, awaiting response... 200 OK\n",
            "Length: 1423529 (1.4M) [text/plain]\n",
            "Saving to: ‘housing.csv.45’\n",
            "\n",
            "\rhousing.csv.45        0%[                    ]       0  --.-KB/s               \rhousing.csv.45      100%[===================>]   1.36M  --.-KB/s    in 0.06s   \n",
            "\n",
            "2022-09-20 20:02:56 (23.8 MB/s) - ‘housing.csv.45’ saved [1423529/1423529]\n",
            "\n"
          ]
        }
      ]
    },
    {
      "cell_type": "code",
      "source": [
        "df = pd.read_csv('housing.csv')\n",
        "df.head()"
      ],
      "metadata": {
        "colab": {
          "base_uri": "https://localhost:8080/",
          "height": 206
        },
        "id": "4bbx3_czafHY",
        "outputId": "b69e71b2-ecf0-4041-e243-558ebd0316c8"
      },
      "execution_count": 2261,
      "outputs": [
        {
          "output_type": "execute_result",
          "data": {
            "text/plain": [
              "   longitude  latitude  housing_median_age  total_rooms  total_bedrooms  \\\n",
              "0    -122.23     37.88                41.0        880.0           129.0   \n",
              "1    -122.22     37.86                21.0       7099.0          1106.0   \n",
              "2    -122.24     37.85                52.0       1467.0           190.0   \n",
              "3    -122.25     37.85                52.0       1274.0           235.0   \n",
              "4    -122.25     37.85                52.0       1627.0           280.0   \n",
              "\n",
              "   population  households  median_income  median_house_value ocean_proximity  \n",
              "0       322.0       126.0         8.3252            452600.0        NEAR BAY  \n",
              "1      2401.0      1138.0         8.3014            358500.0        NEAR BAY  \n",
              "2       496.0       177.0         7.2574            352100.0        NEAR BAY  \n",
              "3       558.0       219.0         5.6431            341300.0        NEAR BAY  \n",
              "4       565.0       259.0         3.8462            342200.0        NEAR BAY  "
            ],
            "text/html": [
              "\n",
              "  <div id=\"df-4ea4b02e-3412-4851-a347-e78108a662d0\">\n",
              "    <div class=\"colab-df-container\">\n",
              "      <div>\n",
              "<style scoped>\n",
              "    .dataframe tbody tr th:only-of-type {\n",
              "        vertical-align: middle;\n",
              "    }\n",
              "\n",
              "    .dataframe tbody tr th {\n",
              "        vertical-align: top;\n",
              "    }\n",
              "\n",
              "    .dataframe thead th {\n",
              "        text-align: right;\n",
              "    }\n",
              "</style>\n",
              "<table border=\"1\" class=\"dataframe\">\n",
              "  <thead>\n",
              "    <tr style=\"text-align: right;\">\n",
              "      <th></th>\n",
              "      <th>longitude</th>\n",
              "      <th>latitude</th>\n",
              "      <th>housing_median_age</th>\n",
              "      <th>total_rooms</th>\n",
              "      <th>total_bedrooms</th>\n",
              "      <th>population</th>\n",
              "      <th>households</th>\n",
              "      <th>median_income</th>\n",
              "      <th>median_house_value</th>\n",
              "      <th>ocean_proximity</th>\n",
              "    </tr>\n",
              "  </thead>\n",
              "  <tbody>\n",
              "    <tr>\n",
              "      <th>0</th>\n",
              "      <td>-122.23</td>\n",
              "      <td>37.88</td>\n",
              "      <td>41.0</td>\n",
              "      <td>880.0</td>\n",
              "      <td>129.0</td>\n",
              "      <td>322.0</td>\n",
              "      <td>126.0</td>\n",
              "      <td>8.3252</td>\n",
              "      <td>452600.0</td>\n",
              "      <td>NEAR BAY</td>\n",
              "    </tr>\n",
              "    <tr>\n",
              "      <th>1</th>\n",
              "      <td>-122.22</td>\n",
              "      <td>37.86</td>\n",
              "      <td>21.0</td>\n",
              "      <td>7099.0</td>\n",
              "      <td>1106.0</td>\n",
              "      <td>2401.0</td>\n",
              "      <td>1138.0</td>\n",
              "      <td>8.3014</td>\n",
              "      <td>358500.0</td>\n",
              "      <td>NEAR BAY</td>\n",
              "    </tr>\n",
              "    <tr>\n",
              "      <th>2</th>\n",
              "      <td>-122.24</td>\n",
              "      <td>37.85</td>\n",
              "      <td>52.0</td>\n",
              "      <td>1467.0</td>\n",
              "      <td>190.0</td>\n",
              "      <td>496.0</td>\n",
              "      <td>177.0</td>\n",
              "      <td>7.2574</td>\n",
              "      <td>352100.0</td>\n",
              "      <td>NEAR BAY</td>\n",
              "    </tr>\n",
              "    <tr>\n",
              "      <th>3</th>\n",
              "      <td>-122.25</td>\n",
              "      <td>37.85</td>\n",
              "      <td>52.0</td>\n",
              "      <td>1274.0</td>\n",
              "      <td>235.0</td>\n",
              "      <td>558.0</td>\n",
              "      <td>219.0</td>\n",
              "      <td>5.6431</td>\n",
              "      <td>341300.0</td>\n",
              "      <td>NEAR BAY</td>\n",
              "    </tr>\n",
              "    <tr>\n",
              "      <th>4</th>\n",
              "      <td>-122.25</td>\n",
              "      <td>37.85</td>\n",
              "      <td>52.0</td>\n",
              "      <td>1627.0</td>\n",
              "      <td>280.0</td>\n",
              "      <td>565.0</td>\n",
              "      <td>259.0</td>\n",
              "      <td>3.8462</td>\n",
              "      <td>342200.0</td>\n",
              "      <td>NEAR BAY</td>\n",
              "    </tr>\n",
              "  </tbody>\n",
              "</table>\n",
              "</div>\n",
              "      <button class=\"colab-df-convert\" onclick=\"convertToInteractive('df-4ea4b02e-3412-4851-a347-e78108a662d0')\"\n",
              "              title=\"Convert this dataframe to an interactive table.\"\n",
              "              style=\"display:none;\">\n",
              "        \n",
              "  <svg xmlns=\"http://www.w3.org/2000/svg\" height=\"24px\"viewBox=\"0 0 24 24\"\n",
              "       width=\"24px\">\n",
              "    <path d=\"M0 0h24v24H0V0z\" fill=\"none\"/>\n",
              "    <path d=\"M18.56 5.44l.94 2.06.94-2.06 2.06-.94-2.06-.94-.94-2.06-.94 2.06-2.06.94zm-11 1L8.5 8.5l.94-2.06 2.06-.94-2.06-.94L8.5 2.5l-.94 2.06-2.06.94zm10 10l.94 2.06.94-2.06 2.06-.94-2.06-.94-.94-2.06-.94 2.06-2.06.94z\"/><path d=\"M17.41 7.96l-1.37-1.37c-.4-.4-.92-.59-1.43-.59-.52 0-1.04.2-1.43.59L10.3 9.45l-7.72 7.72c-.78.78-.78 2.05 0 2.83L4 21.41c.39.39.9.59 1.41.59.51 0 1.02-.2 1.41-.59l7.78-7.78 2.81-2.81c.8-.78.8-2.07 0-2.86zM5.41 20L4 18.59l7.72-7.72 1.47 1.35L5.41 20z\"/>\n",
              "  </svg>\n",
              "      </button>\n",
              "      \n",
              "  <style>\n",
              "    .colab-df-container {\n",
              "      display:flex;\n",
              "      flex-wrap:wrap;\n",
              "      gap: 12px;\n",
              "    }\n",
              "\n",
              "    .colab-df-convert {\n",
              "      background-color: #E8F0FE;\n",
              "      border: none;\n",
              "      border-radius: 50%;\n",
              "      cursor: pointer;\n",
              "      display: none;\n",
              "      fill: #1967D2;\n",
              "      height: 32px;\n",
              "      padding: 0 0 0 0;\n",
              "      width: 32px;\n",
              "    }\n",
              "\n",
              "    .colab-df-convert:hover {\n",
              "      background-color: #E2EBFA;\n",
              "      box-shadow: 0px 1px 2px rgba(60, 64, 67, 0.3), 0px 1px 3px 1px rgba(60, 64, 67, 0.15);\n",
              "      fill: #174EA6;\n",
              "    }\n",
              "\n",
              "    [theme=dark] .colab-df-convert {\n",
              "      background-color: #3B4455;\n",
              "      fill: #D2E3FC;\n",
              "    }\n",
              "\n",
              "    [theme=dark] .colab-df-convert:hover {\n",
              "      background-color: #434B5C;\n",
              "      box-shadow: 0px 1px 3px 1px rgba(0, 0, 0, 0.15);\n",
              "      filter: drop-shadow(0px 1px 2px rgba(0, 0, 0, 0.3));\n",
              "      fill: #FFFFFF;\n",
              "    }\n",
              "  </style>\n",
              "\n",
              "      <script>\n",
              "        const buttonEl =\n",
              "          document.querySelector('#df-4ea4b02e-3412-4851-a347-e78108a662d0 button.colab-df-convert');\n",
              "        buttonEl.style.display =\n",
              "          google.colab.kernel.accessAllowed ? 'block' : 'none';\n",
              "\n",
              "        async function convertToInteractive(key) {\n",
              "          const element = document.querySelector('#df-4ea4b02e-3412-4851-a347-e78108a662d0');\n",
              "          const dataTable =\n",
              "            await google.colab.kernel.invokeFunction('convertToInteractive',\n",
              "                                                     [key], {});\n",
              "          if (!dataTable) return;\n",
              "\n",
              "          const docLinkHtml = 'Like what you see? Visit the ' +\n",
              "            '<a target=\"_blank\" href=https://colab.research.google.com/notebooks/data_table.ipynb>data table notebook</a>'\n",
              "            + ' to learn more about interactive tables.';\n",
              "          element.innerHTML = '';\n",
              "          dataTable['output_type'] = 'display_data';\n",
              "          await google.colab.output.renderOutput(dataTable, element);\n",
              "          const docLink = document.createElement('div');\n",
              "          docLink.innerHTML = docLinkHtml;\n",
              "          element.appendChild(docLink);\n",
              "        }\n",
              "      </script>\n",
              "    </div>\n",
              "  </div>\n",
              "  "
            ]
          },
          "metadata": {},
          "execution_count": 2261
        }
      ]
    },
    {
      "cell_type": "code",
      "source": [
        "df.columns # Generate the column names."
      ],
      "metadata": {
        "colab": {
          "base_uri": "https://localhost:8080/"
        },
        "id": "lds1hkZ8dlFT",
        "outputId": "aadb62b6-a7d6-4639-dfe3-45b9de9f0a58"
      },
      "execution_count": 2262,
      "outputs": [
        {
          "output_type": "execute_result",
          "data": {
            "text/plain": [
              "Index(['longitude', 'latitude', 'housing_median_age', 'total_rooms',\n",
              "       'total_bedrooms', 'population', 'households', 'median_income',\n",
              "       'median_house_value', 'ocean_proximity'],\n",
              "      dtype='object')"
            ]
          },
          "metadata": {},
          "execution_count": 2262
        }
      ]
    },
    {
      "cell_type": "code",
      "source": [
        "df.dtypes  # get the types of each column"
      ],
      "metadata": {
        "colab": {
          "base_uri": "https://localhost:8080/"
        },
        "id": "Q7XTj5TfUDJS",
        "outputId": "a3b8379c-dce0-4e86-bdde-11d558a3182e"
      },
      "execution_count": 2263,
      "outputs": [
        {
          "output_type": "execute_result",
          "data": {
            "text/plain": [
              "longitude             float64\n",
              "latitude              float64\n",
              "housing_median_age    float64\n",
              "total_rooms           float64\n",
              "total_bedrooms        float64\n",
              "population            float64\n",
              "households            float64\n",
              "median_income         float64\n",
              "median_house_value    float64\n",
              "ocean_proximity        object\n",
              "dtype: object"
            ]
          },
          "metadata": {},
          "execution_count": 2263
        }
      ]
    },
    {
      "cell_type": "markdown",
      "source": [
        "##Exploratory data analysis"
      ],
      "metadata": {
        "id": "rJ4FmX6VTcdr"
      }
    },
    {
      "cell_type": "code",
      "source": [
        "df.describe()"
      ],
      "metadata": {
        "colab": {
          "base_uri": "https://localhost:8080/",
          "height": 300
        },
        "id": "V8Vc6y6awFPR",
        "outputId": "b22d7c1a-07d9-47a2-adc0-31a1237c7ebe"
      },
      "execution_count": 2264,
      "outputs": [
        {
          "output_type": "execute_result",
          "data": {
            "text/plain": [
              "          longitude      latitude  housing_median_age   total_rooms  \\\n",
              "count  20640.000000  20640.000000        20640.000000  20640.000000   \n",
              "mean    -119.569704     35.631861           28.639486   2635.763081   \n",
              "std        2.003532      2.135952           12.585558   2181.615252   \n",
              "min     -124.350000     32.540000            1.000000      2.000000   \n",
              "25%     -121.800000     33.930000           18.000000   1447.750000   \n",
              "50%     -118.490000     34.260000           29.000000   2127.000000   \n",
              "75%     -118.010000     37.710000           37.000000   3148.000000   \n",
              "max     -114.310000     41.950000           52.000000  39320.000000   \n",
              "\n",
              "       total_bedrooms    population    households  median_income  \\\n",
              "count    20433.000000  20640.000000  20640.000000   20640.000000   \n",
              "mean       537.870553   1425.476744    499.539680       3.870671   \n",
              "std        421.385070   1132.462122    382.329753       1.899822   \n",
              "min          1.000000      3.000000      1.000000       0.499900   \n",
              "25%        296.000000    787.000000    280.000000       2.563400   \n",
              "50%        435.000000   1166.000000    409.000000       3.534800   \n",
              "75%        647.000000   1725.000000    605.000000       4.743250   \n",
              "max       6445.000000  35682.000000   6082.000000      15.000100   \n",
              "\n",
              "       median_house_value  \n",
              "count        20640.000000  \n",
              "mean        206855.816909  \n",
              "std         115395.615874  \n",
              "min          14999.000000  \n",
              "25%         119600.000000  \n",
              "50%         179700.000000  \n",
              "75%         264725.000000  \n",
              "max         500001.000000  "
            ],
            "text/html": [
              "\n",
              "  <div id=\"df-ec1a1012-1ecf-4f65-82b6-f0dcc6a32bad\">\n",
              "    <div class=\"colab-df-container\">\n",
              "      <div>\n",
              "<style scoped>\n",
              "    .dataframe tbody tr th:only-of-type {\n",
              "        vertical-align: middle;\n",
              "    }\n",
              "\n",
              "    .dataframe tbody tr th {\n",
              "        vertical-align: top;\n",
              "    }\n",
              "\n",
              "    .dataframe thead th {\n",
              "        text-align: right;\n",
              "    }\n",
              "</style>\n",
              "<table border=\"1\" class=\"dataframe\">\n",
              "  <thead>\n",
              "    <tr style=\"text-align: right;\">\n",
              "      <th></th>\n",
              "      <th>longitude</th>\n",
              "      <th>latitude</th>\n",
              "      <th>housing_median_age</th>\n",
              "      <th>total_rooms</th>\n",
              "      <th>total_bedrooms</th>\n",
              "      <th>population</th>\n",
              "      <th>households</th>\n",
              "      <th>median_income</th>\n",
              "      <th>median_house_value</th>\n",
              "    </tr>\n",
              "  </thead>\n",
              "  <tbody>\n",
              "    <tr>\n",
              "      <th>count</th>\n",
              "      <td>20640.000000</td>\n",
              "      <td>20640.000000</td>\n",
              "      <td>20640.000000</td>\n",
              "      <td>20640.000000</td>\n",
              "      <td>20433.000000</td>\n",
              "      <td>20640.000000</td>\n",
              "      <td>20640.000000</td>\n",
              "      <td>20640.000000</td>\n",
              "      <td>20640.000000</td>\n",
              "    </tr>\n",
              "    <tr>\n",
              "      <th>mean</th>\n",
              "      <td>-119.569704</td>\n",
              "      <td>35.631861</td>\n",
              "      <td>28.639486</td>\n",
              "      <td>2635.763081</td>\n",
              "      <td>537.870553</td>\n",
              "      <td>1425.476744</td>\n",
              "      <td>499.539680</td>\n",
              "      <td>3.870671</td>\n",
              "      <td>206855.816909</td>\n",
              "    </tr>\n",
              "    <tr>\n",
              "      <th>std</th>\n",
              "      <td>2.003532</td>\n",
              "      <td>2.135952</td>\n",
              "      <td>12.585558</td>\n",
              "      <td>2181.615252</td>\n",
              "      <td>421.385070</td>\n",
              "      <td>1132.462122</td>\n",
              "      <td>382.329753</td>\n",
              "      <td>1.899822</td>\n",
              "      <td>115395.615874</td>\n",
              "    </tr>\n",
              "    <tr>\n",
              "      <th>min</th>\n",
              "      <td>-124.350000</td>\n",
              "      <td>32.540000</td>\n",
              "      <td>1.000000</td>\n",
              "      <td>2.000000</td>\n",
              "      <td>1.000000</td>\n",
              "      <td>3.000000</td>\n",
              "      <td>1.000000</td>\n",
              "      <td>0.499900</td>\n",
              "      <td>14999.000000</td>\n",
              "    </tr>\n",
              "    <tr>\n",
              "      <th>25%</th>\n",
              "      <td>-121.800000</td>\n",
              "      <td>33.930000</td>\n",
              "      <td>18.000000</td>\n",
              "      <td>1447.750000</td>\n",
              "      <td>296.000000</td>\n",
              "      <td>787.000000</td>\n",
              "      <td>280.000000</td>\n",
              "      <td>2.563400</td>\n",
              "      <td>119600.000000</td>\n",
              "    </tr>\n",
              "    <tr>\n",
              "      <th>50%</th>\n",
              "      <td>-118.490000</td>\n",
              "      <td>34.260000</td>\n",
              "      <td>29.000000</td>\n",
              "      <td>2127.000000</td>\n",
              "      <td>435.000000</td>\n",
              "      <td>1166.000000</td>\n",
              "      <td>409.000000</td>\n",
              "      <td>3.534800</td>\n",
              "      <td>179700.000000</td>\n",
              "    </tr>\n",
              "    <tr>\n",
              "      <th>75%</th>\n",
              "      <td>-118.010000</td>\n",
              "      <td>37.710000</td>\n",
              "      <td>37.000000</td>\n",
              "      <td>3148.000000</td>\n",
              "      <td>647.000000</td>\n",
              "      <td>1725.000000</td>\n",
              "      <td>605.000000</td>\n",
              "      <td>4.743250</td>\n",
              "      <td>264725.000000</td>\n",
              "    </tr>\n",
              "    <tr>\n",
              "      <th>max</th>\n",
              "      <td>-114.310000</td>\n",
              "      <td>41.950000</td>\n",
              "      <td>52.000000</td>\n",
              "      <td>39320.000000</td>\n",
              "      <td>6445.000000</td>\n",
              "      <td>35682.000000</td>\n",
              "      <td>6082.000000</td>\n",
              "      <td>15.000100</td>\n",
              "      <td>500001.000000</td>\n",
              "    </tr>\n",
              "  </tbody>\n",
              "</table>\n",
              "</div>\n",
              "      <button class=\"colab-df-convert\" onclick=\"convertToInteractive('df-ec1a1012-1ecf-4f65-82b6-f0dcc6a32bad')\"\n",
              "              title=\"Convert this dataframe to an interactive table.\"\n",
              "              style=\"display:none;\">\n",
              "        \n",
              "  <svg xmlns=\"http://www.w3.org/2000/svg\" height=\"24px\"viewBox=\"0 0 24 24\"\n",
              "       width=\"24px\">\n",
              "    <path d=\"M0 0h24v24H0V0z\" fill=\"none\"/>\n",
              "    <path d=\"M18.56 5.44l.94 2.06.94-2.06 2.06-.94-2.06-.94-.94-2.06-.94 2.06-2.06.94zm-11 1L8.5 8.5l.94-2.06 2.06-.94-2.06-.94L8.5 2.5l-.94 2.06-2.06.94zm10 10l.94 2.06.94-2.06 2.06-.94-2.06-.94-.94-2.06-.94 2.06-2.06.94z\"/><path d=\"M17.41 7.96l-1.37-1.37c-.4-.4-.92-.59-1.43-.59-.52 0-1.04.2-1.43.59L10.3 9.45l-7.72 7.72c-.78.78-.78 2.05 0 2.83L4 21.41c.39.39.9.59 1.41.59.51 0 1.02-.2 1.41-.59l7.78-7.78 2.81-2.81c.8-.78.8-2.07 0-2.86zM5.41 20L4 18.59l7.72-7.72 1.47 1.35L5.41 20z\"/>\n",
              "  </svg>\n",
              "      </button>\n",
              "      \n",
              "  <style>\n",
              "    .colab-df-container {\n",
              "      display:flex;\n",
              "      flex-wrap:wrap;\n",
              "      gap: 12px;\n",
              "    }\n",
              "\n",
              "    .colab-df-convert {\n",
              "      background-color: #E8F0FE;\n",
              "      border: none;\n",
              "      border-radius: 50%;\n",
              "      cursor: pointer;\n",
              "      display: none;\n",
              "      fill: #1967D2;\n",
              "      height: 32px;\n",
              "      padding: 0 0 0 0;\n",
              "      width: 32px;\n",
              "    }\n",
              "\n",
              "    .colab-df-convert:hover {\n",
              "      background-color: #E2EBFA;\n",
              "      box-shadow: 0px 1px 2px rgba(60, 64, 67, 0.3), 0px 1px 3px 1px rgba(60, 64, 67, 0.15);\n",
              "      fill: #174EA6;\n",
              "    }\n",
              "\n",
              "    [theme=dark] .colab-df-convert {\n",
              "      background-color: #3B4455;\n",
              "      fill: #D2E3FC;\n",
              "    }\n",
              "\n",
              "    [theme=dark] .colab-df-convert:hover {\n",
              "      background-color: #434B5C;\n",
              "      box-shadow: 0px 1px 3px 1px rgba(0, 0, 0, 0.15);\n",
              "      filter: drop-shadow(0px 1px 2px rgba(0, 0, 0, 0.3));\n",
              "      fill: #FFFFFF;\n",
              "    }\n",
              "  </style>\n",
              "\n",
              "      <script>\n",
              "        const buttonEl =\n",
              "          document.querySelector('#df-ec1a1012-1ecf-4f65-82b6-f0dcc6a32bad button.colab-df-convert');\n",
              "        buttonEl.style.display =\n",
              "          google.colab.kernel.accessAllowed ? 'block' : 'none';\n",
              "\n",
              "        async function convertToInteractive(key) {\n",
              "          const element = document.querySelector('#df-ec1a1012-1ecf-4f65-82b6-f0dcc6a32bad');\n",
              "          const dataTable =\n",
              "            await google.colab.kernel.invokeFunction('convertToInteractive',\n",
              "                                                     [key], {});\n",
              "          if (!dataTable) return;\n",
              "\n",
              "          const docLinkHtml = 'Like what you see? Visit the ' +\n",
              "            '<a target=\"_blank\" href=https://colab.research.google.com/notebooks/data_table.ipynb>data table notebook</a>'\n",
              "            + ' to learn more about interactive tables.';\n",
              "          element.innerHTML = '';\n",
              "          dataTable['output_type'] = 'display_data';\n",
              "          await google.colab.output.renderOutput(dataTable, element);\n",
              "          const docLink = document.createElement('div');\n",
              "          docLink.innerHTML = docLinkHtml;\n",
              "          element.appendChild(docLink);\n",
              "        }\n",
              "      </script>\n",
              "    </div>\n",
              "  </div>\n",
              "  "
            ]
          },
          "metadata": {},
          "execution_count": 2264
        }
      ]
    },
    {
      "cell_type": "code",
      "source": [
        "for col in df.columns:\n",
        "  print (col)\n",
        "  print (df[col].unique()[:10])\n",
        "  print (df[col].nunique())\n",
        "  print()\n"
      ],
      "metadata": {
        "colab": {
          "base_uri": "https://localhost:8080/"
        },
        "id": "uhj-ZLtKomhD",
        "outputId": "50a5a3bb-28bf-4e18-9298-1f4917136d54"
      },
      "execution_count": 2265,
      "outputs": [
        {
          "output_type": "stream",
          "name": "stdout",
          "text": [
            "longitude\n",
            "[-122.23 -122.22 -122.24 -122.25 -122.26 -122.27 -122.28 -122.29 -122.3\n",
            " -122.21]\n",
            "844\n",
            "\n",
            "latitude\n",
            "[37.88 37.86 37.85 37.84 37.83 37.82 37.81 37.8  37.79 37.77]\n",
            "862\n",
            "\n",
            "housing_median_age\n",
            "[41. 21. 52. 42. 50. 40. 49. 48. 51. 43.]\n",
            "52\n",
            "\n",
            "total_rooms\n",
            "[ 880. 7099. 1467. 1274. 1627.  919. 2535. 3104. 2555. 3549.]\n",
            "5926\n",
            "\n",
            "total_bedrooms\n",
            "[ 129. 1106.  190.  235.  280.  213.  489.  687.  665.  707.]\n",
            "1923\n",
            "\n",
            "population\n",
            "[ 322. 2401.  496.  558.  565.  413. 1094. 1157. 1206. 1551.]\n",
            "3888\n",
            "\n",
            "households\n",
            "[ 126. 1138.  177.  219.  259.  193.  514.  647.  595.  714.]\n",
            "1815\n",
            "\n",
            "median_income\n",
            "[8.3252 8.3014 7.2574 5.6431 3.8462 4.0368 3.6591 3.12   2.0804 3.6912]\n",
            "12928\n",
            "\n",
            "median_house_value\n",
            "[452600. 358500. 352100. 341300. 342200. 269700. 299200. 241400. 226700.\n",
            " 261100.]\n",
            "3842\n",
            "\n",
            "ocean_proximity\n",
            "['NEAR BAY' '<1H OCEAN' 'INLAND' 'NEAR OCEAN' 'ISLAND']\n",
            "5\n",
            "\n"
          ]
        }
      ]
    },
    {
      "cell_type": "code",
      "source": [
        "# Using 50 bins\n",
        "\n",
        "plt.figure(figsize=(6, 4))\n",
        "\n",
        "sns.histplot(df.median_house_value)\n",
        "#plt.ylabel('median_house_value')\n",
        "#plt.xlabel('housing_median_age')\n",
        "#plt.title('Distribution of prices')\n",
        "\n",
        "plt.show()"
      ],
      "metadata": {
        "colab": {
          "base_uri": "https://localhost:8080/",
          "height": 280
        },
        "id": "m0zO1ptk15FF",
        "outputId": "c5e4645c-dea4-4ca8-f14b-2385ca00f213"
      },
      "execution_count": 2266,
      "outputs": [
        {
          "output_type": "display_data",
          "data": {
            "text/plain": [
              "<Figure size 432x288 with 1 Axes>"
            ],
            "image/png": "[encoded data removed]"
          },
          "metadata": {
            "needs_background": "light"
          }
        }
      ]
    },
    {
      "cell_type": "code",
      "source": [
        "# Using 50 bins\n",
        "\n",
        "plt.figure(figsize=(6, 4))\n",
        "\n",
        "sns.histplot(df.median_house_value, bins=50,  alpha=1)\n",
        "#plt.ylabel('median_house_value')\n",
        "#plt.xlabel('housing_median_age')\n",
        "#plt.title('Distribution of prices')\n",
        "\n",
        "plt.show()"
      ],
      "metadata": {
        "colab": {
          "base_uri": "https://localhost:8080/",
          "height": 280
        },
        "id": "H2uKEBi9TxAG",
        "outputId": "1423870f-b254-4e6b-adc8-086ad3a923d1"
      },
      "execution_count": 2267,
      "outputs": [
        {
          "output_type": "display_data",
          "data": {
            "text/plain": [
              "<Figure size 432x288 with 1 Axes>"
            ],
            "image/png": "[encoded data removed]"
          },
          "metadata": {
            "needs_background": "light"
          }
        }
      ]
    },
    {
      "cell_type": "code",
      "source": [
        "# Using 100 bins\n",
        "\n",
        "plt.figure(figsize=(6, 4))\n",
        "\n",
        "sns.histplot(df.median_house_value, bins=100,  alpha=1)\n",
        "plt.title('median_house_value')\n",
        "\n",
        "plt.show()"
      ],
      "metadata": {
        "colab": {
          "base_uri": "https://localhost:8080/",
          "height": 296
        },
        "id": "zV49uwTroeQx",
        "outputId": "34e7c94f-1961-4adb-97b1-9a5271a47b01"
      },
      "execution_count": 2268,
      "outputs": [
        {
          "output_type": "display_data",
          "data": {
            "text/plain": [
              "<Figure size 432x288 with 1 Axes>"
            ],
            "image/png": "[encoded data removed]"
          },
          "metadata": {
            "needs_background": "light"
          }
        }
      ]
    },
    {
      "cell_type": "markdown",
      "source": [
        "##Features\n",
        "Select only these columns: 'latitude', 'longitude', 'housing_median_age', 'total_rooms', 'total_bedrooms', 'population', 'households', 'median_income', 'median_house_value'\n",
        "\n",
        "OR: delete the one that isnt in this selection ('ocean_proximity')\n"
      ],
      "metadata": {
        "id": "hDtUNC5pVaL6"
      }
    },
    {
      "cell_type": "code",
      "source": [
        "#df=df[['latitude', 'longitude', 'housing_median_age', 'total_rooms', 'total_bedrooms', 'population', 'households', 'median_income', 'median_house_value']].copy()\n",
        "df.drop('ocean_proximity', axis=1, inplace=True)\n",
        "df\n"
      ],
      "metadata": {
        "colab": {
          "base_uri": "https://localhost:8080/",
          "height": 424
        },
        "id": "04iiUgHyUfr9",
        "outputId": "599f80d8-174e-4172-b300-ab04c052f197"
      },
      "execution_count": 2269,
      "outputs": [
        {
          "output_type": "execute_result",
          "data": {
            "text/plain": [
              "       longitude  latitude  housing_median_age  total_rooms  total_bedrooms  \\\n",
              "0        -122.23     37.88                41.0        880.0           129.0   \n",
              "1        -122.22     37.86                21.0       7099.0          1106.0   \n",
              "2        -122.24     37.85                52.0       1467.0           190.0   \n",
              "3        -122.25     37.85                52.0       1274.0           235.0   \n",
              "4        -122.25     37.85                52.0       1627.0           280.0   \n",
              "...          ...       ...                 ...          ...             ...   \n",
              "20635    -121.09     39.48                25.0       1665.0           374.0   \n",
              "20636    -121.21     39.49                18.0        697.0           150.0   \n",
              "20637    -121.22     39.43                17.0       2254.0           485.0   \n",
              "20638    -121.32     39.43                18.0       1860.0           409.0   \n",
              "20639    -121.24     39.37                16.0       2785.0           616.0   \n",
              "\n",
              "       population  households  median_income  median_house_value  \n",
              "0           322.0       126.0         8.3252            452600.0  \n",
              "1          2401.0      1138.0         8.3014            358500.0  \n",
              "2           496.0       177.0         7.2574            352100.0  \n",
              "3           558.0       219.0         5.6431            341300.0  \n",
              "4           565.0       259.0         3.8462            342200.0  \n",
              "...           ...         ...            ...                 ...  \n",
              "20635       845.0       330.0         1.5603             78100.0  \n",
              "20636       356.0       114.0         2.5568             77100.0  \n",
              "20637      1007.0       433.0         1.7000             92300.0  \n",
              "20638       741.0       349.0         1.8672             84700.0  \n",
              "20639      1387.0       530.0         2.3886             89400.0  \n",
              "\n",
              "[20640 rows x 9 columns]"
            ],
            "text/html": [
              "\n",
              "  <div id=\"df-2d87aa88-fb95-488d-b7b4-047567fed2b6\">\n",
              "    <div class=\"colab-df-container\">\n",
              "      <div>\n",
              "<style scoped>\n",
              "    .dataframe tbody tr th:only-of-type {\n",
              "        vertical-align: middle;\n",
              "    }\n",
              "\n",
              "    .dataframe tbody tr th {\n",
              "        vertical-align: top;\n",
              "    }\n",
              "\n",
              "    .dataframe thead th {\n",
              "        text-align: right;\n",
              "    }\n",
              "</style>\n",
              "<table border=\"1\" class=\"dataframe\">\n",
              "  <thead>\n",
              "    <tr style=\"text-align: right;\">\n",
              "      <th></th>\n",
              "      <th>longitude</th>\n",
              "      <th>latitude</th>\n",
              "      <th>housing_median_age</th>\n",
              "      <th>total_rooms</th>\n",
              "      <th>total_bedrooms</th>\n",
              "      <th>population</th>\n",
              "      <th>households</th>\n",
              "      <th>median_income</th>\n",
              "      <th>median_house_value</th>\n",
              "    </tr>\n",
              "  </thead>\n",
              "  <tbody>\n",
              "    <tr>\n",
              "      <th>0</th>\n",
              "      <td>-122.23</td>\n",
              "      <td>37.88</td>\n",
              "      <td>41.0</td>\n",
              "      <td>880.0</td>\n",
              "      <td>129.0</td>\n",
              "      <td>322.0</td>\n",
              "      <td>126.0</td>\n",
              "      <td>8.3252</td>\n",
              "      <td>452600.0</td>\n",
              "    </tr>\n",
              "    <tr>\n",
              "      <th>1</th>\n",
              "      <td>-122.22</td>\n",
              "      <td>37.86</td>\n",
              "      <td>21.0</td>\n",
              "      <td>7099.0</td>\n",
              "      <td>1106.0</td>\n",
              "      <td>2401.0</td>\n",
              "      <td>1138.0</td>\n",
              "      <td>8.3014</td>\n",
              "      <td>358500.0</td>\n",
              "    </tr>\n",
              "    <tr>\n",
              "      <th>2</th>\n",
              "      <td>-122.24</td>\n",
              "      <td>37.85</td>\n",
              "      <td>52.0</td>\n",
              "      <td>1467.0</td>\n",
              "      <td>190.0</td>\n",
              "      <td>496.0</td>\n",
              "      <td>177.0</td>\n",
              "      <td>7.2574</td>\n",
              "      <td>352100.0</td>\n",
              "    </tr>\n",
              "    <tr>\n",
              "      <th>3</th>\n",
              "      <td>-122.25</td>\n",
              "      <td>37.85</td>\n",
              "      <td>52.0</td>\n",
              "      <td>1274.0</td>\n",
              "      <td>235.0</td>\n",
              "      <td>558.0</td>\n",
              "      <td>219.0</td>\n",
              "      <td>5.6431</td>\n",
              "      <td>341300.0</td>\n",
              "    </tr>\n",
              "    <tr>\n",
              "      <th>4</th>\n",
              "      <td>-122.25</td>\n",
              "      <td>37.85</td>\n",
              "      <td>52.0</td>\n",
              "      <td>1627.0</td>\n",
              "      <td>280.0</td>\n",
              "      <td>565.0</td>\n",
              "      <td>259.0</td>\n",
              "      <td>3.8462</td>\n",
              "      <td>342200.0</td>\n",
              "    </tr>\n",
              "    <tr>\n",
              "      <th>...</th>\n",
              "      <td>...</td>\n",
              "      <td>...</td>\n",
              "      <td>...</td>\n",
              "      <td>...</td>\n",
              "      <td>...</td>\n",
              "      <td>...</td>\n",
              "      <td>...</td>\n",
              "      <td>...</td>\n",
              "      <td>...</td>\n",
              "    </tr>\n",
              "    <tr>\n",
              "      <th>20635</th>\n",
              "      <td>-121.09</td>\n",
              "      <td>39.48</td>\n",
              "      <td>25.0</td>\n",
              "      <td>1665.0</td>\n",
              "      <td>374.0</td>\n",
              "      <td>845.0</td>\n",
              "      <td>330.0</td>\n",
              "      <td>1.5603</td>\n",
              "      <td>78100.0</td>\n",
              "    </tr>\n",
              "    <tr>\n",
              "      <th>20636</th>\n",
              "      <td>-121.21</td>\n",
              "      <td>39.49</td>\n",
              "      <td>18.0</td>\n",
              "      <td>697.0</td>\n",
              "      <td>150.0</td>\n",
              "      <td>356.0</td>\n",
              "      <td>114.0</td>\n",
              "      <td>2.5568</td>\n",
              "      <td>77100.0</td>\n",
              "    </tr>\n",
              "    <tr>\n",
              "      <th>20637</th>\n",
              "      <td>-121.22</td>\n",
              "      <td>39.43</td>\n",
              "      <td>17.0</td>\n",
              "      <td>2254.0</td>\n",
              "      <td>485.0</td>\n",
              "      <td>1007.0</td>\n",
              "      <td>433.0</td>\n",
              "      <td>1.7000</td>\n",
              "      <td>92300.0</td>\n",
              "    </tr>\n",
              "    <tr>\n",
              "      <th>20638</th>\n",
              "      <td>-121.32</td>\n",
              "      <td>39.43</td>\n",
              "      <td>18.0</td>\n",
              "      <td>1860.0</td>\n",
              "      <td>409.0</td>\n",
              "      <td>741.0</td>\n",
              "      <td>349.0</td>\n",
              "      <td>1.8672</td>\n",
              "      <td>84700.0</td>\n",
              "    </tr>\n",
              "    <tr>\n",
              "      <th>20639</th>\n",
              "      <td>-121.24</td>\n",
              "      <td>39.37</td>\n",
              "      <td>16.0</td>\n",
              "      <td>2785.0</td>\n",
              "      <td>616.0</td>\n",
              "      <td>1387.0</td>\n",
              "      <td>530.0</td>\n",
              "      <td>2.3886</td>\n",
              "      <td>89400.0</td>\n",
              "    </tr>\n",
              "  </tbody>\n",
              "</table>\n",
              "<p>20640 rows × 9 columns</p>\n",
              "</div>\n",
              "      <button class=\"colab-df-convert\" onclick=\"convertToInteractive('df-2d87aa88-fb95-488d-b7b4-047567fed2b6')\"\n",
              "              title=\"Convert this dataframe to an interactive table.\"\n",
              "              style=\"display:none;\">\n",
              "        \n",
              "  <svg xmlns=\"http://www.w3.org/2000/svg\" height=\"24px\"viewBox=\"0 0 24 24\"\n",
              "       width=\"24px\">\n",
              "    <path d=\"M0 0h24v24H0V0z\" fill=\"none\"/>\n",
              "    <path d=\"M18.56 5.44l.94 2.06.94-2.06 2.06-.94-2.06-.94-.94-2.06-.94 2.06-2.06.94zm-11 1L8.5 8.5l.94-2.06 2.06-.94-2.06-.94L8.5 2.5l-.94 2.06-2.06.94zm10 10l.94 2.06.94-2.06 2.06-.94-2.06-.94-.94-2.06-.94 2.06-2.06.94z\"/><path d=\"M17.41 7.96l-1.37-1.37c-.4-.4-.92-.59-1.43-.59-.52 0-1.04.2-1.43.59L10.3 9.45l-7.72 7.72c-.78.78-.78 2.05 0 2.83L4 21.41c.39.39.9.59 1.41.59.51 0 1.02-.2 1.41-.59l7.78-7.78 2.81-2.81c.8-.78.8-2.07 0-2.86zM5.41 20L4 18.59l7.72-7.72 1.47 1.35L5.41 20z\"/>\n",
              "  </svg>\n",
              "      </button>\n",
              "      \n",
              "  <style>\n",
              "    .colab-df-container {\n",
              "      display:flex;\n",
              "      flex-wrap:wrap;\n",
              "      gap: 12px;\n",
              "    }\n",
              "\n",
              "    .colab-df-convert {\n",
              "      background-color: #E8F0FE;\n",
              "      border: none;\n",
              "      border-radius: 50%;\n",
              "      cursor: pointer;\n",
              "      display: none;\n",
              "      fill: #1967D2;\n",
              "      height: 32px;\n",
              "      padding: 0 0 0 0;\n",
              "      width: 32px;\n",
              "    }\n",
              "\n",
              "    .colab-df-convert:hover {\n",
              "      background-color: #E2EBFA;\n",
              "      box-shadow: 0px 1px 2px rgba(60, 64, 67, 0.3), 0px 1px 3px 1px rgba(60, 64, 67, 0.15);\n",
              "      fill: #174EA6;\n",
              "    }\n",
              "\n",
              "    [theme=dark] .colab-df-convert {\n",
              "      background-color: #3B4455;\n",
              "      fill: #D2E3FC;\n",
              "    }\n",
              "\n",
              "    [theme=dark] .colab-df-convert:hover {\n",
              "      background-color: #434B5C;\n",
              "      box-shadow: 0px 1px 3px 1px rgba(0, 0, 0, 0.15);\n",
              "      filter: drop-shadow(0px 1px 2px rgba(0, 0, 0, 0.3));\n",
              "      fill: #FFFFFF;\n",
              "    }\n",
              "  </style>\n",
              "\n",
              "      <script>\n",
              "        const buttonEl =\n",
              "          document.querySelector('#df-2d87aa88-fb95-488d-b7b4-047567fed2b6 button.colab-df-convert');\n",
              "        buttonEl.style.display =\n",
              "          google.colab.kernel.accessAllowed ? 'block' : 'none';\n",
              "\n",
              "        async function convertToInteractive(key) {\n",
              "          const element = document.querySelector('#df-2d87aa88-fb95-488d-b7b4-047567fed2b6');\n",
              "          const dataTable =\n",
              "            await google.colab.kernel.invokeFunction('convertToInteractive',\n",
              "                                                     [key], {});\n",
              "          if (!dataTable) return;\n",
              "\n",
              "          const docLinkHtml = 'Like what you see? Visit the ' +\n",
              "            '<a target=\"_blank\" href=https://colab.research.google.com/notebooks/data_table.ipynb>data table notebook</a>'\n",
              "            + ' to learn more about interactive tables.';\n",
              "          element.innerHTML = '';\n",
              "          dataTable['output_type'] = 'display_data';\n",
              "          await google.colab.output.renderOutput(dataTable, element);\n",
              "          const docLink = document.createElement('div');\n",
              "          docLink.innerHTML = docLinkHtml;\n",
              "          element.appendChild(docLink);\n",
              "        }\n",
              "      </script>\n",
              "    </div>\n",
              "  </div>\n",
              "  "
            ]
          },
          "metadata": {},
          "execution_count": 2269
        }
      ]
    },
    {
      "cell_type": "markdown",
      "source": [
        "**1- Find a feature with missing values. How many missing values does it have?**"
      ],
      "metadata": {
        "id": "ApHReI6NFUFz"
      }
    },
    {
      "cell_type": "code",
      "source": [
        "df.columns[df.isnull().any()]"
      ],
      "metadata": {
        "colab": {
          "base_uri": "https://localhost:8080/"
        },
        "id": "vb5gpAlQV0Iv",
        "outputId": "3a5f89b7-caa7-4573-8a2f-0566a3ed5c44"
      },
      "execution_count": 2270,
      "outputs": [
        {
          "output_type": "execute_result",
          "data": {
            "text/plain": [
              "Index(['total_bedrooms'], dtype='object')"
            ]
          },
          "metadata": {},
          "execution_count": 2270
        }
      ]
    },
    {
      "cell_type": "code",
      "source": [
        " df.isna().sum().sum()   # Total missing values for THE WHOLE dataframe"
      ],
      "metadata": {
        "colab": {
          "base_uri": "https://localhost:8080/"
        },
        "id": "LkPIYEmydT-x",
        "outputId": "b7e8b05f-e1d1-4ee2-8ba8-b3006cd54bf4"
      },
      "execution_count": 2271,
      "outputs": [
        {
          "output_type": "execute_result",
          "data": {
            "text/plain": [
              "207"
            ]
          },
          "metadata": {},
          "execution_count": 2271
        }
      ]
    },
    {
      "cell_type": "code",
      "source": [
        "df.isnull().sum()"
      ],
      "metadata": {
        "colab": {
          "base_uri": "https://localhost:8080/"
        },
        "id": "9PUGKdk9uCQR",
        "outputId": "0ccc7d5d-da10-4a44-f1f2-e519c5913057"
      },
      "execution_count": 2272,
      "outputs": [
        {
          "output_type": "execute_result",
          "data": {
            "text/plain": [
              "longitude               0\n",
              "latitude                0\n",
              "housing_median_age      0\n",
              "total_rooms             0\n",
              "total_bedrooms        207\n",
              "population              0\n",
              "households              0\n",
              "median_income           0\n",
              "median_house_value      0\n",
              "dtype: int64"
            ]
          },
          "metadata": {},
          "execution_count": 2272
        }
      ]
    },
    {
      "cell_type": "code",
      "source": [
        " df.total_bedrooms.isna().sum() # Total missing values for total_bedrooms column"
      ],
      "metadata": {
        "colab": {
          "base_uri": "https://localhost:8080/"
        },
        "id": "aBE2JpsZEMkf",
        "outputId": "da316937-ce65-4a3d-d035-9925575ff28b"
      },
      "execution_count": 2273,
      "outputs": [
        {
          "output_type": "execute_result",
          "data": {
            "text/plain": [
              "207"
            ]
          },
          "metadata": {},
          "execution_count": 2273
        }
      ]
    },
    {
      "cell_type": "markdown",
      "source": [
        "**2- What's the median (50% percentile) for variable 'population'?**\n"
      ],
      "metadata": {
        "id": "IMiWAo0uFOh6"
      }
    },
    {
      "cell_type": "code",
      "source": [
        "df.population.median()"
      ],
      "metadata": {
        "colab": {
          "base_uri": "https://localhost:8080/"
        },
        "id": "_RGyDqT0EZ6s",
        "outputId": "397d9098-f602-4d76-c6c7-e3f5f93a4878"
      },
      "execution_count": 2274,
      "outputs": [
        {
          "output_type": "execute_result",
          "data": {
            "text/plain": [
              "1166.0"
            ]
          },
          "metadata": {},
          "execution_count": 2274
        }
      ]
    },
    {
      "cell_type": "markdown",
      "source": [
        "**3 - Split the data**"
      ],
      "metadata": {
        "id": "aCGWFiyCiByW"
      }
    },
    {
      "cell_type": "code",
      "source": [
        "median_house_value_logs= np.log1p(df.median_house_value)"
      ],
      "metadata": {
        "id": "tx3JGJRhh4Vr"
      },
      "execution_count": 2275,
      "outputs": []
    },
    {
      "cell_type": "markdown",
      "source": [],
      "metadata": {
        "id": "plgOW3z5h9nY"
      }
    },
    {
      "cell_type": "code",
      "source": [
        "# Using 100 bins\n",
        "\n",
        "plt.figure(figsize=(6, 4))\n",
        "sns.histplot(median_house_value_logs, bins=100,  alpha=1)\n",
        "plt.show()"
      ],
      "metadata": {
        "colab": {
          "base_uri": "https://localhost:8080/",
          "height": 280
        },
        "id": "HVxJH0boiBHS",
        "outputId": "4881d253-7c76-4746-ebbc-e8cec2601106"
      },
      "execution_count": 2276,
      "outputs": [
        {
          "output_type": "display_data",
          "data": {
            "text/plain": [
              "<Figure size 432x288 with 1 Axes>"
            ],
            "image/png": "[encoded data removed]"
          },
          "metadata": {
            "needs_background": "light"
          }
        }
      ]
    },
    {
      "cell_type": "markdown",
      "source": [
        "split into train (60%), test (20%) and validation (20%)"
      ],
      "metadata": {
        "id": "NCHhsnPH2zD7"
      }
    },
    {
      "cell_type": "code",
      "source": [
        "n=len(df)\n",
        "n_test=int(n*0.2)\n",
        "n_val=int(n*0.2)\n",
        "n_train=n-n_test-n_val\n",
        "\n",
        "print (n, n_train, n_val, n_test)\n",
        "print (n_val+ n_train+ n_test)"
      ],
      "metadata": {
        "colab": {
          "base_uri": "https://localhost:8080/"
        },
        "id": "jWoosW0Lh9Yo",
        "outputId": "930443f0-769e-401b-8da4-79ffe29c2cf8"
      },
      "execution_count": 2277,
      "outputs": [
        {
          "output_type": "stream",
          "name": "stdout",
          "text": [
            "20640 12384 4128 4128\n",
            "20640\n"
          ]
        }
      ]
    },
    {
      "cell_type": "code",
      "source": [
        "df_train= df.iloc[:n_train]\n",
        "df_test= df.iloc[n_train:n_train+n_test]\n",
        "df_val= df.iloc[n_train+n_test:]\n"
      ],
      "metadata": {
        "id": "SRqiD2aF4N9O"
      },
      "execution_count": 2278,
      "outputs": []
    },
    {
      "cell_type": "code",
      "source": [
        "df_val"
      ],
      "metadata": {
        "colab": {
          "base_uri": "https://localhost:8080/",
          "height": 424
        },
        "id": "feknKBkK4xeg",
        "outputId": "2de1509d-0cfc-4ccc-9c0d-b05e0fd7b36e"
      },
      "execution_count": 2279,
      "outputs": [
        {
          "output_type": "execute_result",
          "data": {
            "text/plain": [
              "       longitude  latitude  housing_median_age  total_rooms  total_bedrooms  \\\n",
              "16512    -121.22     37.72                34.0       2123.0           387.0   \n",
              "16513    -121.22     37.81                17.0       2879.0           542.0   \n",
              "16514    -121.22     37.80                28.0       2608.0           576.0   \n",
              "16515    -121.22     37.80                37.0       1038.0           222.0   \n",
              "16516    -121.21     37.81                18.0       2404.0           498.0   \n",
              "...          ...       ...                 ...          ...             ...   \n",
              "20635    -121.09     39.48                25.0       1665.0           374.0   \n",
              "20636    -121.21     39.49                18.0        697.0           150.0   \n",
              "20637    -121.22     39.43                17.0       2254.0           485.0   \n",
              "20638    -121.32     39.43                18.0       1860.0           409.0   \n",
              "20639    -121.24     39.37                16.0       2785.0           616.0   \n",
              "\n",
              "       population  households  median_income  median_house_value  \n",
              "16512      1310.0       368.0         2.6368            165600.0  \n",
              "16513      1802.0       530.0         3.6378            126100.0  \n",
              "16514      1719.0       554.0         2.1186             94400.0  \n",
              "16515       521.0       211.0         2.1250             91900.0  \n",
              "16516      1531.0       506.0         2.9950            124300.0  \n",
              "...           ...         ...            ...                 ...  \n",
              "20635       845.0       330.0         1.5603             78100.0  \n",
              "20636       356.0       114.0         2.5568             77100.0  \n",
              "20637      1007.0       433.0         1.7000             92300.0  \n",
              "20638       741.0       349.0         1.8672             84700.0  \n",
              "20639      1387.0       530.0         2.3886             89400.0  \n",
              "\n",
              "[4128 rows x 9 columns]"
            ],
            "text/html": [
              "\n",
              "  <div id=\"df-d52c128b-99d2-417c-9e9e-4de2e02d11dd\">\n",
              "    <div class=\"colab-df-container\">\n",
              "      <div>\n",
              "<style scoped>\n",
              "    .dataframe tbody tr th:only-of-type {\n",
              "        vertical-align: middle;\n",
              "    }\n",
              "\n",
              "    .dataframe tbody tr th {\n",
              "        vertical-align: top;\n",
              "    }\n",
              "\n",
              "    .dataframe thead th {\n",
              "        text-align: right;\n",
              "    }\n",
              "</style>\n",
              "<table border=\"1\" class=\"dataframe\">\n",
              "  <thead>\n",
              "    <tr style=\"text-align: right;\">\n",
              "      <th></th>\n",
              "      <th>longitude</th>\n",
              "      <th>latitude</th>\n",
              "      <th>housing_median_age</th>\n",
              "      <th>total_rooms</th>\n",
              "      <th>total_bedrooms</th>\n",
              "      <th>population</th>\n",
              "      <th>households</th>\n",
              "      <th>median_income</th>\n",
              "      <th>median_house_value</th>\n",
              "    </tr>\n",
              "  </thead>\n",
              "  <tbody>\n",
              "    <tr>\n",
              "      <th>16512</th>\n",
              "      <td>-121.22</td>\n",
              "      <td>37.72</td>\n",
              "      <td>34.0</td>\n",
              "      <td>2123.0</td>\n",
              "      <td>387.0</td>\n",
              "      <td>1310.0</td>\n",
              "      <td>368.0</td>\n",
              "      <td>2.6368</td>\n",
              "      <td>165600.0</td>\n",
              "    </tr>\n",
              "    <tr>\n",
              "      <th>16513</th>\n",
              "      <td>-121.22</td>\n",
              "      <td>37.81</td>\n",
              "      <td>17.0</td>\n",
              "      <td>2879.0</td>\n",
              "      <td>542.0</td>\n",
              "      <td>1802.0</td>\n",
              "      <td>530.0</td>\n",
              "      <td>3.6378</td>\n",
              "      <td>126100.0</td>\n",
              "    </tr>\n",
              "    <tr>\n",
              "      <th>16514</th>\n",
              "      <td>-121.22</td>\n",
              "      <td>37.80</td>\n",
              "      <td>28.0</td>\n",
              "      <td>2608.0</td>\n",
              "      <td>576.0</td>\n",
              "      <td>1719.0</td>\n",
              "      <td>554.0</td>\n",
              "      <td>2.1186</td>\n",
              "      <td>94400.0</td>\n",
              "    </tr>\n",
              "    <tr>\n",
              "      <th>16515</th>\n",
              "      <td>-121.22</td>\n",
              "      <td>37.80</td>\n",
              "      <td>37.0</td>\n",
              "      <td>1038.0</td>\n",
              "      <td>222.0</td>\n",
              "      <td>521.0</td>\n",
              "      <td>211.0</td>\n",
              "      <td>2.1250</td>\n",
              "      <td>91900.0</td>\n",
              "    </tr>\n",
              "    <tr>\n",
              "      <th>16516</th>\n",
              "      <td>-121.21</td>\n",
              "      <td>37.81</td>\n",
              "      <td>18.0</td>\n",
              "      <td>2404.0</td>\n",
              "      <td>498.0</td>\n",
              "      <td>1531.0</td>\n",
              "      <td>506.0</td>\n",
              "      <td>2.9950</td>\n",
              "      <td>124300.0</td>\n",
              "    </tr>\n",
              "    <tr>\n",
              "      <th>...</th>\n",
              "      <td>...</td>\n",
              "      <td>...</td>\n",
              "      <td>...</td>\n",
              "      <td>...</td>\n",
              "      <td>...</td>\n",
              "      <td>...</td>\n",
              "      <td>...</td>\n",
              "      <td>...</td>\n",
              "      <td>...</td>\n",
              "    </tr>\n",
              "    <tr>\n",
              "      <th>20635</th>\n",
              "      <td>-121.09</td>\n",
              "      <td>39.48</td>\n",
              "      <td>25.0</td>\n",
              "      <td>1665.0</td>\n",
              "      <td>374.0</td>\n",
              "      <td>845.0</td>\n",
              "      <td>330.0</td>\n",
              "      <td>1.5603</td>\n",
              "      <td>78100.0</td>\n",
              "    </tr>\n",
              "    <tr>\n",
              "      <th>20636</th>\n",
              "      <td>-121.21</td>\n",
              "      <td>39.49</td>\n",
              "      <td>18.0</td>\n",
              "      <td>697.0</td>\n",
              "      <td>150.0</td>\n",
              "      <td>356.0</td>\n",
              "      <td>114.0</td>\n",
              "      <td>2.5568</td>\n",
              "      <td>77100.0</td>\n",
              "    </tr>\n",
              "    <tr>\n",
              "      <th>20637</th>\n",
              "      <td>-121.22</td>\n",
              "      <td>39.43</td>\n",
              "      <td>17.0</td>\n",
              "      <td>2254.0</td>\n",
              "      <td>485.0</td>\n",
              "      <td>1007.0</td>\n",
              "      <td>433.0</td>\n",
              "      <td>1.7000</td>\n",
              "      <td>92300.0</td>\n",
              "    </tr>\n",
              "    <tr>\n",
              "      <th>20638</th>\n",
              "      <td>-121.32</td>\n",
              "      <td>39.43</td>\n",
              "      <td>18.0</td>\n",
              "      <td>1860.0</td>\n",
              "      <td>409.0</td>\n",
              "      <td>741.0</td>\n",
              "      <td>349.0</td>\n",
              "      <td>1.8672</td>\n",
              "      <td>84700.0</td>\n",
              "    </tr>\n",
              "    <tr>\n",
              "      <th>20639</th>\n",
              "      <td>-121.24</td>\n",
              "      <td>39.37</td>\n",
              "      <td>16.0</td>\n",
              "      <td>2785.0</td>\n",
              "      <td>616.0</td>\n",
              "      <td>1387.0</td>\n",
              "      <td>530.0</td>\n",
              "      <td>2.3886</td>\n",
              "      <td>89400.0</td>\n",
              "    </tr>\n",
              "  </tbody>\n",
              "</table>\n",
              "<p>4128 rows × 9 columns</p>\n",
              "</div>\n",
              "      <button class=\"colab-df-convert\" onclick=\"convertToInteractive('df-d52c128b-99d2-417c-9e9e-4de2e02d11dd')\"\n",
              "              title=\"Convert this dataframe to an interactive table.\"\n",
              "              style=\"display:none;\">\n",
              "        \n",
              "  <svg xmlns=\"http://www.w3.org/2000/svg\" height=\"24px\"viewBox=\"0 0 24 24\"\n",
              "       width=\"24px\">\n",
              "    <path d=\"M0 0h24v24H0V0z\" fill=\"none\"/>\n",
              "    <path d=\"M18.56 5.44l.94 2.06.94-2.06 2.06-.94-2.06-.94-.94-2.06-.94 2.06-2.06.94zm-11 1L8.5 8.5l.94-2.06 2.06-.94-2.06-.94L8.5 2.5l-.94 2.06-2.06.94zm10 10l.94 2.06.94-2.06 2.06-.94-2.06-.94-.94-2.06-.94 2.06-2.06.94z\"/><path d=\"M17.41 7.96l-1.37-1.37c-.4-.4-.92-.59-1.43-.59-.52 0-1.04.2-1.43.59L10.3 9.45l-7.72 7.72c-.78.78-.78 2.05 0 2.83L4 21.41c.39.39.9.59 1.41.59.51 0 1.02-.2 1.41-.59l7.78-7.78 2.81-2.81c.8-.78.8-2.07 0-2.86zM5.41 20L4 18.59l7.72-7.72 1.47 1.35L5.41 20z\"/>\n",
              "  </svg>\n",
              "      </button>\n",
              "      \n",
              "  <style>\n",
              "    .colab-df-container {\n",
              "      display:flex;\n",
              "      flex-wrap:wrap;\n",
              "      gap: 12px;\n",
              "    }\n",
              "\n",
              "    .colab-df-convert {\n",
              "      background-color: #E8F0FE;\n",
              "      border: none;\n",
              "      border-radius: 50%;\n",
              "      cursor: pointer;\n",
              "      display: none;\n",
              "      fill: #1967D2;\n",
              "      height: 32px;\n",
              "      padding: 0 0 0 0;\n",
              "      width: 32px;\n",
              "    }\n",
              "\n",
              "    .colab-df-convert:hover {\n",
              "      background-color: #E2EBFA;\n",
              "      box-shadow: 0px 1px 2px rgba(60, 64, 67, 0.3), 0px 1px 3px 1px rgba(60, 64, 67, 0.15);\n",
              "      fill: #174EA6;\n",
              "    }\n",
              "\n",
              "    [theme=dark] .colab-df-convert {\n",
              "      background-color: #3B4455;\n",
              "      fill: #D2E3FC;\n",
              "    }\n",
              "\n",
              "    [theme=dark] .colab-df-convert:hover {\n",
              "      background-color: #434B5C;\n",
              "      box-shadow: 0px 1px 3px 1px rgba(0, 0, 0, 0.15);\n",
              "      filter: drop-shadow(0px 1px 2px rgba(0, 0, 0, 0.3));\n",
              "      fill: #FFFFFF;\n",
              "    }\n",
              "  </style>\n",
              "\n",
              "      <script>\n",
              "        const buttonEl =\n",
              "          document.querySelector('#df-d52c128b-99d2-417c-9e9e-4de2e02d11dd button.colab-df-convert');\n",
              "        buttonEl.style.display =\n",
              "          google.colab.kernel.accessAllowed ? 'block' : 'none';\n",
              "\n",
              "        async function convertToInteractive(key) {\n",
              "          const element = document.querySelector('#df-d52c128b-99d2-417c-9e9e-4de2e02d11dd');\n",
              "          const dataTable =\n",
              "            await google.colab.kernel.invokeFunction('convertToInteractive',\n",
              "                                                     [key], {});\n",
              "          if (!dataTable) return;\n",
              "\n",
              "          const docLinkHtml = 'Like what you see? Visit the ' +\n",
              "            '<a target=\"_blank\" href=https://colab.research.google.com/notebooks/data_table.ipynb>data table notebook</a>'\n",
              "            + ' to learn more about interactive tables.';\n",
              "          element.innerHTML = '';\n",
              "          dataTable['output_type'] = 'display_data';\n",
              "          await google.colab.output.renderOutput(dataTable, element);\n",
              "          const docLink = document.createElement('div');\n",
              "          docLink.innerHTML = docLinkHtml;\n",
              "          element.appendChild(docLink);\n",
              "        }\n",
              "      </script>\n",
              "    </div>\n",
              "  </div>\n",
              "  "
            ]
          },
          "metadata": {},
          "execution_count": 2279
        }
      ]
    },
    {
      "cell_type": "code",
      "source": [
        "idx = np.arange(n) # Generates an array of numbers from 1 to (n - 1); uses NumPy \n",
        "# function called arange; stored as idx (short for index).\n",
        "idx # Display index"
      ],
      "metadata": {
        "colab": {
          "base_uri": "https://localhost:8080/"
        },
        "id": "EAGeQO6NOP_w",
        "outputId": "a5fe83e5-1b64-40eb-c39c-76206362172a"
      },
      "execution_count": 2280,
      "outputs": [
        {
          "output_type": "execute_result",
          "data": {
            "text/plain": [
              "array([    0,     1,     2, ..., 20637, 20638, 20639])"
            ]
          },
          "metadata": {},
          "execution_count": 2280
        }
      ]
    },
    {
      "cell_type": "code",
      "source": [
        "np.random.seed(9) # Establish a reproduceable shuffle\n",
        "np.random.shuffle(idx) # Shuffle the index.\n",
        "idx"
      ],
      "metadata": {
        "colab": {
          "base_uri": "https://localhost:8080/"
        },
        "id": "BQlRMEaXOSCT",
        "outputId": "d06ca552-74fe-4238-c47b-029f41bf314d"
      },
      "execution_count": 2281,
      "outputs": [
        {
          "output_type": "execute_result",
          "data": {
            "text/plain": [
              "array([20558, 11430,  2656, ...,  5014,  9979,   501])"
            ]
          },
          "metadata": {},
          "execution_count": 2281
        }
      ]
    },
    {
      "cell_type": "code",
      "source": [
        "# newly shuffled dataframes:\n",
        "df_train = df.iloc[idx[:n_train]] \n",
        "df_val = df.iloc[idx[n_train:n_train + n_val]] \n",
        "df_test = df.iloc[idx[n_train + n_val:]] \n",
        "df_train.head()"
      ],
      "metadata": {
        "colab": {
          "base_uri": "https://localhost:8080/",
          "height": 206
        },
        "id": "wouxNK5faE8Z",
        "outputId": "110c23cf-8bd3-431d-d0a8-124beff155f4"
      },
      "execution_count": 2282,
      "outputs": [
        {
          "output_type": "execute_result",
          "data": {
            "text/plain": [
              "       longitude  latitude  housing_median_age  total_rooms  total_bedrooms  \\\n",
              "20558    -121.80     38.67                10.0       2086.0           380.0   \n",
              "11430    -117.97     33.66                22.0       3914.0           600.0   \n",
              "2656     -124.25     40.28                32.0       1430.0           419.0   \n",
              "14267    -117.11     32.69                37.0       2395.0           627.0   \n",
              "3684     -118.37     34.21                36.0       1392.0           326.0   \n",
              "\n",
              "       population  households  median_income  median_house_value  \n",
              "20558      1073.0       378.0         4.5526            154400.0  \n",
              "11430      1871.0       607.0         5.8541            281500.0  \n",
              "2656        434.0       187.0         1.9417             76100.0  \n",
              "14267      2489.0       599.0         1.5933             86300.0  \n",
              "3684       1181.0       303.0         3.1563            176400.0  "
            ],
            "text/html": [
              "\n",
              "  <div id=\"df-4f37d730-da6d-42b6-ab7a-833e3dbd93c9\">\n",
              "    <div class=\"colab-df-container\">\n",
              "      <div>\n",
              "<style scoped>\n",
              "    .dataframe tbody tr th:only-of-type {\n",
              "        vertical-align: middle;\n",
              "    }\n",
              "\n",
              "    .dataframe tbody tr th {\n",
              "        vertical-align: top;\n",
              "    }\n",
              "\n",
              "    .dataframe thead th {\n",
              "        text-align: right;\n",
              "    }\n",
              "</style>\n",
              "<table border=\"1\" class=\"dataframe\">\n",
              "  <thead>\n",
              "    <tr style=\"text-align: right;\">\n",
              "      <th></th>\n",
              "      <th>longitude</th>\n",
              "      <th>latitude</th>\n",
              "      <th>housing_median_age</th>\n",
              "      <th>total_rooms</th>\n",
              "      <th>total_bedrooms</th>\n",
              "      <th>population</th>\n",
              "      <th>households</th>\n",
              "      <th>median_income</th>\n",
              "      <th>median_house_value</th>\n",
              "    </tr>\n",
              "  </thead>\n",
              "  <tbody>\n",
              "    <tr>\n",
              "      <th>20558</th>\n",
              "      <td>-121.80</td>\n",
              "      <td>38.67</td>\n",
              "      <td>10.0</td>\n",
              "      <td>2086.0</td>\n",
              "      <td>380.0</td>\n",
              "      <td>1073.0</td>\n",
              "      <td>378.0</td>\n",
              "      <td>4.5526</td>\n",
              "      <td>154400.0</td>\n",
              "    </tr>\n",
              "    <tr>\n",
              "      <th>11430</th>\n",
              "      <td>-117.97</td>\n",
              "      <td>33.66</td>\n",
              "      <td>22.0</td>\n",
              "      <td>3914.0</td>\n",
              "      <td>600.0</td>\n",
              "      <td>1871.0</td>\n",
              "      <td>607.0</td>\n",
              "      <td>5.8541</td>\n",
              "      <td>281500.0</td>\n",
              "    </tr>\n",
              "    <tr>\n",
              "      <th>2656</th>\n",
              "      <td>-124.25</td>\n",
              "      <td>40.28</td>\n",
              "      <td>32.0</td>\n",
              "      <td>1430.0</td>\n",
              "      <td>419.0</td>\n",
              "      <td>434.0</td>\n",
              "      <td>187.0</td>\n",
              "      <td>1.9417</td>\n",
              "      <td>76100.0</td>\n",
              "    </tr>\n",
              "    <tr>\n",
              "      <th>14267</th>\n",
              "      <td>-117.11</td>\n",
              "      <td>32.69</td>\n",
              "      <td>37.0</td>\n",
              "      <td>2395.0</td>\n",
              "      <td>627.0</td>\n",
              "      <td>2489.0</td>\n",
              "      <td>599.0</td>\n",
              "      <td>1.5933</td>\n",
              "      <td>86300.0</td>\n",
              "    </tr>\n",
              "    <tr>\n",
              "      <th>3684</th>\n",
              "      <td>-118.37</td>\n",
              "      <td>34.21</td>\n",
              "      <td>36.0</td>\n",
              "      <td>1392.0</td>\n",
              "      <td>326.0</td>\n",
              "      <td>1181.0</td>\n",
              "      <td>303.0</td>\n",
              "      <td>3.1563</td>\n",
              "      <td>176400.0</td>\n",
              "    </tr>\n",
              "  </tbody>\n",
              "</table>\n",
              "</div>\n",
              "      <button class=\"colab-df-convert\" onclick=\"convertToInteractive('df-4f37d730-da6d-42b6-ab7a-833e3dbd93c9')\"\n",
              "              title=\"Convert this dataframe to an interactive table.\"\n",
              "              style=\"display:none;\">\n",
              "        \n",
              "  <svg xmlns=\"http://www.w3.org/2000/svg\" height=\"24px\"viewBox=\"0 0 24 24\"\n",
              "       width=\"24px\">\n",
              "    <path d=\"M0 0h24v24H0V0z\" fill=\"none\"/>\n",
              "    <path d=\"M18.56 5.44l.94 2.06.94-2.06 2.06-.94-2.06-.94-.94-2.06-.94 2.06-2.06.94zm-11 1L8.5 8.5l.94-2.06 2.06-.94-2.06-.94L8.5 2.5l-.94 2.06-2.06.94zm10 10l.94 2.06.94-2.06 2.06-.94-2.06-.94-.94-2.06-.94 2.06-2.06.94z\"/><path d=\"M17.41 7.96l-1.37-1.37c-.4-.4-.92-.59-1.43-.59-.52 0-1.04.2-1.43.59L10.3 9.45l-7.72 7.72c-.78.78-.78 2.05 0 2.83L4 21.41c.39.39.9.59 1.41.59.51 0 1.02-.2 1.41-.59l7.78-7.78 2.81-2.81c.8-.78.8-2.07 0-2.86zM5.41 20L4 18.59l7.72-7.72 1.47 1.35L5.41 20z\"/>\n",
              "  </svg>\n",
              "      </button>\n",
              "      \n",
              "  <style>\n",
              "    .colab-df-container {\n",
              "      display:flex;\n",
              "      flex-wrap:wrap;\n",
              "      gap: 12px;\n",
              "    }\n",
              "\n",
              "    .colab-df-convert {\n",
              "      background-color: #E8F0FE;\n",
              "      border: none;\n",
              "      border-radius: 50%;\n",
              "      cursor: pointer;\n",
              "      display: none;\n",
              "      fill: #1967D2;\n",
              "      height: 32px;\n",
              "      padding: 0 0 0 0;\n",
              "      width: 32px;\n",
              "    }\n",
              "\n",
              "    .colab-df-convert:hover {\n",
              "      background-color: #E2EBFA;\n",
              "      box-shadow: 0px 1px 2px rgba(60, 64, 67, 0.3), 0px 1px 3px 1px rgba(60, 64, 67, 0.15);\n",
              "      fill: #174EA6;\n",
              "    }\n",
              "\n",
              "    [theme=dark] .colab-df-convert {\n",
              "      background-color: #3B4455;\n",
              "      fill: #D2E3FC;\n",
              "    }\n",
              "\n",
              "    [theme=dark] .colab-df-convert:hover {\n",
              "      background-color: #434B5C;\n",
              "      box-shadow: 0px 1px 3px 1px rgba(0, 0, 0, 0.15);\n",
              "      filter: drop-shadow(0px 1px 2px rgba(0, 0, 0, 0.3));\n",
              "      fill: #FFFFFF;\n",
              "    }\n",
              "  </style>\n",
              "\n",
              "      <script>\n",
              "        const buttonEl =\n",
              "          document.querySelector('#df-4f37d730-da6d-42b6-ab7a-833e3dbd93c9 button.colab-df-convert');\n",
              "        buttonEl.style.display =\n",
              "          google.colab.kernel.accessAllowed ? 'block' : 'none';\n",
              "\n",
              "        async function convertToInteractive(key) {\n",
              "          const element = document.querySelector('#df-4f37d730-da6d-42b6-ab7a-833e3dbd93c9');\n",
              "          const dataTable =\n",
              "            await google.colab.kernel.invokeFunction('convertToInteractive',\n",
              "                                                     [key], {});\n",
              "          if (!dataTable) return;\n",
              "\n",
              "          const docLinkHtml = 'Like what you see? Visit the ' +\n",
              "            '<a target=\"_blank\" href=https://colab.research.google.com/notebooks/data_table.ipynb>data table notebook</a>'\n",
              "            + ' to learn more about interactive tables.';\n",
              "          element.innerHTML = '';\n",
              "          dataTable['output_type'] = 'display_data';\n",
              "          await google.colab.output.renderOutput(dataTable, element);\n",
              "          const docLink = document.createElement('div');\n",
              "          docLink.innerHTML = docLinkHtml;\n",
              "          element.appendChild(docLink);\n",
              "        }\n",
              "      </script>\n",
              "    </div>\n",
              "  </div>\n",
              "  "
            ]
          },
          "metadata": {},
          "execution_count": 2282
        }
      ]
    },
    {
      "cell_type": "code",
      "source": [
        "len(df_train), len(df_val), len(df_test)"
      ],
      "metadata": {
        "colab": {
          "base_uri": "https://localhost:8080/"
        },
        "id": "zg5DNfBiazj6",
        "outputId": "8940589c-3e08-4191-ea08-b00fe1a1d554"
      },
      "execution_count": 2283,
      "outputs": [
        {
          "output_type": "execute_result",
          "data": {
            "text/plain": [
              "(12384, 4128, 4128)"
            ]
          },
          "metadata": {},
          "execution_count": 2283
        }
      ]
    },
    {
      "cell_type": "markdown",
      "source": [
        "Reset the index for each data frame."
      ],
      "metadata": {
        "id": "ZrHlOEYza6YH"
      }
    },
    {
      "cell_type": "code",
      "source": [
        "df_train = df_train.reset_index(drop = True)\n",
        "df_val = df_val.reset_index(drop = True)\n",
        "df_test = df_test.reset_index(drop = True)"
      ],
      "metadata": {
        "id": "OSPx_T57a89X"
      },
      "execution_count": 2284,
      "outputs": []
    },
    {
      "cell_type": "markdown",
      "source": [
        "Apply log1p function to data"
      ],
      "metadata": {
        "id": "5yYA0TSlbskb"
      }
    },
    {
      "cell_type": "code",
      "source": [
        "y_train = np.log1p(df_train.median_house_value.values)\n",
        "y_val = np.log1p(df_val.median_house_value.values)\n",
        "y_test = np.log1p(df_test.median_house_value.values)"
      ],
      "metadata": {
        "id": "knANj7TmbrUh"
      },
      "execution_count": 2285,
      "outputs": []
    },
    {
      "cell_type": "markdown",
      "source": [
        "Delete target variable "
      ],
      "metadata": {
        "id": "u1xkb2o8b53M"
      }
    },
    {
      "cell_type": "code",
      "source": [
        "del df_train['median_house_value']\n",
        "del df_val['median_house_value']\n",
        "del df_test['median_house_value']"
      ],
      "metadata": {
        "id": "YSBZ4-4Nb48v"
      },
      "execution_count": 2286,
      "outputs": []
    },
    {
      "cell_type": "code",
      "source": [
        "len (y_train)"
      ],
      "metadata": {
        "colab": {
          "base_uri": "https://localhost:8080/"
        },
        "id": "R6M13rhicaLM",
        "outputId": "fdea4d02-f1b3-4dfc-c4a8-6760ce6cecb2"
      },
      "execution_count": 2287,
      "outputs": [
        {
          "output_type": "execute_result",
          "data": {
            "text/plain": [
              "12384"
            ]
          },
          "metadata": {},
          "execution_count": 2287
        }
      ]
    },
    {
      "cell_type": "code",
      "source": [
        "len (y_val)"
      ],
      "metadata": {
        "colab": {
          "base_uri": "https://localhost:8080/"
        },
        "id": "y3T_fI5gWFyF",
        "outputId": "15728390-ed31-45e4-e8f7-65eafbbbe79a"
      },
      "execution_count": 2288,
      "outputs": [
        {
          "output_type": "execute_result",
          "data": {
            "text/plain": [
              "4128"
            ]
          },
          "metadata": {},
          "execution_count": 2288
        }
      ]
    },
    {
      "cell_type": "code",
      "source": [
        "len (y_test)"
      ],
      "metadata": {
        "colab": {
          "base_uri": "https://localhost:8080/"
        },
        "id": "1k_KNa5bWGJ4",
        "outputId": "aa0f770a-1e54-4bc9-cd6f-be299d9f2084"
      },
      "execution_count": 2289,
      "outputs": [
        {
          "output_type": "execute_result",
          "data": {
            "text/plain": [
              "4128"
            ]
          },
          "metadata": {},
          "execution_count": 2289
        }
      ]
    },
    {
      "cell_type": "markdown",
      "source": [
        "##Linear Regression Training"
      ],
      "metadata": {
        "id": "tyTb1UpQKmkj"
      }
    },
    {
      "cell_type": "markdown",
      "source": [
        "![image.png](data:image/png;base64,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)"
      ],
      "metadata": {
        "id": "6v2cXTIFvsVz"
      }
    },
    {
      "cell_type": "code",
      "source": [
        "# This will execute a dot product between x_i and w\n",
        "def dot(x_i, w):\n",
        "  n = len(x_i)\n",
        "\n",
        "  res = 0.0\n",
        "\n",
        "  for j in range(n):\n",
        "    res = res + x_i[j] * w[j]\n",
        "\n",
        "  return res"
      ],
      "metadata": {
        "id": "svJP-NCXvrP5"
      },
      "execution_count": 2290,
      "outputs": []
    },
    {
      "cell_type": "code",
      "source": [
        "def train_linear_regression(X, y): # Implement the training program\n",
        "  ones = np.ones(X.shape[0])\n",
        "  X = np.column_stack([ones, X])\n",
        "  \n",
        "  XTX = X.T.dot(X)\n",
        "  XTX_inv = np.linalg.inv(XTX)\n",
        "  w_full = XTX_inv.dot(X.T).dot(y)\n",
        "\n",
        "  return w_full[0], w_full[1:]"
      ],
      "metadata": {
        "id": "Ux2YjGgnqWFm"
      },
      "execution_count": 2291,
      "outputs": []
    },
    {
      "cell_type": "markdown",
      "source": [
        "### Root Mean Squared Error (RMSE)\n",
        "\n",
        "![image.png](data:image/png;base64,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)"
      ],
      "metadata": {
        "id": "EeHtEbHlA_rq"
      }
    },
    {
      "cell_type": "code",
      "source": [
        "def rmse(y, y_pred):\n",
        "  error = y - y_pred\n",
        "  se = error ** 2\n",
        "  mse = se.mean()\n",
        "  return np.sqrt(mse)"
      ],
      "metadata": {
        "id": "UP08kTAb2qZN"
      },
      "execution_count": 2292,
      "outputs": []
    },
    {
      "cell_type": "code",
      "source": [
        "base=df_train.columns   # all the columns!\n",
        "X_train = df_train[base].values # Extract the values from the columns in the \n",
        "# base array; stored as X_train."
      ],
      "metadata": {
        "id": "ZR-U9CA-rN0e"
      },
      "execution_count": 2293,
      "outputs": []
    },
    {
      "cell_type": "code",
      "source": [
        "df_train[base].isnull().sum() # Show number of null values in base columns."
      ],
      "metadata": {
        "colab": {
          "base_uri": "https://localhost:8080/"
        },
        "id": "7Y3saQF3xjtd",
        "outputId": "a0705361-49b4-496f-c167-ff6798286a3f"
      },
      "execution_count": 2294,
      "outputs": [
        {
          "output_type": "execute_result",
          "data": {
            "text/plain": [
              "longitude               0\n",
              "latitude                0\n",
              "housing_median_age      0\n",
              "total_rooms             0\n",
              "total_bedrooms        120\n",
              "population              0\n",
              "households              0\n",
              "median_income           0\n",
              "dtype: int64"
            ]
          },
          "metadata": {},
          "execution_count": 2294
        }
      ]
    },
    {
      "cell_type": "code",
      "source": [
        "df_train[base].fillna(0).isnull().sum() # Fill the null values with 0; "
      ],
      "metadata": {
        "id": "Vq4ZayCC7d5X",
        "colab": {
          "base_uri": "https://localhost:8080/"
        },
        "outputId": "4a0b64d5-e1a8-4e01-bce1-ef0248723444"
      },
      "execution_count": 2295,
      "outputs": [
        {
          "output_type": "execute_result",
          "data": {
            "text/plain": [
              "longitude             0\n",
              "latitude              0\n",
              "housing_median_age    0\n",
              "total_rooms           0\n",
              "total_bedrooms        0\n",
              "population            0\n",
              "households            0\n",
              "median_income         0\n",
              "dtype: int64"
            ]
          },
          "metadata": {},
          "execution_count": 2295
        }
      ]
    },
    {
      "cell_type": "code",
      "source": [
        "df_train[base].isnull().sum() # Show number of null values in base columns."
      ],
      "metadata": {
        "colab": {
          "base_uri": "https://localhost:8080/"
        },
        "id": "DTVW0Kh9bqpP",
        "outputId": "10a1112f-4204-40ea-f55e-5153e3718e2f"
      },
      "execution_count": 2296,
      "outputs": [
        {
          "output_type": "execute_result",
          "data": {
            "text/plain": [
              "longitude               0\n",
              "latitude                0\n",
              "housing_median_age      0\n",
              "total_rooms             0\n",
              "total_bedrooms        120\n",
              "population              0\n",
              "households              0\n",
              "median_income           0\n",
              "dtype: int64"
            ]
          },
          "metadata": {},
          "execution_count": 2296
        }
      ]
    },
    {
      "cell_type": "code",
      "source": [
        "X_train = df_train[base].fillna(0).values # Fill the null values with 0; "
      ],
      "metadata": {
        "id": "zSeT_4WV0Mu9"
      },
      "execution_count": 2297,
      "outputs": []
    },
    {
      "cell_type": "code",
      "source": [
        "w_0, w = train_linear_regression(X_train, y_train) # train_linear_regression to X_train and y_train.\n",
        "w_0, w # Display w_0, w"
      ],
      "metadata": {
        "colab": {
          "base_uri": "https://localhost:8080/"
        },
        "id": "6KIFZYWOyNce",
        "outputId": "01152a7d-6a6e-4e1b-9c00-96904401d013"
      },
      "execution_count": 2298,
      "outputs": [
        {
          "output_type": "execute_result",
          "data": {
            "text/plain": [
              "(-11.459046830736924,\n",
              " array([-2.71952929e-01, -2.75473134e-01,  3.50529910e-03, -2.12042190e-05,\n",
              "         2.45387880e-04, -1.59763554e-04,  4.25106023e-04,  1.75592490e-01]))"
            ]
          },
          "metadata": {},
          "execution_count": 2298
        }
      ]
    },
    {
      "cell_type": "code",
      "source": [
        "y_pred = w_0 + X_train.dot(w) # Establish the prediction for y; store as y_pred\n",
        "y_pred # Display y_pred"
      ],
      "metadata": {
        "colab": {
          "base_uri": "https://localhost:8080/"
        },
        "id": "3ua8e-yRyPLI",
        "outputId": "818d24e0-5ab2-439f-d33b-239fa66ad67b"
      },
      "execution_count": 2299,
      "outputs": [
        {
          "output_type": "stream",
          "name": "stderr",
          "text": [
            "/usr/local/lib/python3.7/dist-packages/IPython/core/displayhook.py:276: UserWarning: Output cache limit (currently 1000 entries) hit.\n",
            "Flushing oldest 200 entries.\n",
            "  'Flushing oldest {cull_count} entries.'.format(sz=sz, cull_count=cull_count))\n"
          ]
        },
        {
          "output_type": "execute_result",
          "data": {
            "text/plain": [
              "array([11.88500837, 12.47922825, 11.7708172 , ..., 11.91220324,\n",
              "       12.32143727, 12.10389694])"
            ]
          },
          "metadata": {},
          "execution_count": 2299
        }
      ]
    },
    {
      "cell_type": "code",
      "source": [
        "sns.histplot(y_pred, color = 'red', alpha = 0.5, bins = 50)\n",
        "sns.histplot(y_train, color = 'blue', alpha = 0.5, bins = 50)"
      ],
      "metadata": {
        "colab": {
          "base_uri": "https://localhost:8080/",
          "height": 282
        },
        "id": "h2zQ8doo03KL",
        "outputId": "9cf3b440-56e5-4dab-dd56-282bfc6df28b"
      },
      "execution_count": 2300,
      "outputs": [
        {
          "output_type": "execute_result",
          "data": {
            "text/plain": [
              "<matplotlib.axes._subplots.AxesSubplot at 0x7f62efbfc490>"
            ]
          },
          "metadata": {},
          "execution_count": 2300
        },
        {
          "output_type": "display_data",
          "data": {
            "text/plain": [
              "<Figure size 432x288 with 1 Axes>"
            ],
            "image/png": "[encoded data removed]"
          },
          "metadata": {
            "needs_background": "light"
          }
        }
      ]
    },
    {
      "cell_type": "markdown",
      "source": [],
      "metadata": {
        "id": "qDKBoC6J2eja"
      }
    },
    {
      "cell_type": "code",
      "source": [
        "score=rmse(y_train, y_pred)\n",
        "round(score, 2)"
      ],
      "metadata": {
        "colab": {
          "base_uri": "https://localhost:8080/"
        },
        "id": "YneRNl3Z2r2N",
        "outputId": "6b3ddb60-21ce-4692-ab8a-7368efc24f55"
      },
      "execution_count": 2301,
      "outputs": [
        {
          "output_type": "execute_result",
          "data": {
            "text/plain": [
              "0.34"
            ]
          },
          "metadata": {},
          "execution_count": 2301
        }
      ]
    },
    {
      "cell_type": "code",
      "source": [
        "X_val= df_val\n",
        "y_pred = w_0 + X_val.dot(w) # Establish the prediction for y; store as y_pred\n",
        "y_pred # Display y_pred"
      ],
      "metadata": {
        "colab": {
          "base_uri": "https://localhost:8080/"
        },
        "id": "KhGSLDIcVtS0",
        "outputId": "39bc8573-c1ea-4e6e-8500-70b859e462b7"
      },
      "execution_count": 2302,
      "outputs": [
        {
          "output_type": "execute_result",
          "data": {
            "text/plain": [
              "0       12.228937\n",
              "1       11.513921\n",
              "2       11.902387\n",
              "3       11.916444\n",
              "4       11.825026\n",
              "          ...    \n",
              "4123    12.019470\n",
              "4124    12.623992\n",
              "4125    12.029391\n",
              "4126    13.222593\n",
              "4127    12.618014\n",
              "Length: 4128, dtype: float64"
            ]
          },
          "metadata": {},
          "execution_count": 2302
        }
      ]
    },
    {
      "cell_type": "markdown",
      "source": [
        "Computing RMSE on Validation Data"
      ],
      "metadata": {
        "id": "Z6AxIzu-VadI"
      }
    },
    {
      "cell_type": "code",
      "source": [
        "score=rmse(y_val, y_pred)\n",
        "round(score, 2)"
      ],
      "metadata": {
        "colab": {
          "base_uri": "https://localhost:8080/"
        },
        "id": "nGETvNRvVv8c",
        "outputId": "4ff5682f-9c58-4c15-b3a4-a5e52974bd41"
      },
      "execution_count": 2303,
      "outputs": [
        {
          "output_type": "execute_result",
          "data": {
            "text/plain": [
              "0.34"
            ]
          },
          "metadata": {},
          "execution_count": 2303
        }
      ]
    },
    {
      "cell_type": "code",
      "source": [
        "X_train = df_train[base].fillna(df_train.total_bedrooms.mean()).values # Set X_train to equal the matrix with df_train.total_bedrooms.mean()"
      ],
      "metadata": {
        "id": "eY0Mv5p3MPoY"
      },
      "execution_count": 2304,
      "outputs": []
    },
    {
      "cell_type": "code",
      "source": [
        "w_0, w = train_linear_regression(X_train, y_train) # train_linear_regression to X_train and y_train.\n",
        "w_0, w # Display w_0, w"
      ],
      "metadata": {
        "colab": {
          "base_uri": "https://localhost:8080/"
        },
        "outputId": "b3c9a97d-941d-4a25-92ff-1566be106dbf",
        "id": "-zrXjGodMPon"
      },
      "execution_count": 2305,
      "outputs": [
        {
          "output_type": "execute_result",
          "data": {
            "text/plain": [
              "(-11.536506897811847,\n",
              " array([-2.72570424e-01, -2.75616980e-01,  3.52570545e-03, -2.67676937e-05,\n",
              "         3.39395770e-04, -1.56220761e-04,  3.44185645e-04,  1.77225434e-01]))"
            ]
          },
          "metadata": {},
          "execution_count": 2305
        }
      ]
    },
    {
      "cell_type": "code",
      "source": [
        "y_pred = w_0 + X_train.dot(w) # Establish the prediction for y; store as y_pred\n",
        "y_pred # Display y_pred"
      ],
      "metadata": {
        "colab": {
          "base_uri": "https://localhost:8080/"
        },
        "outputId": "703751c6-ce3f-45ec-f7a7-510235a4dd55",
        "id": "Aj5PIzjgMPon"
      },
      "execution_count": 2306,
      "outputs": [
        {
          "output_type": "execute_result",
          "data": {
            "text/plain": [
              "array([11.88216594, 12.47191973, 11.78594943, ..., 11.91731163,\n",
              "       12.31670064, 12.10249418])"
            ]
          },
          "metadata": {},
          "execution_count": 2306
        }
      ]
    },
    {
      "cell_type": "code",
      "source": [
        "sns.histplot(y_pred, color = 'red', alpha = 0.5, bins = 50)\n",
        "sns.histplot(y_train, color = 'blue', alpha = 0.5, bins = 50)"
      ],
      "metadata": {
        "colab": {
          "base_uri": "https://localhost:8080/",
          "height": 282
        },
        "outputId": "e7746667-0efd-439e-fddf-61178d21d56f",
        "id": "sqA919BmMPoo"
      },
      "execution_count": 2307,
      "outputs": [
        {
          "output_type": "execute_result",
          "data": {
            "text/plain": [
              "<matplotlib.axes._subplots.AxesSubplot at 0x7f62f1149410>"
            ]
          },
          "metadata": {},
          "execution_count": 2307
        },
        {
          "output_type": "display_data",
          "data": {
            "text/plain": [
              "<Figure size 432x288 with 1 Axes>"
            ],
            "image/png": "[encoded data removed]"
          },
          "metadata": {
            "needs_background": "light"
          }
        }
      ]
    },
    {
      "cell_type": "markdown",
      "source": [
        "Computing RMSE on Validation Data"
      ],
      "metadata": {
        "id": "3YRANmnfZYdi"
      }
    },
    {
      "cell_type": "code",
      "source": [
        "score=rmse(y_train, y_pred)\n",
        "round(score, 2)"
      ],
      "metadata": {
        "colab": {
          "base_uri": "https://localhost:8080/"
        },
        "outputId": "13b828bf-92f1-479e-f576-101bcf065a95",
        "id": "lRtGlS6LMPoo"
      },
      "execution_count": 2308,
      "outputs": [
        {
          "output_type": "execute_result",
          "data": {
            "text/plain": [
              "0.34"
            ]
          },
          "metadata": {},
          "execution_count": 2308
        }
      ]
    },
    {
      "cell_type": "code",
      "source": [
        "y_pred = w_0 + X_val.dot(w) # Establish the prediction for y; store as y_pred\n",
        "y_pred # Display y_pred"
      ],
      "metadata": {
        "colab": {
          "base_uri": "https://localhost:8080/"
        },
        "outputId": "b198abb8-06fd-4249-d084-b19fcc5eff73",
        "id": "C5zDPMStaELL"
      },
      "execution_count": 2309,
      "outputs": [
        {
          "output_type": "execute_result",
          "data": {
            "text/plain": [
              "0       12.225053\n",
              "1       11.511785\n",
              "2       11.902708\n",
              "3       11.918452\n",
              "4       11.824855\n",
              "          ...    \n",
              "4123    12.016672\n",
              "4124    12.620597\n",
              "4125    12.028729\n",
              "4126    13.218688\n",
              "4127    12.618445\n",
              "Length: 4128, dtype: float64"
            ]
          },
          "metadata": {},
          "execution_count": 2309
        }
      ]
    },
    {
      "cell_type": "code",
      "source": [
        "score=rmse(y_val, y_pred)\n",
        "round(score, 2)"
      ],
      "metadata": {
        "colab": {
          "base_uri": "https://localhost:8080/"
        },
        "outputId": "ea8231f8-23ee-492e-b941-22f701705a8c",
        "id": "LFdJQlgVZYdw"
      },
      "execution_count": 2310,
      "outputs": [
        {
          "output_type": "execute_result",
          "data": {
            "text/plain": [
              "0.34"
            ]
          },
          "metadata": {},
          "execution_count": 2310
        }
      ]
    },
    {
      "cell_type": "markdown",
      "source": [
        "## Training with Regularization"
      ],
      "metadata": {
        "id": "VkMI8_Xza-F8"
      }
    },
    {
      "cell_type": "code",
      "source": [
        "def train_linear_regression_reg(X, y, r=0.001):\n",
        "    ones = np.ones(X.shape[0])\n",
        "    X = np.column_stack([ones, X])\n",
        "\n",
        "    XTX = X.T.dot(X)\n",
        "    XTX = XTX + r * np.eye(XTX.shape[0])\n",
        "\n",
        "    XTX_inv = np.linalg.inv(XTX)\n",
        "    w_full = XTX_inv.dot(X.T).dot(y)\n",
        "    \n",
        "    return w_full[0], w_full[1:]"
      ],
      "metadata": {
        "id": "_42rljZWa-Lf"
      },
      "execution_count": 2311,
      "outputs": []
    },
    {
      "cell_type": "code",
      "source": [
        "X_train = df_train[base].fillna(0).values # Fill the null values with 0; \n",
        "w0, w = train_linear_regression_reg(X_train, y_train, r=0.001)   # try this with different values of r: [0, 0.000001, 0.0001, 0.001, 0.01, 0.1, 1, 5, 10]\n",
        "w_0, w # Display w_0, w\n"
      ],
      "metadata": {
        "colab": {
          "base_uri": "https://localhost:8080/"
        },
        "id": "yX2MY8MGbGmn",
        "outputId": "7ecb389c-a7a8-4988-f1ac-7accfea620a7"
      },
      "execution_count": 2312,
      "outputs": [
        {
          "output_type": "execute_result",
          "data": {
            "text/plain": [
              "(-11.536506897811847,\n",
              " array([-2.71778569e-01, -2.75326193e-01,  3.50802773e-03, -2.12363109e-05,\n",
              "         2.45309266e-04, -1.59771016e-04,  4.25407288e-04,  1.75615843e-01]))"
            ]
          },
          "metadata": {},
          "execution_count": 2312
        }
      ]
    },
    {
      "cell_type": "code",
      "source": [
        "y_pred = w_0 + X_train.dot(w) # Establish the prediction for y; store as y_pred\n",
        "score=rmse(y_train, y_pred)\n",
        "round(score, 2)"
      ],
      "metadata": {
        "colab": {
          "base_uri": "https://localhost:8080/"
        },
        "id": "aJy2Q_b0dsqF",
        "outputId": "5e68bf71-389c-4559-d680-4bb1525dfa67"
      },
      "execution_count": 2313,
      "outputs": [
        {
          "output_type": "execute_result",
          "data": {
            "text/plain": [
              "0.35"
            ]
          },
          "metadata": {},
          "execution_count": 2313
        }
      ]
    },
    {
      "cell_type": "code",
      "source": [
        "X_val = df_val\n",
        "y_pred = w0 + X_val.dot(w)\n",
        "score=rmse(y_val, y_pred)\n",
        "round(score, 2)\n",
        "score"
      ],
      "metadata": {
        "colab": {
          "base_uri": "https://localhost:8080/"
        },
        "id": "6_gwON7jc_SQ",
        "outputId": "98cb1bce-727b-4633-e352-8a82cfce73c6"
      },
      "execution_count": 2314,
      "outputs": [
        {
          "output_type": "execute_result",
          "data": {
            "text/plain": [
              "0.33643935683943593"
            ]
          },
          "metadata": {},
          "execution_count": 2314
        }
      ]
    },
    {
      "cell_type": "markdown",
      "source": [
        "QUESTION 5: Done manually. Try different seed values: [0, 1, 2, 3, 4, 5, 6, 7, 8, 9]. What's the standard deviation of all the scores? "
      ],
      "metadata": {
        "id": "4WLdAbC-eOfC"
      }
    },
    {
      "cell_type": "code",
      "source": [
        "seed_values= [0.3387260444301708, 0.33551657962849096, 0.33213247475742275, 0.3397317491656067, 0.33915609412007847, 0.34407605369651484, 0.3455328210096511, 0.3382829930487373, 0.34652114233541337, 0.33643935683943593]\n",
        "\n",
        "\n",
        "np.std (seed_values)"
      ],
      "metadata": {
        "colab": {
          "base_uri": "https://localhost:8080/"
        },
        "id": "Pu2EhXapeadh",
        "outputId": "5a89f2da-65cb-4634-af99-ed63778e9605"
      },
      "execution_count": 2315,
      "outputs": [
        {
          "output_type": "execute_result",
          "data": {
            "text/plain": [
              "0.004339066025360739"
            ]
          },
          "metadata": {},
          "execution_count": 2315
        }
      ]
    }
  ]
}