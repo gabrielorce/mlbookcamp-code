{
  "nbformat": 4,
  "nbformat_minor": 0,
  "metadata": {
    "colab": {
      "provenance": [],
      "collapsed_sections": [
        "6uNKe-91EgGN"
      ]
    },
    "kernelspec": {
      "name": "python3",
      "display_name": "Python 3"
    },
    "language_info": {
      "name": "python"
    }
  },
  "cells": [
    {
      "cell_type": "code",
      "execution_count": 223,
      "metadata": {
        "id": "0b-Rjx8yqf4H"
      },
      "outputs": [],
      "source": [
        "import pandas as pd\n",
        "import numpy as np\n",
        "\n",
        "from sklearn.model_selection import train_test_split\n",
        "from sklearn.metrics import mutual_info_score\n",
        "from sklearn.feature_extraction import DictVectorizer\n",
        "from sklearn.linear_model import LogisticRegression\n",
        "from sklearn.metrics import accuracy_score\n",
        "\n",
        "\n",
        "import seaborn as sns\n",
        "from matplotlib import pyplot as plt\n",
        "%matplotlib inline"
      ]
    },
    {
      "cell_type": "code",
      "source": [
        "# Input the data from the URL.\n",
        "data = \"https://raw.githubusercontent.com/alexeygrigorev/datasets/master/housing.csv\"\n",
        "!wget $data # Get the data."
      ],
      "metadata": {
        "colab": {
          "base_uri": "https://localhost:8080/"
        },
        "id": "XmLljhNDqoLt",
        "outputId": "a5d237ba-8766-4667-cfdf-bbe748863da6"
      },
      "execution_count": 170,
      "outputs": [
        {
          "output_type": "stream",
          "name": "stdout",
          "text": [
            "--2022-09-27 19:52:35--  https://raw.githubusercontent.com/alexeygrigorev/datasets/master/housing.csv\n",
            "Resolving raw.githubusercontent.com (raw.githubusercontent.com)... 185.199.108.133, 185.199.109.133, 185.199.110.133, ...\n",
            "Connecting to raw.githubusercontent.com (raw.githubusercontent.com)|185.199.108.133|:443... connected.\n",
            "HTTP request sent, awaiting response... 200 OK\n",
            "Length: 1423529 (1.4M) [text/plain]\n",
            "Saving to: ‘housing.csv.3’\n",
            "\n",
            "housing.csv.3       100%[===================>]   1.36M  --.-KB/s    in 0.03s   \n",
            "\n",
            "2022-09-27 19:52:36 (39.0 MB/s) - ‘housing.csv.3’ saved [1423529/1423529]\n",
            "\n"
          ]
        }
      ]
    },
    {
      "cell_type": "code",
      "source": [
        "df = pd.read_csv('housing.csv')\n",
        "df.head()"
      ],
      "metadata": {
        "colab": {
          "base_uri": "https://localhost:8080/",
          "height": 206
        },
        "id": "DoB_1ashqqnp",
        "outputId": "d41c0482-8654-40fd-ca6c-1f61996e3d4c"
      },
      "execution_count": 171,
      "outputs": [
        {
          "output_type": "execute_result",
          "data": {
            "text/plain": [
              "   longitude  latitude  housing_median_age  total_rooms  total_bedrooms  \\\n",
              "0    -122.23     37.88                41.0        880.0           129.0   \n",
              "1    -122.22     37.86                21.0       7099.0          1106.0   \n",
              "2    -122.24     37.85                52.0       1467.0           190.0   \n",
              "3    -122.25     37.85                52.0       1274.0           235.0   \n",
              "4    -122.25     37.85                52.0       1627.0           280.0   \n",
              "\n",
              "   population  households  median_income  median_house_value ocean_proximity  \n",
              "0       322.0       126.0         8.3252            452600.0        NEAR BAY  \n",
              "1      2401.0      1138.0         8.3014            358500.0        NEAR BAY  \n",
              "2       496.0       177.0         7.2574            352100.0        NEAR BAY  \n",
              "3       558.0       219.0         5.6431            341300.0        NEAR BAY  \n",
              "4       565.0       259.0         3.8462            342200.0        NEAR BAY  "
            ],
            "text/html": [
              "\n",
              "  <div id=\"df-fc051865-47d4-458f-bbcc-c6e19d40ea4f\">\n",
              "    <div class=\"colab-df-container\">\n",
              "      <div>\n",
              "<style scoped>\n",
              "    .dataframe tbody tr th:only-of-type {\n",
              "        vertical-align: middle;\n",
              "    }\n",
              "\n",
              "    .dataframe tbody tr th {\n",
              "        vertical-align: top;\n",
              "    }\n",
              "\n",
              "    .dataframe thead th {\n",
              "        text-align: right;\n",
              "    }\n",
              "</style>\n",
              "<table border=\"1\" class=\"dataframe\">\n",
              "  <thead>\n",
              "    <tr style=\"text-align: right;\">\n",
              "      <th></th>\n",
              "      <th>longitude</th>\n",
              "      <th>latitude</th>\n",
              "      <th>housing_median_age</th>\n",
              "      <th>total_rooms</th>\n",
              "      <th>total_bedrooms</th>\n",
              "      <th>population</th>\n",
              "      <th>households</th>\n",
              "      <th>median_income</th>\n",
              "      <th>median_house_value</th>\n",
              "      <th>ocean_proximity</th>\n",
              "    </tr>\n",
              "  </thead>\n",
              "  <tbody>\n",
              "    <tr>\n",
              "      <th>0</th>\n",
              "      <td>-122.23</td>\n",
              "      <td>37.88</td>\n",
              "      <td>41.0</td>\n",
              "      <td>880.0</td>\n",
              "      <td>129.0</td>\n",
              "      <td>322.0</td>\n",
              "      <td>126.0</td>\n",
              "      <td>8.3252</td>\n",
              "      <td>452600.0</td>\n",
              "      <td>NEAR BAY</td>\n",
              "    </tr>\n",
              "    <tr>\n",
              "      <th>1</th>\n",
              "      <td>-122.22</td>\n",
              "      <td>37.86</td>\n",
              "      <td>21.0</td>\n",
              "      <td>7099.0</td>\n",
              "      <td>1106.0</td>\n",
              "      <td>2401.0</td>\n",
              "      <td>1138.0</td>\n",
              "      <td>8.3014</td>\n",
              "      <td>358500.0</td>\n",
              "      <td>NEAR BAY</td>\n",
              "    </tr>\n",
              "    <tr>\n",
              "      <th>2</th>\n",
              "      <td>-122.24</td>\n",
              "      <td>37.85</td>\n",
              "      <td>52.0</td>\n",
              "      <td>1467.0</td>\n",
              "      <td>190.0</td>\n",
              "      <td>496.0</td>\n",
              "      <td>177.0</td>\n",
              "      <td>7.2574</td>\n",
              "      <td>352100.0</td>\n",
              "      <td>NEAR BAY</td>\n",
              "    </tr>\n",
              "    <tr>\n",
              "      <th>3</th>\n",
              "      <td>-122.25</td>\n",
              "      <td>37.85</td>\n",
              "      <td>52.0</td>\n",
              "      <td>1274.0</td>\n",
              "      <td>235.0</td>\n",
              "      <td>558.0</td>\n",
              "      <td>219.0</td>\n",
              "      <td>5.6431</td>\n",
              "      <td>341300.0</td>\n",
              "      <td>NEAR BAY</td>\n",
              "    </tr>\n",
              "    <tr>\n",
              "      <th>4</th>\n",
              "      <td>-122.25</td>\n",
              "      <td>37.85</td>\n",
              "      <td>52.0</td>\n",
              "      <td>1627.0</td>\n",
              "      <td>280.0</td>\n",
              "      <td>565.0</td>\n",
              "      <td>259.0</td>\n",
              "      <td>3.8462</td>\n",
              "      <td>342200.0</td>\n",
              "      <td>NEAR BAY</td>\n",
              "    </tr>\n",
              "  </tbody>\n",
              "</table>\n",
              "</div>\n",
              "      <button class=\"colab-df-convert\" onclick=\"convertToInteractive('df-fc051865-47d4-458f-bbcc-c6e19d40ea4f')\"\n",
              "              title=\"Convert this dataframe to an interactive table.\"\n",
              "              style=\"display:none;\">\n",
              "        \n",
              "  <svg xmlns=\"http://www.w3.org/2000/svg\" height=\"24px\"viewBox=\"0 0 24 24\"\n",
              "       width=\"24px\">\n",
              "    <path d=\"M0 0h24v24H0V0z\" fill=\"none\"/>\n",
              "    <path d=\"M18.56 5.44l.94 2.06.94-2.06 2.06-.94-2.06-.94-.94-2.06-.94 2.06-2.06.94zm-11 1L8.5 8.5l.94-2.06 2.06-.94-2.06-.94L8.5 2.5l-.94 2.06-2.06.94zm10 10l.94 2.06.94-2.06 2.06-.94-2.06-.94-.94-2.06-.94 2.06-2.06.94z\"/><path d=\"M17.41 7.96l-1.37-1.37c-.4-.4-.92-.59-1.43-.59-.52 0-1.04.2-1.43.59L10.3 9.45l-7.72 7.72c-.78.78-.78 2.05 0 2.83L4 21.41c.39.39.9.59 1.41.59.51 0 1.02-.2 1.41-.59l7.78-7.78 2.81-2.81c.8-.78.8-2.07 0-2.86zM5.41 20L4 18.59l7.72-7.72 1.47 1.35L5.41 20z\"/>\n",
              "  </svg>\n",
              "      </button>\n",
              "      \n",
              "  <style>\n",
              "    .colab-df-container {\n",
              "      display:flex;\n",
              "      flex-wrap:wrap;\n",
              "      gap: 12px;\n",
              "    }\n",
              "\n",
              "    .colab-df-convert {\n",
              "      background-color: #E8F0FE;\n",
              "      border: none;\n",
              "      border-radius: 50%;\n",
              "      cursor: pointer;\n",
              "      display: none;\n",
              "      fill: #1967D2;\n",
              "      height: 32px;\n",
              "      padding: 0 0 0 0;\n",
              "      width: 32px;\n",
              "    }\n",
              "\n",
              "    .colab-df-convert:hover {\n",
              "      background-color: #E2EBFA;\n",
              "      box-shadow: 0px 1px 2px rgba(60, 64, 67, 0.3), 0px 1px 3px 1px rgba(60, 64, 67, 0.15);\n",
              "      fill: #174EA6;\n",
              "    }\n",
              "\n",
              "    [theme=dark] .colab-df-convert {\n",
              "      background-color: #3B4455;\n",
              "      fill: #D2E3FC;\n",
              "    }\n",
              "\n",
              "    [theme=dark] .colab-df-convert:hover {\n",
              "      background-color: #434B5C;\n",
              "      box-shadow: 0px 1px 3px 1px rgba(0, 0, 0, 0.15);\n",
              "      filter: drop-shadow(0px 1px 2px rgba(0, 0, 0, 0.3));\n",
              "      fill: #FFFFFF;\n",
              "    }\n",
              "  </style>\n",
              "\n",
              "      <script>\n",
              "        const buttonEl =\n",
              "          document.querySelector('#df-fc051865-47d4-458f-bbcc-c6e19d40ea4f button.colab-df-convert');\n",
              "        buttonEl.style.display =\n",
              "          google.colab.kernel.accessAllowed ? 'block' : 'none';\n",
              "\n",
              "        async function convertToInteractive(key) {\n",
              "          const element = document.querySelector('#df-fc051865-47d4-458f-bbcc-c6e19d40ea4f');\n",
              "          const dataTable =\n",
              "            await google.colab.kernel.invokeFunction('convertToInteractive',\n",
              "                                                     [key], {});\n",
              "          if (!dataTable) return;\n",
              "\n",
              "          const docLinkHtml = 'Like what you see? Visit the ' +\n",
              "            '<a target=\"_blank\" href=https://colab.research.google.com/notebooks/data_table.ipynb>data table notebook</a>'\n",
              "            + ' to learn more about interactive tables.';\n",
              "          element.innerHTML = '';\n",
              "          dataTable['output_type'] = 'display_data';\n",
              "          await google.colab.output.renderOutput(dataTable, element);\n",
              "          const docLink = document.createElement('div');\n",
              "          docLink.innerHTML = docLinkHtml;\n",
              "          element.appendChild(docLink);\n",
              "        }\n",
              "      </script>\n",
              "    </div>\n",
              "  </div>\n",
              "  "
            ]
          },
          "metadata": {},
          "execution_count": 171
        }
      ]
    },
    {
      "cell_type": "code",
      "source": [
        "df.dtypes"
      ],
      "metadata": {
        "colab": {
          "base_uri": "https://localhost:8080/"
        },
        "id": "PtF3184z2xSb",
        "outputId": "15920c98-e8a3-48f0-fcb5-aa4e98ad2384"
      },
      "execution_count": 172,
      "outputs": [
        {
          "output_type": "execute_result",
          "data": {
            "text/plain": [
              "longitude             float64\n",
              "latitude              float64\n",
              "housing_median_age    float64\n",
              "total_rooms           float64\n",
              "total_bedrooms        float64\n",
              "population            float64\n",
              "households            float64\n",
              "median_income         float64\n",
              "median_house_value    float64\n",
              "ocean_proximity        object\n",
              "dtype: object"
            ]
          },
          "metadata": {},
          "execution_count": 172
        }
      ]
    },
    {
      "cell_type": "code",
      "source": [
        "df.columns"
      ],
      "metadata": {
        "colab": {
          "base_uri": "https://localhost:8080/"
        },
        "id": "E2iMmjDCtO2L",
        "outputId": "be799607-1e6c-4e1d-b7db-87616eebb19c"
      },
      "execution_count": 173,
      "outputs": [
        {
          "output_type": "execute_result",
          "data": {
            "text/plain": [
              "Index(['longitude', 'latitude', 'housing_median_age', 'total_rooms',\n",
              "       'total_bedrooms', 'population', 'households', 'median_income',\n",
              "       'median_house_value', 'ocean_proximity'],\n",
              "      dtype='object')"
            ]
          },
          "metadata": {},
          "execution_count": 173
        }
      ]
    },
    {
      "cell_type": "code",
      "source": [
        "df.isnull().sum()"
      ],
      "metadata": {
        "colab": {
          "base_uri": "https://localhost:8080/"
        },
        "id": "pJBecF-DrIR4",
        "outputId": "45b6f0d9-63cf-4bc5-ca34-a2515b0d8ea7"
      },
      "execution_count": 174,
      "outputs": [
        {
          "output_type": "execute_result",
          "data": {
            "text/plain": [
              "longitude               0\n",
              "latitude                0\n",
              "housing_median_age      0\n",
              "total_rooms             0\n",
              "total_bedrooms        207\n",
              "population              0\n",
              "households              0\n",
              "median_income           0\n",
              "median_house_value      0\n",
              "ocean_proximity         0\n",
              "dtype: int64"
            ]
          },
          "metadata": {},
          "execution_count": 174
        }
      ]
    },
    {
      "cell_type": "code",
      "source": [
        "df.total_bedrooms=df['total_bedrooms'].fillna(0)"
      ],
      "metadata": {
        "id": "SQJc1ijhvfBO"
      },
      "execution_count": 175,
      "outputs": []
    },
    {
      "cell_type": "code",
      "source": [
        "df.isnull().sum()"
      ],
      "metadata": {
        "colab": {
          "base_uri": "https://localhost:8080/"
        },
        "id": "Z63Gq-gEvmcx",
        "outputId": "6e7b4203-6b33-4baf-9494-7254cc9e0ec1"
      },
      "execution_count": 176,
      "outputs": [
        {
          "output_type": "execute_result",
          "data": {
            "text/plain": [
              "longitude             0\n",
              "latitude              0\n",
              "housing_median_age    0\n",
              "total_rooms           0\n",
              "total_bedrooms        0\n",
              "population            0\n",
              "households            0\n",
              "median_income         0\n",
              "median_house_value    0\n",
              "ocean_proximity       0\n",
              "dtype: int64"
            ]
          },
          "metadata": {},
          "execution_count": 176
        }
      ]
    },
    {
      "cell_type": "markdown",
      "source": [
        "## Data Preparation\n",
        "- Create a new column rooms_per_household by dividing the column total_rooms by the column households from dataframe.\n",
        "- Create a new column bedrooms_per_room by dividing the column total_bedrooms by the column total_rooms from dataframe.\n",
        "- Create a new column population_per_household by dividing the column population by the column households from dataframe."
      ],
      "metadata": {
        "id": "6fh0CEi3sz_b"
      }
    },
    {
      "cell_type": "code",
      "source": [
        "df['rooms_per_household'] =df.total_rooms/df.households \n",
        "df['bedrooms_per_room'] =df.total_bedrooms/df.total_rooms \n",
        "df['population_per_household'] =df.population/df.households "
      ],
      "metadata": {
        "id": "7vKEkDRjrXRQ"
      },
      "execution_count": 177,
      "outputs": []
    },
    {
      "cell_type": "code",
      "source": [
        "df.head().T"
      ],
      "metadata": {
        "colab": {
          "base_uri": "https://localhost:8080/",
          "height": 457
        },
        "id": "VFmNNsUPrsvZ",
        "outputId": "c808326f-62de-43a7-9974-7bf7c1753bb3"
      },
      "execution_count": 178,
      "outputs": [
        {
          "output_type": "execute_result",
          "data": {
            "text/plain": [
              "                                 0         1         2         3         4\n",
              "longitude                  -122.23   -122.22   -122.24   -122.25   -122.25\n",
              "latitude                     37.88     37.86     37.85     37.85     37.85\n",
              "housing_median_age            41.0      21.0      52.0      52.0      52.0\n",
              "total_rooms                  880.0    7099.0    1467.0    1274.0    1627.0\n",
              "total_bedrooms               129.0    1106.0     190.0     235.0     280.0\n",
              "population                   322.0    2401.0     496.0     558.0     565.0\n",
              "households                   126.0    1138.0     177.0     219.0     259.0\n",
              "median_income               8.3252    8.3014    7.2574    5.6431    3.8462\n",
              "median_house_value        452600.0  358500.0  352100.0  341300.0  342200.0\n",
              "ocean_proximity           NEAR BAY  NEAR BAY  NEAR BAY  NEAR BAY  NEAR BAY\n",
              "rooms_per_household       6.984127  6.238137  8.288136  5.817352  6.281853\n",
              "bedrooms_per_room         0.146591  0.155797  0.129516  0.184458  0.172096\n",
              "population_per_household  2.555556  2.109842   2.80226  2.547945  2.181467"
            ],
            "text/html": [
              "\n",
              "  <div id=\"df-bde662aa-65c7-485f-b948-5d2ec676bcf0\">\n",
              "    <div class=\"colab-df-container\">\n",
              "      <div>\n",
              "<style scoped>\n",
              "    .dataframe tbody tr th:only-of-type {\n",
              "        vertical-align: middle;\n",
              "    }\n",
              "\n",
              "    .dataframe tbody tr th {\n",
              "        vertical-align: top;\n",
              "    }\n",
              "\n",
              "    .dataframe thead th {\n",
              "        text-align: right;\n",
              "    }\n",
              "</style>\n",
              "<table border=\"1\" class=\"dataframe\">\n",
              "  <thead>\n",
              "    <tr style=\"text-align: right;\">\n",
              "      <th></th>\n",
              "      <th>0</th>\n",
              "      <th>1</th>\n",
              "      <th>2</th>\n",
              "      <th>3</th>\n",
              "      <th>4</th>\n",
              "    </tr>\n",
              "  </thead>\n",
              "  <tbody>\n",
              "    <tr>\n",
              "      <th>longitude</th>\n",
              "      <td>-122.23</td>\n",
              "      <td>-122.22</td>\n",
              "      <td>-122.24</td>\n",
              "      <td>-122.25</td>\n",
              "      <td>-122.25</td>\n",
              "    </tr>\n",
              "    <tr>\n",
              "      <th>latitude</th>\n",
              "      <td>37.88</td>\n",
              "      <td>37.86</td>\n",
              "      <td>37.85</td>\n",
              "      <td>37.85</td>\n",
              "      <td>37.85</td>\n",
              "    </tr>\n",
              "    <tr>\n",
              "      <th>housing_median_age</th>\n",
              "      <td>41.0</td>\n",
              "      <td>21.0</td>\n",
              "      <td>52.0</td>\n",
              "      <td>52.0</td>\n",
              "      <td>52.0</td>\n",
              "    </tr>\n",
              "    <tr>\n",
              "      <th>total_rooms</th>\n",
              "      <td>880.0</td>\n",
              "      <td>7099.0</td>\n",
              "      <td>1467.0</td>\n",
              "      <td>1274.0</td>\n",
              "      <td>1627.0</td>\n",
              "    </tr>\n",
              "    <tr>\n",
              "      <th>total_bedrooms</th>\n",
              "      <td>129.0</td>\n",
              "      <td>1106.0</td>\n",
              "      <td>190.0</td>\n",
              "      <td>235.0</td>\n",
              "      <td>280.0</td>\n",
              "    </tr>\n",
              "    <tr>\n",
              "      <th>population</th>\n",
              "      <td>322.0</td>\n",
              "      <td>2401.0</td>\n",
              "      <td>496.0</td>\n",
              "      <td>558.0</td>\n",
              "      <td>565.0</td>\n",
              "    </tr>\n",
              "    <tr>\n",
              "      <th>households</th>\n",
              "      <td>126.0</td>\n",
              "      <td>1138.0</td>\n",
              "      <td>177.0</td>\n",
              "      <td>219.0</td>\n",
              "      <td>259.0</td>\n",
              "    </tr>\n",
              "    <tr>\n",
              "      <th>median_income</th>\n",
              "      <td>8.3252</td>\n",
              "      <td>8.3014</td>\n",
              "      <td>7.2574</td>\n",
              "      <td>5.6431</td>\n",
              "      <td>3.8462</td>\n",
              "    </tr>\n",
              "    <tr>\n",
              "      <th>median_house_value</th>\n",
              "      <td>452600.0</td>\n",
              "      <td>358500.0</td>\n",
              "      <td>352100.0</td>\n",
              "      <td>341300.0</td>\n",
              "      <td>342200.0</td>\n",
              "    </tr>\n",
              "    <tr>\n",
              "      <th>ocean_proximity</th>\n",
              "      <td>NEAR BAY</td>\n",
              "      <td>NEAR BAY</td>\n",
              "      <td>NEAR BAY</td>\n",
              "      <td>NEAR BAY</td>\n",
              "      <td>NEAR BAY</td>\n",
              "    </tr>\n",
              "    <tr>\n",
              "      <th>rooms_per_household</th>\n",
              "      <td>6.984127</td>\n",
              "      <td>6.238137</td>\n",
              "      <td>8.288136</td>\n",
              "      <td>5.817352</td>\n",
              "      <td>6.281853</td>\n",
              "    </tr>\n",
              "    <tr>\n",
              "      <th>bedrooms_per_room</th>\n",
              "      <td>0.146591</td>\n",
              "      <td>0.155797</td>\n",
              "      <td>0.129516</td>\n",
              "      <td>0.184458</td>\n",
              "      <td>0.172096</td>\n",
              "    </tr>\n",
              "    <tr>\n",
              "      <th>population_per_household</th>\n",
              "      <td>2.555556</td>\n",
              "      <td>2.109842</td>\n",
              "      <td>2.80226</td>\n",
              "      <td>2.547945</td>\n",
              "      <td>2.181467</td>\n",
              "    </tr>\n",
              "  </tbody>\n",
              "</table>\n",
              "</div>\n",
              "      <button class=\"colab-df-convert\" onclick=\"convertToInteractive('df-bde662aa-65c7-485f-b948-5d2ec676bcf0')\"\n",
              "              title=\"Convert this dataframe to an interactive table.\"\n",
              "              style=\"display:none;\">\n",
              "        \n",
              "  <svg xmlns=\"http://www.w3.org/2000/svg\" height=\"24px\"viewBox=\"0 0 24 24\"\n",
              "       width=\"24px\">\n",
              "    <path d=\"M0 0h24v24H0V0z\" fill=\"none\"/>\n",
              "    <path d=\"M18.56 5.44l.94 2.06.94-2.06 2.06-.94-2.06-.94-.94-2.06-.94 2.06-2.06.94zm-11 1L8.5 8.5l.94-2.06 2.06-.94-2.06-.94L8.5 2.5l-.94 2.06-2.06.94zm10 10l.94 2.06.94-2.06 2.06-.94-2.06-.94-.94-2.06-.94 2.06-2.06.94z\"/><path d=\"M17.41 7.96l-1.37-1.37c-.4-.4-.92-.59-1.43-.59-.52 0-1.04.2-1.43.59L10.3 9.45l-7.72 7.72c-.78.78-.78 2.05 0 2.83L4 21.41c.39.39.9.59 1.41.59.51 0 1.02-.2 1.41-.59l7.78-7.78 2.81-2.81c.8-.78.8-2.07 0-2.86zM5.41 20L4 18.59l7.72-7.72 1.47 1.35L5.41 20z\"/>\n",
              "  </svg>\n",
              "      </button>\n",
              "      \n",
              "  <style>\n",
              "    .colab-df-container {\n",
              "      display:flex;\n",
              "      flex-wrap:wrap;\n",
              "      gap: 12px;\n",
              "    }\n",
              "\n",
              "    .colab-df-convert {\n",
              "      background-color: #E8F0FE;\n",
              "      border: none;\n",
              "      border-radius: 50%;\n",
              "      cursor: pointer;\n",
              "      display: none;\n",
              "      fill: #1967D2;\n",
              "      height: 32px;\n",
              "      padding: 0 0 0 0;\n",
              "      width: 32px;\n",
              "    }\n",
              "\n",
              "    .colab-df-convert:hover {\n",
              "      background-color: #E2EBFA;\n",
              "      box-shadow: 0px 1px 2px rgba(60, 64, 67, 0.3), 0px 1px 3px 1px rgba(60, 64, 67, 0.15);\n",
              "      fill: #174EA6;\n",
              "    }\n",
              "\n",
              "    [theme=dark] .colab-df-convert {\n",
              "      background-color: #3B4455;\n",
              "      fill: #D2E3FC;\n",
              "    }\n",
              "\n",
              "    [theme=dark] .colab-df-convert:hover {\n",
              "      background-color: #434B5C;\n",
              "      box-shadow: 0px 1px 3px 1px rgba(0, 0, 0, 0.15);\n",
              "      filter: drop-shadow(0px 1px 2px rgba(0, 0, 0, 0.3));\n",
              "      fill: #FFFFFF;\n",
              "    }\n",
              "  </style>\n",
              "\n",
              "      <script>\n",
              "        const buttonEl =\n",
              "          document.querySelector('#df-bde662aa-65c7-485f-b948-5d2ec676bcf0 button.colab-df-convert');\n",
              "        buttonEl.style.display =\n",
              "          google.colab.kernel.accessAllowed ? 'block' : 'none';\n",
              "\n",
              "        async function convertToInteractive(key) {\n",
              "          const element = document.querySelector('#df-bde662aa-65c7-485f-b948-5d2ec676bcf0');\n",
              "          const dataTable =\n",
              "            await google.colab.kernel.invokeFunction('convertToInteractive',\n",
              "                                                     [key], {});\n",
              "          if (!dataTable) return;\n",
              "\n",
              "          const docLinkHtml = 'Like what you see? Visit the ' +\n",
              "            '<a target=\"_blank\" href=https://colab.research.google.com/notebooks/data_table.ipynb>data table notebook</a>'\n",
              "            + ' to learn more about interactive tables.';\n",
              "          element.innerHTML = '';\n",
              "          dataTable['output_type'] = 'display_data';\n",
              "          await google.colab.output.renderOutput(dataTable, element);\n",
              "          const docLink = document.createElement('div');\n",
              "          docLink.innerHTML = docLinkHtml;\n",
              "          element.appendChild(docLink);\n",
              "        }\n",
              "      </script>\n",
              "    </div>\n",
              "  </div>\n",
              "  "
            ]
          },
          "metadata": {},
          "execution_count": 178
        }
      ]
    },
    {
      "cell_type": "markdown",
      "source": [
        "## Question 1\n",
        "What is the most frequent observation (mode) for the column ocean_proximity?"
      ],
      "metadata": {
        "id": "Fq3C3-rls-Mr"
      }
    },
    {
      "cell_type": "code",
      "source": [
        "df.ocean_proximity.mode()"
      ],
      "metadata": {
        "colab": {
          "base_uri": "https://localhost:8080/"
        },
        "id": "kdxHWKZrthtK",
        "outputId": "6ff49960-8263-4661-a38f-e1ecb23b6d1b"
      },
      "execution_count": 179,
      "outputs": [
        {
          "output_type": "execute_result",
          "data": {
            "text/plain": [
              "0    <1H OCEAN\n",
              "dtype: object"
            ]
          },
          "metadata": {},
          "execution_count": 179
        }
      ]
    },
    {
      "cell_type": "markdown",
      "source": [
        "## Question 2\n"
      ],
      "metadata": {
        "id": "Z-BTT-T3t5EU"
      }
    },
    {
      "cell_type": "markdown",
      "source": [
        "Create the correlation matrix for the numerical features of your train dataset.\n",
        "What are the two features that have the biggest correlation in this dataset?"
      ],
      "metadata": {
        "id": "r2jj9lpJuDAS"
      }
    },
    {
      "cell_type": "code",
      "source": [
        "numerical = ['longitude', 'longitude',  'total_rooms', 'total_bedrooms','population', 'households', 'median_income', 'median_house_value', 'rooms_per_household', 'bedrooms_per_room', 'population_per_household', 'housing_median_age']\n",
        "categorical = ['ocean_proximity']"
      ],
      "metadata": {
        "id": "VEqllPpexMta"
      },
      "execution_count": 180,
      "outputs": []
    },
    {
      "cell_type": "code",
      "source": [
        "df[numerical].corrwith(df.households).abs()\n"
      ],
      "metadata": {
        "colab": {
          "base_uri": "https://localhost:8080/"
        },
        "id": "1AlB0EdguCTh",
        "outputId": "ee60b531-0487-49f5-c6ce-baa23e561c0e"
      },
      "execution_count": 181,
      "outputs": [
        {
          "output_type": "execute_result",
          "data": {
            "text/plain": [
              "longitude                   0.055310\n",
              "longitude                   0.055310\n",
              "total_rooms                 0.918484\n",
              "total_bedrooms              0.966507\n",
              "population                  0.907222\n",
              "households                  1.000000\n",
              "median_income               0.013033\n",
              "median_house_value          0.065843\n",
              "rooms_per_household         0.080598\n",
              "bedrooms_per_room           0.059818\n",
              "population_per_household    0.027309\n",
              "housing_median_age          0.302916\n",
              "dtype: float64"
            ]
          },
          "metadata": {},
          "execution_count": 181
        }
      ]
    },
    {
      "cell_type": "code",
      "source": [
        "df[numerical].corrwith(df.total_rooms).abs()"
      ],
      "metadata": {
        "colab": {
          "base_uri": "https://localhost:8080/"
        },
        "id": "fBROpFUxzJSV",
        "outputId": "7a76cd6f-baf3-4f5d-bb2f-eb3f27d9f974"
      },
      "execution_count": 182,
      "outputs": [
        {
          "output_type": "execute_result",
          "data": {
            "text/plain": [
              "longitude                   0.044568\n",
              "longitude                   0.044568\n",
              "total_rooms                 1.000000\n",
              "total_bedrooms              0.920196\n",
              "population                  0.857126\n",
              "households                  0.918484\n",
              "median_income               0.198050\n",
              "median_house_value          0.134153\n",
              "rooms_per_household         0.133798\n",
              "bedrooms_per_room           0.174583\n",
              "population_per_household    0.024581\n",
              "housing_median_age          0.361262\n",
              "dtype: float64"
            ]
          },
          "metadata": {},
          "execution_count": 182
        }
      ]
    },
    {
      "cell_type": "markdown",
      "source": [
        "Options:\n",
        "\n",
        "- total_bedrooms and households\n",
        "- total_bedrooms and total_rooms\n",
        "- population and households\n",
        "- population_per_household and total_rooms"
      ],
      "metadata": {
        "id": "gWmwE5zVGH0P"
      }
    },
    {
      "cell_type": "markdown",
      "source": [
        "***Solution: total_bedrooms and households***"
      ],
      "metadata": {
        "id": "5L-W4QECGJcA"
      }
    },
    {
      "cell_type": "markdown",
      "source": [
        "Make median_house_value binary.\n",
        "\n",
        "\n",
        "Let's create a variable above_average which is 1 if the median_house_value is above its mean value and 0 otherwise."
      ],
      "metadata": {
        "id": "P1smLus6mgmT"
      }
    },
    {
      "cell_type": "code",
      "source": [
        "df.median_house_value.mean()"
      ],
      "metadata": {
        "colab": {
          "base_uri": "https://localhost:8080/"
        },
        "id": "TN1ohIfip2lG",
        "outputId": "4c1299d8-2f9b-4c84-f2ad-fd67fb9e93bd"
      },
      "execution_count": 183,
      "outputs": [
        {
          "output_type": "execute_result",
          "data": {
            "text/plain": [
              "206855.81690891474"
            ]
          },
          "metadata": {},
          "execution_count": 183
        }
      ]
    },
    {
      "cell_type": "code",
      "source": [
        "df['above_average'] = (df.median_house_value > df.median_house_value.mean()).astype(int)\n",
        "df['above_average'].value_counts(normalize=True)"
      ],
      "metadata": {
        "id": "6yixo3-JpPFb",
        "colab": {
          "base_uri": "https://localhost:8080/"
        },
        "outputId": "0bf7b8ef-3dbe-4213-a4f5-5a466e4853fe"
      },
      "execution_count": 184,
      "outputs": [
        {
          "output_type": "execute_result",
          "data": {
            "text/plain": [
              "0    0.59375\n",
              "1    0.40625\n",
              "Name: above_average, dtype: float64"
            ]
          },
          "metadata": {},
          "execution_count": 184
        }
      ]
    },
    {
      "cell_type": "code",
      "source": [
        "categorical.append ('above_average')\n",
        "categorical"
      ],
      "metadata": {
        "colab": {
          "base_uri": "https://localhost:8080/"
        },
        "id": "5jp3JftvVbsO",
        "outputId": "bd993457-52fb-47e8-d2c5-3eb8bd539fae"
      },
      "execution_count": 185,
      "outputs": [
        {
          "output_type": "execute_result",
          "data": {
            "text/plain": [
              "['ocean_proximity', 'above_average']"
            ]
          },
          "metadata": {},
          "execution_count": 185
        }
      ]
    },
    {
      "cell_type": "code",
      "source": [
        "df.T"
      ],
      "metadata": {
        "colab": {
          "base_uri": "https://localhost:8080/",
          "height": 562
        },
        "id": "-oPolZj9n19h",
        "outputId": "441b2880-2e75-42a4-f5ff-28c50328ca57"
      },
      "execution_count": 186,
      "outputs": [
        {
          "output_type": "execute_result",
          "data": {
            "text/plain": [
              "                             0         1         2         3         4      \\\n",
              "longitude                  -122.23   -122.22   -122.24   -122.25   -122.25   \n",
              "latitude                     37.88     37.86     37.85     37.85     37.85   \n",
              "housing_median_age            41.0      21.0      52.0      52.0      52.0   \n",
              "total_rooms                  880.0    7099.0    1467.0    1274.0    1627.0   \n",
              "total_bedrooms               129.0    1106.0     190.0     235.0     280.0   \n",
              "population                   322.0    2401.0     496.0     558.0     565.0   \n",
              "households                   126.0    1138.0     177.0     219.0     259.0   \n",
              "median_income               8.3252    8.3014    7.2574    5.6431    3.8462   \n",
              "median_house_value        452600.0  358500.0  352100.0  341300.0  342200.0   \n",
              "ocean_proximity           NEAR BAY  NEAR BAY  NEAR BAY  NEAR BAY  NEAR BAY   \n",
              "rooms_per_household       6.984127  6.238137  8.288136  5.817352  6.281853   \n",
              "bedrooms_per_room         0.146591  0.155797  0.129516  0.184458  0.172096   \n",
              "population_per_household  2.555556  2.109842   2.80226  2.547945  2.181467   \n",
              "above_average                    1         1         1         1         1   \n",
              "\n",
              "                             5         6         7         8         9      \\\n",
              "longitude                  -122.25   -122.25   -122.25   -122.26   -122.25   \n",
              "latitude                     37.85     37.84     37.84     37.84     37.84   \n",
              "housing_median_age            52.0      52.0      52.0      42.0      52.0   \n",
              "total_rooms                  919.0    2535.0    3104.0    2555.0    3549.0   \n",
              "total_bedrooms               213.0     489.0     687.0     665.0     707.0   \n",
              "population                   413.0    1094.0    1157.0    1206.0    1551.0   \n",
              "households                   193.0     514.0     647.0     595.0     714.0   \n",
              "median_income               4.0368    3.6591      3.12    2.0804    3.6912   \n",
              "median_house_value        269700.0  299200.0  241400.0  226700.0  261100.0   \n",
              "ocean_proximity           NEAR BAY  NEAR BAY  NEAR BAY  NEAR BAY  NEAR BAY   \n",
              "rooms_per_household       4.761658  4.931907  4.797527  4.294118  4.970588   \n",
              "bedrooms_per_room         0.231774  0.192899  0.221327  0.260274  0.199211   \n",
              "population_per_household  2.139896  2.128405  1.788253  2.026891  2.172269   \n",
              "above_average                    1         1         1         1         1   \n",
              "\n",
              "                          ...     20630     20631     20632     20633  \\\n",
              "longitude                 ...   -121.32    -121.4   -121.45   -121.53   \n",
              "latitude                  ...     39.29     39.33     39.26     39.19   \n",
              "housing_median_age        ...      11.0      15.0      15.0      27.0   \n",
              "total_rooms               ...    2640.0    2655.0    2319.0    2080.0   \n",
              "total_bedrooms            ...     505.0     493.0     416.0     412.0   \n",
              "population                ...    1257.0    1200.0    1047.0    1082.0   \n",
              "households                ...     445.0     432.0     385.0     382.0   \n",
              "median_income             ...    3.5673    3.5179     3.125    2.5495   \n",
              "median_house_value        ...  112000.0  107200.0  115600.0   98300.0   \n",
              "ocean_proximity           ...    INLAND    INLAND    INLAND    INLAND   \n",
              "rooms_per_household       ...  5.932584  6.145833  6.023377  5.445026   \n",
              "bedrooms_per_room         ...  0.191288  0.185687  0.179388  0.198077   \n",
              "population_per_household  ...  2.824719  2.777778  2.719481  2.832461   \n",
              "above_average             ...         0         0         0         0   \n",
              "\n",
              "                             20634     20635     20636     20637     20638  \\\n",
              "longitude                  -121.56   -121.09   -121.21   -121.22   -121.32   \n",
              "latitude                     39.27     39.48     39.49     39.43     39.43   \n",
              "housing_median_age            28.0      25.0      18.0      17.0      18.0   \n",
              "total_rooms                 2332.0    1665.0     697.0    2254.0    1860.0   \n",
              "total_bedrooms               395.0     374.0     150.0     485.0     409.0   \n",
              "population                  1041.0     845.0     356.0    1007.0     741.0   \n",
              "households                   344.0     330.0     114.0     433.0     349.0   \n",
              "median_income               3.7125    1.5603    2.5568       1.7    1.8672   \n",
              "median_house_value        116800.0   78100.0   77100.0   92300.0   84700.0   \n",
              "ocean_proximity             INLAND    INLAND    INLAND    INLAND    INLAND   \n",
              "rooms_per_household        6.77907  5.045455  6.114035  5.205543  5.329513   \n",
              "bedrooms_per_room         0.169383  0.224625  0.215208  0.215173  0.219892   \n",
              "population_per_household  3.026163  2.560606  3.122807  2.325635  2.123209   \n",
              "above_average                    0         0         0         0         0   \n",
              "\n",
              "                             20639  \n",
              "longitude                  -121.24  \n",
              "latitude                     39.37  \n",
              "housing_median_age            16.0  \n",
              "total_rooms                 2785.0  \n",
              "total_bedrooms               616.0  \n",
              "population                  1387.0  \n",
              "households                   530.0  \n",
              "median_income               2.3886  \n",
              "median_house_value         89400.0  \n",
              "ocean_proximity             INLAND  \n",
              "rooms_per_household       5.254717  \n",
              "bedrooms_per_room         0.221185  \n",
              "population_per_household  2.616981  \n",
              "above_average                    0  \n",
              "\n",
              "[14 rows x 20640 columns]"
            ],
            "text/html": [
              "\n",
              "  <div id=\"df-172fba67-94b1-439b-92a8-dc1a76ec5181\">\n",
              "    <div class=\"colab-df-container\">\n",
              "      <div>\n",
              "<style scoped>\n",
              "    .dataframe tbody tr th:only-of-type {\n",
              "        vertical-align: middle;\n",
              "    }\n",
              "\n",
              "    .dataframe tbody tr th {\n",
              "        vertical-align: top;\n",
              "    }\n",
              "\n",
              "    .dataframe thead th {\n",
              "        text-align: right;\n",
              "    }\n",
              "</style>\n",
              "<table border=\"1\" class=\"dataframe\">\n",
              "  <thead>\n",
              "    <tr style=\"text-align: right;\">\n",
              "      <th></th>\n",
              "      <th>0</th>\n",
              "      <th>1</th>\n",
              "      <th>2</th>\n",
              "      <th>3</th>\n",
              "      <th>4</th>\n",
              "      <th>5</th>\n",
              "      <th>6</th>\n",
              "      <th>7</th>\n",
              "      <th>8</th>\n",
              "      <th>9</th>\n",
              "      <th>...</th>\n",
              "      <th>20630</th>\n",
              "      <th>20631</th>\n",
              "      <th>20632</th>\n",
              "      <th>20633</th>\n",
              "      <th>20634</th>\n",
              "      <th>20635</th>\n",
              "      <th>20636</th>\n",
              "      <th>20637</th>\n",
              "      <th>20638</th>\n",
              "      <th>20639</th>\n",
              "    </tr>\n",
              "  </thead>\n",
              "  <tbody>\n",
              "    <tr>\n",
              "      <th>longitude</th>\n",
              "      <td>-122.23</td>\n",
              "      <td>-122.22</td>\n",
              "      <td>-122.24</td>\n",
              "      <td>-122.25</td>\n",
              "      <td>-122.25</td>\n",
              "      <td>-122.25</td>\n",
              "      <td>-122.25</td>\n",
              "      <td>-122.25</td>\n",
              "      <td>-122.26</td>\n",
              "      <td>-122.25</td>\n",
              "      <td>...</td>\n",
              "      <td>-121.32</td>\n",
              "      <td>-121.4</td>\n",
              "      <td>-121.45</td>\n",
              "      <td>-121.53</td>\n",
              "      <td>-121.56</td>\n",
              "      <td>-121.09</td>\n",
              "      <td>-121.21</td>\n",
              "      <td>-121.22</td>\n",
              "      <td>-121.32</td>\n",
              "      <td>-121.24</td>\n",
              "    </tr>\n",
              "    <tr>\n",
              "      <th>latitude</th>\n",
              "      <td>37.88</td>\n",
              "      <td>37.86</td>\n",
              "      <td>37.85</td>\n",
              "      <td>37.85</td>\n",
              "      <td>37.85</td>\n",
              "      <td>37.85</td>\n",
              "      <td>37.84</td>\n",
              "      <td>37.84</td>\n",
              "      <td>37.84</td>\n",
              "      <td>37.84</td>\n",
              "      <td>...</td>\n",
              "      <td>39.29</td>\n",
              "      <td>39.33</td>\n",
              "      <td>39.26</td>\n",
              "      <td>39.19</td>\n",
              "      <td>39.27</td>\n",
              "      <td>39.48</td>\n",
              "      <td>39.49</td>\n",
              "      <td>39.43</td>\n",
              "      <td>39.43</td>\n",
              "      <td>39.37</td>\n",
              "    </tr>\n",
              "    <tr>\n",
              "      <th>housing_median_age</th>\n",
              "      <td>41.0</td>\n",
              "      <td>21.0</td>\n",
              "      <td>52.0</td>\n",
              "      <td>52.0</td>\n",
              "      <td>52.0</td>\n",
              "      <td>52.0</td>\n",
              "      <td>52.0</td>\n",
              "      <td>52.0</td>\n",
              "      <td>42.0</td>\n",
              "      <td>52.0</td>\n",
              "      <td>...</td>\n",
              "      <td>11.0</td>\n",
              "      <td>15.0</td>\n",
              "      <td>15.0</td>\n",
              "      <td>27.0</td>\n",
              "      <td>28.0</td>\n",
              "      <td>25.0</td>\n",
              "      <td>18.0</td>\n",
              "      <td>17.0</td>\n",
              "      <td>18.0</td>\n",
              "      <td>16.0</td>\n",
              "    </tr>\n",
              "    <tr>\n",
              "      <th>total_rooms</th>\n",
              "      <td>880.0</td>\n",
              "      <td>7099.0</td>\n",
              "      <td>1467.0</td>\n",
              "      <td>1274.0</td>\n",
              "      <td>1627.0</td>\n",
              "      <td>919.0</td>\n",
              "      <td>2535.0</td>\n",
              "      <td>3104.0</td>\n",
              "      <td>2555.0</td>\n",
              "      <td>3549.0</td>\n",
              "      <td>...</td>\n",
              "      <td>2640.0</td>\n",
              "      <td>2655.0</td>\n",
              "      <td>2319.0</td>\n",
              "      <td>2080.0</td>\n",
              "      <td>2332.0</td>\n",
              "      <td>1665.0</td>\n",
              "      <td>697.0</td>\n",
              "      <td>2254.0</td>\n",
              "      <td>1860.0</td>\n",
              "      <td>2785.0</td>\n",
              "    </tr>\n",
              "    <tr>\n",
              "      <th>total_bedrooms</th>\n",
              "      <td>129.0</td>\n",
              "      <td>1106.0</td>\n",
              "      <td>190.0</td>\n",
              "      <td>235.0</td>\n",
              "      <td>280.0</td>\n",
              "      <td>213.0</td>\n",
              "      <td>489.0</td>\n",
              "      <td>687.0</td>\n",
              "      <td>665.0</td>\n",
              "      <td>707.0</td>\n",
              "      <td>...</td>\n",
              "      <td>505.0</td>\n",
              "      <td>493.0</td>\n",
              "      <td>416.0</td>\n",
              "      <td>412.0</td>\n",
              "      <td>395.0</td>\n",
              "      <td>374.0</td>\n",
              "      <td>150.0</td>\n",
              "      <td>485.0</td>\n",
              "      <td>409.0</td>\n",
              "      <td>616.0</td>\n",
              "    </tr>\n",
              "    <tr>\n",
              "      <th>population</th>\n",
              "      <td>322.0</td>\n",
              "      <td>2401.0</td>\n",
              "      <td>496.0</td>\n",
              "      <td>558.0</td>\n",
              "      <td>565.0</td>\n",
              "      <td>413.0</td>\n",
              "      <td>1094.0</td>\n",
              "      <td>1157.0</td>\n",
              "      <td>1206.0</td>\n",
              "      <td>1551.0</td>\n",
              "      <td>...</td>\n",
              "      <td>1257.0</td>\n",
              "      <td>1200.0</td>\n",
              "      <td>1047.0</td>\n",
              "      <td>1082.0</td>\n",
              "      <td>1041.0</td>\n",
              "      <td>845.0</td>\n",
              "      <td>356.0</td>\n",
              "      <td>1007.0</td>\n",
              "      <td>741.0</td>\n",
              "      <td>1387.0</td>\n",
              "    </tr>\n",
              "    <tr>\n",
              "      <th>households</th>\n",
              "      <td>126.0</td>\n",
              "      <td>1138.0</td>\n",
              "      <td>177.0</td>\n",
              "      <td>219.0</td>\n",
              "      <td>259.0</td>\n",
              "      <td>193.0</td>\n",
              "      <td>514.0</td>\n",
              "      <td>647.0</td>\n",
              "      <td>595.0</td>\n",
              "      <td>714.0</td>\n",
              "      <td>...</td>\n",
              "      <td>445.0</td>\n",
              "      <td>432.0</td>\n",
              "      <td>385.0</td>\n",
              "      <td>382.0</td>\n",
              "      <td>344.0</td>\n",
              "      <td>330.0</td>\n",
              "      <td>114.0</td>\n",
              "      <td>433.0</td>\n",
              "      <td>349.0</td>\n",
              "      <td>530.0</td>\n",
              "    </tr>\n",
              "    <tr>\n",
              "      <th>median_income</th>\n",
              "      <td>8.3252</td>\n",
              "      <td>8.3014</td>\n",
              "      <td>7.2574</td>\n",
              "      <td>5.6431</td>\n",
              "      <td>3.8462</td>\n",
              "      <td>4.0368</td>\n",
              "      <td>3.6591</td>\n",
              "      <td>3.12</td>\n",
              "      <td>2.0804</td>\n",
              "      <td>3.6912</td>\n",
              "      <td>...</td>\n",
              "      <td>3.5673</td>\n",
              "      <td>3.5179</td>\n",
              "      <td>3.125</td>\n",
              "      <td>2.5495</td>\n",
              "      <td>3.7125</td>\n",
              "      <td>1.5603</td>\n",
              "      <td>2.5568</td>\n",
              "      <td>1.7</td>\n",
              "      <td>1.8672</td>\n",
              "      <td>2.3886</td>\n",
              "    </tr>\n",
              "    <tr>\n",
              "      <th>median_house_value</th>\n",
              "      <td>452600.0</td>\n",
              "      <td>358500.0</td>\n",
              "      <td>352100.0</td>\n",
              "      <td>341300.0</td>\n",
              "      <td>342200.0</td>\n",
              "      <td>269700.0</td>\n",
              "      <td>299200.0</td>\n",
              "      <td>241400.0</td>\n",
              "      <td>226700.0</td>\n",
              "      <td>261100.0</td>\n",
              "      <td>...</td>\n",
              "      <td>112000.0</td>\n",
              "      <td>107200.0</td>\n",
              "      <td>115600.0</td>\n",
              "      <td>98300.0</td>\n",
              "      <td>116800.0</td>\n",
              "      <td>78100.0</td>\n",
              "      <td>77100.0</td>\n",
              "      <td>92300.0</td>\n",
              "      <td>84700.0</td>\n",
              "      <td>89400.0</td>\n",
              "    </tr>\n",
              "    <tr>\n",
              "      <th>ocean_proximity</th>\n",
              "      <td>NEAR BAY</td>\n",
              "      <td>NEAR BAY</td>\n",
              "      <td>NEAR BAY</td>\n",
              "      <td>NEAR BAY</td>\n",
              "      <td>NEAR BAY</td>\n",
              "      <td>NEAR BAY</td>\n",
              "      <td>NEAR BAY</td>\n",
              "      <td>NEAR BAY</td>\n",
              "      <td>NEAR BAY</td>\n",
              "      <td>NEAR BAY</td>\n",
              "      <td>...</td>\n",
              "      <td>INLAND</td>\n",
              "      <td>INLAND</td>\n",
              "      <td>INLAND</td>\n",
              "      <td>INLAND</td>\n",
              "      <td>INLAND</td>\n",
              "      <td>INLAND</td>\n",
              "      <td>INLAND</td>\n",
              "      <td>INLAND</td>\n",
              "      <td>INLAND</td>\n",
              "      <td>INLAND</td>\n",
              "    </tr>\n",
              "    <tr>\n",
              "      <th>rooms_per_household</th>\n",
              "      <td>6.984127</td>\n",
              "      <td>6.238137</td>\n",
              "      <td>8.288136</td>\n",
              "      <td>5.817352</td>\n",
              "      <td>6.281853</td>\n",
              "      <td>4.761658</td>\n",
              "      <td>4.931907</td>\n",
              "      <td>4.797527</td>\n",
              "      <td>4.294118</td>\n",
              "      <td>4.970588</td>\n",
              "      <td>...</td>\n",
              "      <td>5.932584</td>\n",
              "      <td>6.145833</td>\n",
              "      <td>6.023377</td>\n",
              "      <td>5.445026</td>\n",
              "      <td>6.77907</td>\n",
              "      <td>5.045455</td>\n",
              "      <td>6.114035</td>\n",
              "      <td>5.205543</td>\n",
              "      <td>5.329513</td>\n",
              "      <td>5.254717</td>\n",
              "    </tr>\n",
              "    <tr>\n",
              "      <th>bedrooms_per_room</th>\n",
              "      <td>0.146591</td>\n",
              "      <td>0.155797</td>\n",
              "      <td>0.129516</td>\n",
              "      <td>0.184458</td>\n",
              "      <td>0.172096</td>\n",
              "      <td>0.231774</td>\n",
              "      <td>0.192899</td>\n",
              "      <td>0.221327</td>\n",
              "      <td>0.260274</td>\n",
              "      <td>0.199211</td>\n",
              "      <td>...</td>\n",
              "      <td>0.191288</td>\n",
              "      <td>0.185687</td>\n",
              "      <td>0.179388</td>\n",
              "      <td>0.198077</td>\n",
              "      <td>0.169383</td>\n",
              "      <td>0.224625</td>\n",
              "      <td>0.215208</td>\n",
              "      <td>0.215173</td>\n",
              "      <td>0.219892</td>\n",
              "      <td>0.221185</td>\n",
              "    </tr>\n",
              "    <tr>\n",
              "      <th>population_per_household</th>\n",
              "      <td>2.555556</td>\n",
              "      <td>2.109842</td>\n",
              "      <td>2.80226</td>\n",
              "      <td>2.547945</td>\n",
              "      <td>2.181467</td>\n",
              "      <td>2.139896</td>\n",
              "      <td>2.128405</td>\n",
              "      <td>1.788253</td>\n",
              "      <td>2.026891</td>\n",
              "      <td>2.172269</td>\n",
              "      <td>...</td>\n",
              "      <td>2.824719</td>\n",
              "      <td>2.777778</td>\n",
              "      <td>2.719481</td>\n",
              "      <td>2.832461</td>\n",
              "      <td>3.026163</td>\n",
              "      <td>2.560606</td>\n",
              "      <td>3.122807</td>\n",
              "      <td>2.325635</td>\n",
              "      <td>2.123209</td>\n",
              "      <td>2.616981</td>\n",
              "    </tr>\n",
              "    <tr>\n",
              "      <th>above_average</th>\n",
              "      <td>1</td>\n",
              "      <td>1</td>\n",
              "      <td>1</td>\n",
              "      <td>1</td>\n",
              "      <td>1</td>\n",
              "      <td>1</td>\n",
              "      <td>1</td>\n",
              "      <td>1</td>\n",
              "      <td>1</td>\n",
              "      <td>1</td>\n",
              "      <td>...</td>\n",
              "      <td>0</td>\n",
              "      <td>0</td>\n",
              "      <td>0</td>\n",
              "      <td>0</td>\n",
              "      <td>0</td>\n",
              "      <td>0</td>\n",
              "      <td>0</td>\n",
              "      <td>0</td>\n",
              "      <td>0</td>\n",
              "      <td>0</td>\n",
              "    </tr>\n",
              "  </tbody>\n",
              "</table>\n",
              "<p>14 rows × 20640 columns</p>\n",
              "</div>\n",
              "      <button class=\"colab-df-convert\" onclick=\"convertToInteractive('df-172fba67-94b1-439b-92a8-dc1a76ec5181')\"\n",
              "              title=\"Convert this dataframe to an interactive table.\"\n",
              "              style=\"display:none;\">\n",
              "        \n",
              "  <svg xmlns=\"http://www.w3.org/2000/svg\" height=\"24px\"viewBox=\"0 0 24 24\"\n",
              "       width=\"24px\">\n",
              "    <path d=\"M0 0h24v24H0V0z\" fill=\"none\"/>\n",
              "    <path d=\"M18.56 5.44l.94 2.06.94-2.06 2.06-.94-2.06-.94-.94-2.06-.94 2.06-2.06.94zm-11 1L8.5 8.5l.94-2.06 2.06-.94-2.06-.94L8.5 2.5l-.94 2.06-2.06.94zm10 10l.94 2.06.94-2.06 2.06-.94-2.06-.94-.94-2.06-.94 2.06-2.06.94z\"/><path d=\"M17.41 7.96l-1.37-1.37c-.4-.4-.92-.59-1.43-.59-.52 0-1.04.2-1.43.59L10.3 9.45l-7.72 7.72c-.78.78-.78 2.05 0 2.83L4 21.41c.39.39.9.59 1.41.59.51 0 1.02-.2 1.41-.59l7.78-7.78 2.81-2.81c.8-.78.8-2.07 0-2.86zM5.41 20L4 18.59l7.72-7.72 1.47 1.35L5.41 20z\"/>\n",
              "  </svg>\n",
              "      </button>\n",
              "      \n",
              "  <style>\n",
              "    .colab-df-container {\n",
              "      display:flex;\n",
              "      flex-wrap:wrap;\n",
              "      gap: 12px;\n",
              "    }\n",
              "\n",
              "    .colab-df-convert {\n",
              "      background-color: #E8F0FE;\n",
              "      border: none;\n",
              "      border-radius: 50%;\n",
              "      cursor: pointer;\n",
              "      display: none;\n",
              "      fill: #1967D2;\n",
              "      height: 32px;\n",
              "      padding: 0 0 0 0;\n",
              "      width: 32px;\n",
              "    }\n",
              "\n",
              "    .colab-df-convert:hover {\n",
              "      background-color: #E2EBFA;\n",
              "      box-shadow: 0px 1px 2px rgba(60, 64, 67, 0.3), 0px 1px 3px 1px rgba(60, 64, 67, 0.15);\n",
              "      fill: #174EA6;\n",
              "    }\n",
              "\n",
              "    [theme=dark] .colab-df-convert {\n",
              "      background-color: #3B4455;\n",
              "      fill: #D2E3FC;\n",
              "    }\n",
              "\n",
              "    [theme=dark] .colab-df-convert:hover {\n",
              "      background-color: #434B5C;\n",
              "      box-shadow: 0px 1px 3px 1px rgba(0, 0, 0, 0.15);\n",
              "      filter: drop-shadow(0px 1px 2px rgba(0, 0, 0, 0.3));\n",
              "      fill: #FFFFFF;\n",
              "    }\n",
              "  </style>\n",
              "\n",
              "      <script>\n",
              "        const buttonEl =\n",
              "          document.querySelector('#df-172fba67-94b1-439b-92a8-dc1a76ec5181 button.colab-df-convert');\n",
              "        buttonEl.style.display =\n",
              "          google.colab.kernel.accessAllowed ? 'block' : 'none';\n",
              "\n",
              "        async function convertToInteractive(key) {\n",
              "          const element = document.querySelector('#df-172fba67-94b1-439b-92a8-dc1a76ec5181');\n",
              "          const dataTable =\n",
              "            await google.colab.kernel.invokeFunction('convertToInteractive',\n",
              "                                                     [key], {});\n",
              "          if (!dataTable) return;\n",
              "\n",
              "          const docLinkHtml = 'Like what you see? Visit the ' +\n",
              "            '<a target=\"_blank\" href=https://colab.research.google.com/notebooks/data_table.ipynb>data table notebook</a>'\n",
              "            + ' to learn more about interactive tables.';\n",
              "          element.innerHTML = '';\n",
              "          dataTable['output_type'] = 'display_data';\n",
              "          await google.colab.output.renderOutput(dataTable, element);\n",
              "          const docLink = document.createElement('div');\n",
              "          docLink.innerHTML = docLinkHtml;\n",
              "          element.appendChild(docLink);\n",
              "        }\n",
              "      </script>\n",
              "    </div>\n",
              "  </div>\n",
              "  "
            ]
          },
          "metadata": {},
          "execution_count": 186
        }
      ]
    },
    {
      "cell_type": "markdown",
      "source": [
        "##Split the data\n",
        "- Split your data in train/val/test sets, with 60%/20%/20% distribution.\n",
        "- Use Scikit-Learn for that (the train_test_split function) and set the seed to 42.\n",
        "- Make sure that the target value (median_house_value) is not in your dataframe."
      ],
      "metadata": {
        "id": "SFpwR8n0tHwm"
      }
    },
    {
      "cell_type": "markdown",
      "source": [
        "help on train_test_split"
      ],
      "metadata": {
        "id": "CHWTBLxj36HU"
      }
    },
    {
      "cell_type": "code",
      "source": [
        "#train_test_split?"
      ],
      "metadata": {
        "id": "f1B4ZSHc3nNo"
      },
      "execution_count": 187,
      "outputs": []
    },
    {
      "cell_type": "code",
      "source": [
        "# first split 80-20\n",
        "df_full_train, df_test = train_test_split (df, test_size=0.2, random_state=42) \n",
        "\n",
        "# Now, split 60-20 from this 80%\n",
        "df_train, df_val = train_test_split (df_full_train, test_size=0.25, random_state=42)   # 20% of the total = 25% of the 80%\n",
        "\n",
        "len (df), len (df_full_train), len (df_train), len(df_test),  len (df_val)"
      ],
      "metadata": {
        "colab": {
          "base_uri": "https://localhost:8080/"
        },
        "id": "MWnLqZWK5Z1e",
        "outputId": "7556afe4-d4fe-460f-8c0c-9591e3f20f9d"
      },
      "execution_count": 188,
      "outputs": [
        {
          "output_type": "execute_result",
          "data": {
            "text/plain": [
              "(20640, 16512, 12384, 4128, 4128)"
            ]
          },
          "metadata": {},
          "execution_count": 188
        }
      ]
    },
    {
      "cell_type": "markdown",
      "source": [
        "Reset the index for each data frame."
      ],
      "metadata": {
        "id": "ZrHlOEYza6YH"
      }
    },
    {
      "cell_type": "code",
      "source": [
        "df_train = df_train.reset_index(drop = True)\n",
        "df_val = df_val.reset_index(drop = True)\n",
        "df_test = df_test.reset_index(drop = True)\n",
        "df_full_train = df_full_train.reset_index(drop = True)\n"
      ],
      "metadata": {
        "id": "OSPx_T57a89X"
      },
      "execution_count": 189,
      "outputs": []
    },
    {
      "cell_type": "code",
      "source": [
        "y_train=df_train.median_house_value.values\n",
        "y_val=df_val.median_house_value.values\n",
        "y_test=df_test.median_house_value.values\n",
        "y_test"
      ],
      "metadata": {
        "colab": {
          "base_uri": "https://localhost:8080/"
        },
        "id": "emgaNiLT87RB",
        "outputId": "e0088011-0a6c-47c6-b6b0-cb329f8f0275"
      },
      "execution_count": 190,
      "outputs": [
        {
          "output_type": "execute_result",
          "data": {
            "text/plain": [
              "array([ 47700.,  45800., 500001., ..., 500001.,  72300., 151500.])"
            ]
          },
          "metadata": {},
          "execution_count": 190
        }
      ]
    },
    {
      "cell_type": "markdown",
      "source": [
        "Delete target variable "
      ],
      "metadata": {
        "id": "u1xkb2o8b53M"
      }
    },
    {
      "cell_type": "code",
      "source": [
        "del df_train['median_house_value']\n",
        "del df_val['median_house_value']\n",
        "del df_test['median_house_value']"
      ],
      "metadata": {
        "id": "YSBZ4-4Nb48v"
      },
      "execution_count": 191,
      "outputs": []
    },
    {
      "cell_type": "markdown",
      "source": [
        "### EDA"
      ],
      "metadata": {
        "id": "ewnxQXg-vQPU"
      }
    },
    {
      "cell_type": "code",
      "source": [
        "df_full_train.isnull().sum()"
      ],
      "metadata": {
        "colab": {
          "base_uri": "https://localhost:8080/"
        },
        "id": "GY83ZoOR8tor",
        "outputId": "17f6490b-3260-4c39-bd76-c8a84fcafa18"
      },
      "execution_count": 192,
      "outputs": [
        {
          "output_type": "execute_result",
          "data": {
            "text/plain": [
              "longitude                   0\n",
              "latitude                    0\n",
              "housing_median_age          0\n",
              "total_rooms                 0\n",
              "total_bedrooms              0\n",
              "population                  0\n",
              "households                  0\n",
              "median_income               0\n",
              "median_house_value          0\n",
              "ocean_proximity             0\n",
              "rooms_per_household         0\n",
              "bedrooms_per_room           0\n",
              "population_per_household    0\n",
              "above_average               0\n",
              "dtype: int64"
            ]
          },
          "metadata": {},
          "execution_count": 192
        }
      ]
    },
    {
      "cell_type": "code",
      "source": [
        "df_full_train.median_house_value.value_counts()"
      ],
      "metadata": {
        "colab": {
          "base_uri": "https://localhost:8080/"
        },
        "id": "E2UEnuYF859F",
        "outputId": "b7c7747e-4fcf-447e-eee2-ffc8dfadc4e3"
      },
      "execution_count": 193,
      "outputs": [
        {
          "output_type": "execute_result",
          "data": {
            "text/plain": [
              "500001.0    786\n",
              "137500.0     93\n",
              "162500.0     89\n",
              "112500.0     82\n",
              "187500.0     73\n",
              "           ... \n",
              "149700.0      1\n",
              "44600.0       1\n",
              "399200.0      1\n",
              "236600.0      1\n",
              "420200.0      1\n",
              "Name: median_house_value, Length: 3675, dtype: int64"
            ]
          },
          "metadata": {},
          "execution_count": 193
        }
      ]
    },
    {
      "cell_type": "code",
      "source": [
        "df_full_train.median_house_value.value_counts(normalize=True)  # normalize argument to count the relative frequency of unique values in a pandas Series (give in percentage)"
      ],
      "metadata": {
        "colab": {
          "base_uri": "https://localhost:8080/"
        },
        "id": "SSvAdJfO7ZY5",
        "outputId": "859c2e20-03c3-445a-c0ee-720352ed7e40"
      },
      "execution_count": 194,
      "outputs": [
        {
          "output_type": "execute_result",
          "data": {
            "text/plain": [
              "500001.0    0.047602\n",
              "137500.0    0.005632\n",
              "162500.0    0.005390\n",
              "112500.0    0.004966\n",
              "187500.0    0.004421\n",
              "              ...   \n",
              "149700.0    0.000061\n",
              "44600.0     0.000061\n",
              "399200.0    0.000061\n",
              "236600.0    0.000061\n",
              "420200.0    0.000061\n",
              "Name: median_house_value, Length: 3675, dtype: float64"
            ]
          },
          "metadata": {},
          "execution_count": 194
        }
      ]
    },
    {
      "cell_type": "code",
      "source": [
        "df_full_train.median_house_value.mode()"
      ],
      "metadata": {
        "colab": {
          "base_uri": "https://localhost:8080/"
        },
        "id": "8ZGXzF_gmUFH",
        "outputId": "f7f137be-bed2-4fed-d4ed-3d18d8929d92"
      },
      "execution_count": 195,
      "outputs": [
        {
          "output_type": "execute_result",
          "data": {
            "text/plain": [
              "0    500001.0\n",
              "dtype: float64"
            ]
          },
          "metadata": {},
          "execution_count": 195
        }
      ]
    },
    {
      "cell_type": "code",
      "source": [
        "df_full_train.median_house_value.mean()"
      ],
      "metadata": {
        "colab": {
          "base_uri": "https://localhost:8080/"
        },
        "id": "z9ueg1PY6_9X",
        "outputId": "1867a0d4-2661-416f-fab6-8ec9763898cd"
      },
      "execution_count": 196,
      "outputs": [
        {
          "output_type": "execute_result",
          "data": {
            "text/plain": [
              "207194.6937378876"
            ]
          },
          "metadata": {},
          "execution_count": 196
        }
      ]
    },
    {
      "cell_type": "code",
      "source": [
        "df_full_train.T"
      ],
      "metadata": {
        "colab": {
          "base_uri": "https://localhost:8080/",
          "height": 579
        },
        "id": "hsDvSzls9BWz",
        "outputId": "f9f20b21-6985-4d50-fa22-f49d0fe7c365"
      },
      "execution_count": 197,
      "outputs": [
        {
          "output_type": "execute_result",
          "data": {
            "text/plain": [
              "                               0           1           2           3      \\\n",
              "longitude                    -117.03     -118.16     -120.48     -117.11   \n",
              "latitude                       32.71       33.77       34.66       32.69   \n",
              "housing_median_age              33.0        49.0         4.0        36.0   \n",
              "total_rooms                   3126.0      3382.0      1897.0      1421.0   \n",
              "total_bedrooms                 627.0       787.0       331.0       367.0   \n",
              "population                    2300.0      1314.0       915.0      1418.0   \n",
              "households                     623.0       756.0       336.0       355.0   \n",
              "median_income                 3.2596      3.8125      4.1563      1.9425   \n",
              "median_house_value          103000.0    382100.0    172600.0     93400.0   \n",
              "ocean_proximity           NEAR OCEAN  NEAR OCEAN  NEAR OCEAN  NEAR OCEAN   \n",
              "rooms_per_household         5.017657    4.473545    5.645833    4.002817   \n",
              "bedrooms_per_room           0.200576    0.232703    0.174486    0.258269   \n",
              "population_per_household    3.691814    1.738095    2.723214    3.994366   \n",
              "above_average                      0           1           0           0   \n",
              "\n",
              "                             4          5          6         7          8      \\\n",
              "longitude                   -119.8    -121.86    -117.97   -122.53     -117.9   \n",
              "latitude                     36.78      37.42      34.04     37.91      34.13   \n",
              "housing_median_age            43.0       20.0       28.0      37.0        5.0   \n",
              "total_rooms                 2382.0     5032.0     1686.0    2524.0     1126.0   \n",
              "total_bedrooms               431.0      808.0      417.0     398.0      316.0   \n",
              "population                   874.0     2695.0     1355.0     999.0      819.0   \n",
              "households                   380.0      801.0      388.0     417.0      311.0   \n",
              "median_income               3.5542     6.6227     2.5192    7.9892        1.5   \n",
              "median_house_value         96500.0   264800.0   157300.0  500001.0   139800.0   \n",
              "ocean_proximity             INLAND  <1H OCEAN  <1H OCEAN  NEAR BAY  <1H OCEAN   \n",
              "rooms_per_household       6.268421   6.282147   4.345361  6.052758   3.620579   \n",
              "bedrooms_per_room          0.18094   0.160572   0.247331  0.157686   0.280639   \n",
              "population_per_household       2.3   3.364544   3.492268  2.395683   2.633441   \n",
              "above_average                    0          1          0         1          0   \n",
              "\n",
              "                              9      ...      16502       16503      16504  \\\n",
              "longitude                   -117.79  ...    -117.94     -117.23    -118.25   \n",
              "latitude                      34.02  ...      33.74       32.81      34.07   \n",
              "housing_median_age              5.0  ...       24.0        28.0       18.0   \n",
              "total_rooms                 18690.0  ...     4248.0      1508.0     4297.0   \n",
              "total_bedrooms               2862.0  ...      840.0       263.0     1420.0   \n",
              "population                   9427.0  ...     3118.0       996.0     4332.0   \n",
              "households                   2777.0  ...      798.0       267.0     1286.0   \n",
              "median_income                6.4266  ...     4.2222      3.8026     2.2545   \n",
              "median_house_value         315600.0  ...   207200.0    270000.0   192500.0   \n",
              "ocean_proximity           <1H OCEAN  ...  <1H OCEAN  NEAR OCEAN  <1H OCEAN   \n",
              "rooms_per_household        6.730284  ...   5.323308     5.64794   3.341369   \n",
              "bedrooms_per_room           0.15313  ...    0.19774    0.174403   0.330463   \n",
              "population_per_household   3.394671  ...   3.907268    3.730337   3.368585   \n",
              "above_average                     1  ...          1           1          0   \n",
              "\n",
              "                               16505      16506      16507     16508  \\\n",
              "longitude                    -122.42    -117.94    -117.96   -117.43   \n",
              "latitude                       37.62      34.05      33.78     34.02   \n",
              "housing_median_age              40.0       34.0       35.0      33.0   \n",
              "total_rooms                   1545.0     1729.0     1330.0    3084.0   \n",
              "total_bedrooms                 264.0      324.0      201.0     570.0   \n",
              "population                     756.0     1341.0      658.0    1753.0   \n",
              "households                     282.0      324.0      217.0     449.0   \n",
              "median_income                 4.4643     3.7708       6.37      3.05   \n",
              "median_house_value          308100.0   163500.0   229200.0   97800.0   \n",
              "ocean_proximity           NEAR OCEAN  <1H OCEAN  <1H OCEAN    INLAND   \n",
              "rooms_per_household         5.478723    5.33642   6.129032  6.868597   \n",
              "bedrooms_per_room           0.170874   0.187392   0.151128  0.184825   \n",
              "population_per_household    2.680851   4.138889   3.032258  3.904232   \n",
              "above_average                      1          0          1         0   \n",
              "\n",
              "                              16509      16510     16511  \n",
              "longitude                   -118.38    -121.96   -122.42  \n",
              "latitude                      34.03      37.58     37.77  \n",
              "housing_median_age             36.0       15.0      52.0  \n",
              "total_rooms                  2101.0     3575.0    4226.0  \n",
              "total_bedrooms                569.0      597.0    1315.0  \n",
              "population                   1756.0     1777.0    2619.0  \n",
              "households                    527.0      559.0    1242.0  \n",
              "median_income                2.9344     5.7192    2.5755  \n",
              "median_house_value         222100.0   283500.0  325000.0  \n",
              "ocean_proximity           <1H OCEAN  <1H OCEAN  NEAR BAY  \n",
              "rooms_per_household        3.986717   6.395349  3.402576  \n",
              "bedrooms_per_room          0.270823   0.166993  0.311169  \n",
              "population_per_household   3.332068   3.178891  2.108696  \n",
              "above_average                     1          1         1  \n",
              "\n",
              "[14 rows x 16512 columns]"
            ],
            "text/html": [
              "\n",
              "  <div id=\"df-12bbd994-a7e4-490f-9440-f07cf1088355\">\n",
              "    <div class=\"colab-df-container\">\n",
              "      <div>\n",
              "<style scoped>\n",
              "    .dataframe tbody tr th:only-of-type {\n",
              "        vertical-align: middle;\n",
              "    }\n",
              "\n",
              "    .dataframe tbody tr th {\n",
              "        vertical-align: top;\n",
              "    }\n",
              "\n",
              "    .dataframe thead th {\n",
              "        text-align: right;\n",
              "    }\n",
              "</style>\n",
              "<table border=\"1\" class=\"dataframe\">\n",
              "  <thead>\n",
              "    <tr style=\"text-align: right;\">\n",
              "      <th></th>\n",
              "      <th>0</th>\n",
              "      <th>1</th>\n",
              "      <th>2</th>\n",
              "      <th>3</th>\n",
              "      <th>4</th>\n",
              "      <th>5</th>\n",
              "      <th>6</th>\n",
              "      <th>7</th>\n",
              "      <th>8</th>\n",
              "      <th>9</th>\n",
              "      <th>...</th>\n",
              "      <th>16502</th>\n",
              "      <th>16503</th>\n",
              "      <th>16504</th>\n",
              "      <th>16505</th>\n",
              "      <th>16506</th>\n",
              "      <th>16507</th>\n",
              "      <th>16508</th>\n",
              "      <th>16509</th>\n",
              "      <th>16510</th>\n",
              "      <th>16511</th>\n",
              "    </tr>\n",
              "  </thead>\n",
              "  <tbody>\n",
              "    <tr>\n",
              "      <th>longitude</th>\n",
              "      <td>-117.03</td>\n",
              "      <td>-118.16</td>\n",
              "      <td>-120.48</td>\n",
              "      <td>-117.11</td>\n",
              "      <td>-119.8</td>\n",
              "      <td>-121.86</td>\n",
              "      <td>-117.97</td>\n",
              "      <td>-122.53</td>\n",
              "      <td>-117.9</td>\n",
              "      <td>-117.79</td>\n",
              "      <td>...</td>\n",
              "      <td>-117.94</td>\n",
              "      <td>-117.23</td>\n",
              "      <td>-118.25</td>\n",
              "      <td>-122.42</td>\n",
              "      <td>-117.94</td>\n",
              "      <td>-117.96</td>\n",
              "      <td>-117.43</td>\n",
              "      <td>-118.38</td>\n",
              "      <td>-121.96</td>\n",
              "      <td>-122.42</td>\n",
              "    </tr>\n",
              "    <tr>\n",
              "      <th>latitude</th>\n",
              "      <td>32.71</td>\n",
              "      <td>33.77</td>\n",
              "      <td>34.66</td>\n",
              "      <td>32.69</td>\n",
              "      <td>36.78</td>\n",
              "      <td>37.42</td>\n",
              "      <td>34.04</td>\n",
              "      <td>37.91</td>\n",
              "      <td>34.13</td>\n",
              "      <td>34.02</td>\n",
              "      <td>...</td>\n",
              "      <td>33.74</td>\n",
              "      <td>32.81</td>\n",
              "      <td>34.07</td>\n",
              "      <td>37.62</td>\n",
              "      <td>34.05</td>\n",
              "      <td>33.78</td>\n",
              "      <td>34.02</td>\n",
              "      <td>34.03</td>\n",
              "      <td>37.58</td>\n",
              "      <td>37.77</td>\n",
              "    </tr>\n",
              "    <tr>\n",
              "      <th>housing_median_age</th>\n",
              "      <td>33.0</td>\n",
              "      <td>49.0</td>\n",
              "      <td>4.0</td>\n",
              "      <td>36.0</td>\n",
              "      <td>43.0</td>\n",
              "      <td>20.0</td>\n",
              "      <td>28.0</td>\n",
              "      <td>37.0</td>\n",
              "      <td>5.0</td>\n",
              "      <td>5.0</td>\n",
              "      <td>...</td>\n",
              "      <td>24.0</td>\n",
              "      <td>28.0</td>\n",
              "      <td>18.0</td>\n",
              "      <td>40.0</td>\n",
              "      <td>34.0</td>\n",
              "      <td>35.0</td>\n",
              "      <td>33.0</td>\n",
              "      <td>36.0</td>\n",
              "      <td>15.0</td>\n",
              "      <td>52.0</td>\n",
              "    </tr>\n",
              "    <tr>\n",
              "      <th>total_rooms</th>\n",
              "      <td>3126.0</td>\n",
              "      <td>3382.0</td>\n",
              "      <td>1897.0</td>\n",
              "      <td>1421.0</td>\n",
              "      <td>2382.0</td>\n",
              "      <td>5032.0</td>\n",
              "      <td>1686.0</td>\n",
              "      <td>2524.0</td>\n",
              "      <td>1126.0</td>\n",
              "      <td>18690.0</td>\n",
              "      <td>...</td>\n",
              "      <td>4248.0</td>\n",
              "      <td>1508.0</td>\n",
              "      <td>4297.0</td>\n",
              "      <td>1545.0</td>\n",
              "      <td>1729.0</td>\n",
              "      <td>1330.0</td>\n",
              "      <td>3084.0</td>\n",
              "      <td>2101.0</td>\n",
              "      <td>3575.0</td>\n",
              "      <td>4226.0</td>\n",
              "    </tr>\n",
              "    <tr>\n",
              "      <th>total_bedrooms</th>\n",
              "      <td>627.0</td>\n",
              "      <td>787.0</td>\n",
              "      <td>331.0</td>\n",
              "      <td>367.0</td>\n",
              "      <td>431.0</td>\n",
              "      <td>808.0</td>\n",
              "      <td>417.0</td>\n",
              "      <td>398.0</td>\n",
              "      <td>316.0</td>\n",
              "      <td>2862.0</td>\n",
              "      <td>...</td>\n",
              "      <td>840.0</td>\n",
              "      <td>263.0</td>\n",
              "      <td>1420.0</td>\n",
              "      <td>264.0</td>\n",
              "      <td>324.0</td>\n",
              "      <td>201.0</td>\n",
              "      <td>570.0</td>\n",
              "      <td>569.0</td>\n",
              "      <td>597.0</td>\n",
              "      <td>1315.0</td>\n",
              "    </tr>\n",
              "    <tr>\n",
              "      <th>population</th>\n",
              "      <td>2300.0</td>\n",
              "      <td>1314.0</td>\n",
              "      <td>915.0</td>\n",
              "      <td>1418.0</td>\n",
              "      <td>874.0</td>\n",
              "      <td>2695.0</td>\n",
              "      <td>1355.0</td>\n",
              "      <td>999.0</td>\n",
              "      <td>819.0</td>\n",
              "      <td>9427.0</td>\n",
              "      <td>...</td>\n",
              "      <td>3118.0</td>\n",
              "      <td>996.0</td>\n",
              "      <td>4332.0</td>\n",
              "      <td>756.0</td>\n",
              "      <td>1341.0</td>\n",
              "      <td>658.0</td>\n",
              "      <td>1753.0</td>\n",
              "      <td>1756.0</td>\n",
              "      <td>1777.0</td>\n",
              "      <td>2619.0</td>\n",
              "    </tr>\n",
              "    <tr>\n",
              "      <th>households</th>\n",
              "      <td>623.0</td>\n",
              "      <td>756.0</td>\n",
              "      <td>336.0</td>\n",
              "      <td>355.0</td>\n",
              "      <td>380.0</td>\n",
              "      <td>801.0</td>\n",
              "      <td>388.0</td>\n",
              "      <td>417.0</td>\n",
              "      <td>311.0</td>\n",
              "      <td>2777.0</td>\n",
              "      <td>...</td>\n",
              "      <td>798.0</td>\n",
              "      <td>267.0</td>\n",
              "      <td>1286.0</td>\n",
              "      <td>282.0</td>\n",
              "      <td>324.0</td>\n",
              "      <td>217.0</td>\n",
              "      <td>449.0</td>\n",
              "      <td>527.0</td>\n",
              "      <td>559.0</td>\n",
              "      <td>1242.0</td>\n",
              "    </tr>\n",
              "    <tr>\n",
              "      <th>median_income</th>\n",
              "      <td>3.2596</td>\n",
              "      <td>3.8125</td>\n",
              "      <td>4.1563</td>\n",
              "      <td>1.9425</td>\n",
              "      <td>3.5542</td>\n",
              "      <td>6.6227</td>\n",
              "      <td>2.5192</td>\n",
              "      <td>7.9892</td>\n",
              "      <td>1.5</td>\n",
              "      <td>6.4266</td>\n",
              "      <td>...</td>\n",
              "      <td>4.2222</td>\n",
              "      <td>3.8026</td>\n",
              "      <td>2.2545</td>\n",
              "      <td>4.4643</td>\n",
              "      <td>3.7708</td>\n",
              "      <td>6.37</td>\n",
              "      <td>3.05</td>\n",
              "      <td>2.9344</td>\n",
              "      <td>5.7192</td>\n",
              "      <td>2.5755</td>\n",
              "    </tr>\n",
              "    <tr>\n",
              "      <th>median_house_value</th>\n",
              "      <td>103000.0</td>\n",
              "      <td>382100.0</td>\n",
              "      <td>172600.0</td>\n",
              "      <td>93400.0</td>\n",
              "      <td>96500.0</td>\n",
              "      <td>264800.0</td>\n",
              "      <td>157300.0</td>\n",
              "      <td>500001.0</td>\n",
              "      <td>139800.0</td>\n",
              "      <td>315600.0</td>\n",
              "      <td>...</td>\n",
              "      <td>207200.0</td>\n",
              "      <td>270000.0</td>\n",
              "      <td>192500.0</td>\n",
              "      <td>308100.0</td>\n",
              "      <td>163500.0</td>\n",
              "      <td>229200.0</td>\n",
              "      <td>97800.0</td>\n",
              "      <td>222100.0</td>\n",
              "      <td>283500.0</td>\n",
              "      <td>325000.0</td>\n",
              "    </tr>\n",
              "    <tr>\n",
              "      <th>ocean_proximity</th>\n",
              "      <td>NEAR OCEAN</td>\n",
              "      <td>NEAR OCEAN</td>\n",
              "      <td>NEAR OCEAN</td>\n",
              "      <td>NEAR OCEAN</td>\n",
              "      <td>INLAND</td>\n",
              "      <td>&lt;1H OCEAN</td>\n",
              "      <td>&lt;1H OCEAN</td>\n",
              "      <td>NEAR BAY</td>\n",
              "      <td>&lt;1H OCEAN</td>\n",
              "      <td>&lt;1H OCEAN</td>\n",
              "      <td>...</td>\n",
              "      <td>&lt;1H OCEAN</td>\n",
              "      <td>NEAR OCEAN</td>\n",
              "      <td>&lt;1H OCEAN</td>\n",
              "      <td>NEAR OCEAN</td>\n",
              "      <td>&lt;1H OCEAN</td>\n",
              "      <td>&lt;1H OCEAN</td>\n",
              "      <td>INLAND</td>\n",
              "      <td>&lt;1H OCEAN</td>\n",
              "      <td>&lt;1H OCEAN</td>\n",
              "      <td>NEAR BAY</td>\n",
              "    </tr>\n",
              "    <tr>\n",
              "      <th>rooms_per_household</th>\n",
              "      <td>5.017657</td>\n",
              "      <td>4.473545</td>\n",
              "      <td>5.645833</td>\n",
              "      <td>4.002817</td>\n",
              "      <td>6.268421</td>\n",
              "      <td>6.282147</td>\n",
              "      <td>4.345361</td>\n",
              "      <td>6.052758</td>\n",
              "      <td>3.620579</td>\n",
              "      <td>6.730284</td>\n",
              "      <td>...</td>\n",
              "      <td>5.323308</td>\n",
              "      <td>5.64794</td>\n",
              "      <td>3.341369</td>\n",
              "      <td>5.478723</td>\n",
              "      <td>5.33642</td>\n",
              "      <td>6.129032</td>\n",
              "      <td>6.868597</td>\n",
              "      <td>3.986717</td>\n",
              "      <td>6.395349</td>\n",
              "      <td>3.402576</td>\n",
              "    </tr>\n",
              "    <tr>\n",
              "      <th>bedrooms_per_room</th>\n",
              "      <td>0.200576</td>\n",
              "      <td>0.232703</td>\n",
              "      <td>0.174486</td>\n",
              "      <td>0.258269</td>\n",
              "      <td>0.18094</td>\n",
              "      <td>0.160572</td>\n",
              "      <td>0.247331</td>\n",
              "      <td>0.157686</td>\n",
              "      <td>0.280639</td>\n",
              "      <td>0.15313</td>\n",
              "      <td>...</td>\n",
              "      <td>0.19774</td>\n",
              "      <td>0.174403</td>\n",
              "      <td>0.330463</td>\n",
              "      <td>0.170874</td>\n",
              "      <td>0.187392</td>\n",
              "      <td>0.151128</td>\n",
              "      <td>0.184825</td>\n",
              "      <td>0.270823</td>\n",
              "      <td>0.166993</td>\n",
              "      <td>0.311169</td>\n",
              "    </tr>\n",
              "    <tr>\n",
              "      <th>population_per_household</th>\n",
              "      <td>3.691814</td>\n",
              "      <td>1.738095</td>\n",
              "      <td>2.723214</td>\n",
              "      <td>3.994366</td>\n",
              "      <td>2.3</td>\n",
              "      <td>3.364544</td>\n",
              "      <td>3.492268</td>\n",
              "      <td>2.395683</td>\n",
              "      <td>2.633441</td>\n",
              "      <td>3.394671</td>\n",
              "      <td>...</td>\n",
              "      <td>3.907268</td>\n",
              "      <td>3.730337</td>\n",
              "      <td>3.368585</td>\n",
              "      <td>2.680851</td>\n",
              "      <td>4.138889</td>\n",
              "      <td>3.032258</td>\n",
              "      <td>3.904232</td>\n",
              "      <td>3.332068</td>\n",
              "      <td>3.178891</td>\n",
              "      <td>2.108696</td>\n",
              "    </tr>\n",
              "    <tr>\n",
              "      <th>above_average</th>\n",
              "      <td>0</td>\n",
              "      <td>1</td>\n",
              "      <td>0</td>\n",
              "      <td>0</td>\n",
              "      <td>0</td>\n",
              "      <td>1</td>\n",
              "      <td>0</td>\n",
              "      <td>1</td>\n",
              "      <td>0</td>\n",
              "      <td>1</td>\n",
              "      <td>...</td>\n",
              "      <td>1</td>\n",
              "      <td>1</td>\n",
              "      <td>0</td>\n",
              "      <td>1</td>\n",
              "      <td>0</td>\n",
              "      <td>1</td>\n",
              "      <td>0</td>\n",
              "      <td>1</td>\n",
              "      <td>1</td>\n",
              "      <td>1</td>\n",
              "    </tr>\n",
              "  </tbody>\n",
              "</table>\n",
              "<p>14 rows × 16512 columns</p>\n",
              "</div>\n",
              "      <button class=\"colab-df-convert\" onclick=\"convertToInteractive('df-12bbd994-a7e4-490f-9440-f07cf1088355')\"\n",
              "              title=\"Convert this dataframe to an interactive table.\"\n",
              "              style=\"display:none;\">\n",
              "        \n",
              "  <svg xmlns=\"http://www.w3.org/2000/svg\" height=\"24px\"viewBox=\"0 0 24 24\"\n",
              "       width=\"24px\">\n",
              "    <path d=\"M0 0h24v24H0V0z\" fill=\"none\"/>\n",
              "    <path d=\"M18.56 5.44l.94 2.06.94-2.06 2.06-.94-2.06-.94-.94-2.06-.94 2.06-2.06.94zm-11 1L8.5 8.5l.94-2.06 2.06-.94-2.06-.94L8.5 2.5l-.94 2.06-2.06.94zm10 10l.94 2.06.94-2.06 2.06-.94-2.06-.94-.94-2.06-.94 2.06-2.06.94z\"/><path d=\"M17.41 7.96l-1.37-1.37c-.4-.4-.92-.59-1.43-.59-.52 0-1.04.2-1.43.59L10.3 9.45l-7.72 7.72c-.78.78-.78 2.05 0 2.83L4 21.41c.39.39.9.59 1.41.59.51 0 1.02-.2 1.41-.59l7.78-7.78 2.81-2.81c.8-.78.8-2.07 0-2.86zM5.41 20L4 18.59l7.72-7.72 1.47 1.35L5.41 20z\"/>\n",
              "  </svg>\n",
              "      </button>\n",
              "      \n",
              "  <style>\n",
              "    .colab-df-container {\n",
              "      display:flex;\n",
              "      flex-wrap:wrap;\n",
              "      gap: 12px;\n",
              "    }\n",
              "\n",
              "    .colab-df-convert {\n",
              "      background-color: #E8F0FE;\n",
              "      border: none;\n",
              "      border-radius: 50%;\n",
              "      cursor: pointer;\n",
              "      display: none;\n",
              "      fill: #1967D2;\n",
              "      height: 32px;\n",
              "      padding: 0 0 0 0;\n",
              "      width: 32px;\n",
              "    }\n",
              "\n",
              "    .colab-df-convert:hover {\n",
              "      background-color: #E2EBFA;\n",
              "      box-shadow: 0px 1px 2px rgba(60, 64, 67, 0.3), 0px 1px 3px 1px rgba(60, 64, 67, 0.15);\n",
              "      fill: #174EA6;\n",
              "    }\n",
              "\n",
              "    [theme=dark] .colab-df-convert {\n",
              "      background-color: #3B4455;\n",
              "      fill: #D2E3FC;\n",
              "    }\n",
              "\n",
              "    [theme=dark] .colab-df-convert:hover {\n",
              "      background-color: #434B5C;\n",
              "      box-shadow: 0px 1px 3px 1px rgba(0, 0, 0, 0.15);\n",
              "      filter: drop-shadow(0px 1px 2px rgba(0, 0, 0, 0.3));\n",
              "      fill: #FFFFFF;\n",
              "    }\n",
              "  </style>\n",
              "\n",
              "      <script>\n",
              "        const buttonEl =\n",
              "          document.querySelector('#df-12bbd994-a7e4-490f-9440-f07cf1088355 button.colab-df-convert');\n",
              "        buttonEl.style.display =\n",
              "          google.colab.kernel.accessAllowed ? 'block' : 'none';\n",
              "\n",
              "        async function convertToInteractive(key) {\n",
              "          const element = document.querySelector('#df-12bbd994-a7e4-490f-9440-f07cf1088355');\n",
              "          const dataTable =\n",
              "            await google.colab.kernel.invokeFunction('convertToInteractive',\n",
              "                                                     [key], {});\n",
              "          if (!dataTable) return;\n",
              "\n",
              "          const docLinkHtml = 'Like what you see? Visit the ' +\n",
              "            '<a target=\"_blank\" href=https://colab.research.google.com/notebooks/data_table.ipynb>data table notebook</a>'\n",
              "            + ' to learn more about interactive tables.';\n",
              "          element.innerHTML = '';\n",
              "          dataTable['output_type'] = 'display_data';\n",
              "          await google.colab.output.renderOutput(dataTable, element);\n",
              "          const docLink = document.createElement('div');\n",
              "          docLink.innerHTML = docLinkHtml;\n",
              "          element.appendChild(docLink);\n",
              "        }\n",
              "      </script>\n",
              "    </div>\n",
              "  </div>\n",
              "  "
            ]
          },
          "metadata": {},
          "execution_count": 197
        }
      ]
    },
    {
      "cell_type": "code",
      "source": [
        "df_full_train.above_average.value_counts()"
      ],
      "metadata": {
        "colab": {
          "base_uri": "https://localhost:8080/"
        },
        "id": "8biCugyyvXRE",
        "outputId": "7527718f-7ef5-4c2c-f828-2792db8366c3"
      },
      "execution_count": 198,
      "outputs": [
        {
          "output_type": "execute_result",
          "data": {
            "text/plain": [
              "0    9779\n",
              "1    6733\n",
              "Name: above_average, dtype: int64"
            ]
          },
          "metadata": {},
          "execution_count": 198
        }
      ]
    },
    {
      "cell_type": "code",
      "source": [
        "df_full_train.above_average.value_counts(normalize=True)  # \"above_average\" rate\n"
      ],
      "metadata": {
        "colab": {
          "base_uri": "https://localhost:8080/"
        },
        "id": "ObzBXgSexBar",
        "outputId": "2d95a423-29ea-49c1-ebae-9fda08c34ea2"
      },
      "execution_count": 199,
      "outputs": [
        {
          "output_type": "execute_result",
          "data": {
            "text/plain": [
              "0    0.592236\n",
              "1    0.407764\n",
              "Name: above_average, dtype: float64"
            ]
          },
          "metadata": {},
          "execution_count": 199
        }
      ]
    },
    {
      "cell_type": "code",
      "source": [
        "df_full_train.columns"
      ],
      "metadata": {
        "colab": {
          "base_uri": "https://localhost:8080/"
        },
        "id": "8MQM0V-mBKGn",
        "outputId": "0fa8450c-8a04-45b2-e8ee-cf070e653f7a"
      },
      "execution_count": 200,
      "outputs": [
        {
          "output_type": "execute_result",
          "data": {
            "text/plain": [
              "Index(['longitude', 'latitude', 'housing_median_age', 'total_rooms',\n",
              "       'total_bedrooms', 'population', 'households', 'median_income',\n",
              "       'median_house_value', 'ocean_proximity', 'rooms_per_household',\n",
              "       'bedrooms_per_room', 'population_per_household', 'above_average'],\n",
              "      dtype='object')"
            ]
          },
          "metadata": {},
          "execution_count": 200
        }
      ]
    },
    {
      "cell_type": "code",
      "source": [
        "df_full_train[categorical].nunique()"
      ],
      "metadata": {
        "colab": {
          "base_uri": "https://localhost:8080/"
        },
        "id": "UI834KDfx249",
        "outputId": "5ac130b5-8745-49b9-b77f-d213cc22a518"
      },
      "execution_count": 201,
      "outputs": [
        {
          "output_type": "execute_result",
          "data": {
            "text/plain": [
              "ocean_proximity    5\n",
              "above_average      2\n",
              "dtype: int64"
            ]
          },
          "metadata": {},
          "execution_count": 201
        }
      ]
    },
    {
      "cell_type": "code",
      "source": [
        "df_full_train[\"above_average\"].nunique()"
      ],
      "metadata": {
        "colab": {
          "base_uri": "https://localhost:8080/"
        },
        "id": "anManCD0_Dio",
        "outputId": "20252c8c-ba32-4ccc-e106-1157c7e24101"
      },
      "execution_count": 202,
      "outputs": [
        {
          "output_type": "execute_result",
          "data": {
            "text/plain": [
              "2"
            ]
          },
          "metadata": {},
          "execution_count": 202
        }
      ]
    },
    {
      "cell_type": "markdown",
      "source": [
        "## Question 3\n",
        "- Calculate the mutual information score with the (binarized) price for the categorical variable that we have. Use the training set only.\n",
        "- What is the value of mutual information?\n",
        "- Round it to 2 decimal digits using round(score, 2)"
      ],
      "metadata": {
        "id": "E097-AGR0SX_"
      }
    },
    {
      "cell_type": "code",
      "source": [
        "df_full_train.above_average.mean()"
      ],
      "metadata": {
        "colab": {
          "base_uri": "https://localhost:8080/"
        },
        "id": "6BXPiz0C0j1a",
        "outputId": "53647f3c-dff0-4d64-edd2-943f720de24e"
      },
      "execution_count": 203,
      "outputs": [
        {
          "output_type": "execute_result",
          "data": {
            "text/plain": [
              "0.4077640503875969"
            ]
          },
          "metadata": {},
          "execution_count": 203
        }
      ]
    },
    {
      "cell_type": "code",
      "source": [
        "def mutual_info_series_score(series):\n",
        "    return mutual_info_score(series, df_full_train.above_average)\n",
        "\n",
        "mi = df_full_train[['ocean_proximity']].apply(mutual_info_series_score)\n",
        "mi = round (mi,2)\n",
        "mi.sort_values(ascending=False)\n"
      ],
      "metadata": {
        "colab": {
          "base_uri": "https://localhost:8080/"
        },
        "id": "dypMWyxN_zyu",
        "outputId": "e9717016-2693-433e-eb24-40f9f32e888f"
      },
      "execution_count": 204,
      "outputs": [
        {
          "output_type": "execute_result",
          "data": {
            "text/plain": [
              "ocean_proximity    0.1\n",
              "dtype: float64"
            ]
          },
          "metadata": {},
          "execution_count": 204
        }
      ]
    },
    {
      "cell_type": "markdown",
      "source": [
        "### Question 4\n",
        "Train a logistic regression\n",
        "- Remember that we have one categorical variable ocean_proximity in the data.  - Include it using one-hot encoding.\n",
        "- Fit the model on the training dataset.\n",
        "- To make sure the results are reproducible across different versions of Scikit-Learn, fit the model with these parameters:\n",
        "\n",
        "model = LogisticRegression(solver=\"liblinear\", C=1.0, max_iter=1000, random_state=42)\n",
        "- Calculate the accuracy on the validation dataset and round it to 2 decimal digits."
      ],
      "metadata": {
        "id": "6uNKe-91EgGN"
      }
    },
    {
      "cell_type": "markdown",
      "source": [
        "### *One-hot Encoding*"
      ],
      "metadata": {
        "id": "CjpD_t-GGRnk"
      }
    },
    {
      "cell_type": "code",
      "source": [
        "numerical.remove('median_house_value')\n"
      ],
      "metadata": {
        "id": "k-K7IBeuEux5"
      },
      "execution_count": 205,
      "outputs": []
    },
    {
      "cell_type": "code",
      "source": [
        "numerical + categorical"
      ],
      "metadata": {
        "colab": {
          "base_uri": "https://localhost:8080/"
        },
        "id": "-bdVBYIqUJw0",
        "outputId": "4ba897b2-7af9-4892-9aed-eb726b58bc80"
      },
      "execution_count": 206,
      "outputs": [
        {
          "output_type": "execute_result",
          "data": {
            "text/plain": [
              "['longitude',\n",
              " 'longitude',\n",
              " 'total_rooms',\n",
              " 'total_bedrooms',\n",
              " 'population',\n",
              " 'households',\n",
              " 'median_income',\n",
              " 'rooms_per_household',\n",
              " 'bedrooms_per_room',\n",
              " 'population_per_household',\n",
              " 'housing_median_age',\n",
              " 'ocean_proximity',\n",
              " 'above_average']"
            ]
          },
          "metadata": {},
          "execution_count": 206
        }
      ]
    },
    {
      "cell_type": "code",
      "source": [
        "dv = DictVectorizer(sparse=False)\n",
        "\n",
        "train_dict = df_train.to_dict(orient='records')\n",
        "X_train = dv.fit_transform(train_dict)\n",
        "X_train [3]\n"
      ],
      "metadata": {
        "colab": {
          "base_uri": "https://localhost:8080/"
        },
        "id": "Iq1dEV3qBeD_",
        "outputId": "6e09fef5-c79c-473e-b3e9-7399a093927a"
      },
      "execution_count": 207,
      "outputs": [
        {
          "output_type": "execute_result",
          "data": {
            "text/plain": [
              "array([ 1.00000000e+00,  1.94158437e-01,  9.15000000e+02,  9.00000000e+00,\n",
              "        3.42400000e+01, -1.18630000e+02,  4.83330000e+00,  1.00000000e+00,\n",
              "        0.00000000e+00,  0.00000000e+00,  0.00000000e+00,  0.00000000e+00,\n",
              "        1.88400000e+03,  2.05901639e+00,  5.20109290e+00,  9.24000000e+02,\n",
              "        4.75900000e+03])"
            ]
          },
          "metadata": {},
          "execution_count": 207
        }
      ]
    },
    {
      "cell_type": "code",
      "source": [
        "dv.vocabulary_  # show mapping"
      ],
      "metadata": {
        "colab": {
          "base_uri": "https://localhost:8080/"
        },
        "id": "H4xnnfOLPQTd",
        "outputId": "226cfa16-abf8-4170-c2bc-a20977470a6c"
      },
      "execution_count": 208,
      "outputs": [
        {
          "output_type": "execute_result",
          "data": {
            "text/plain": [
              "{'longitude': 5,\n",
              " 'latitude': 4,\n",
              " 'housing_median_age': 3,\n",
              " 'total_rooms': 16,\n",
              " 'total_bedrooms': 15,\n",
              " 'population': 12,\n",
              " 'households': 2,\n",
              " 'median_income': 6,\n",
              " 'ocean_proximity=<1H OCEAN': 7,\n",
              " 'rooms_per_household': 14,\n",
              " 'bedrooms_per_room': 1,\n",
              " 'population_per_household': 13,\n",
              " 'above_average': 0,\n",
              " 'ocean_proximity=NEAR OCEAN': 11,\n",
              " 'ocean_proximity=INLAND': 8,\n",
              " 'ocean_proximity=NEAR BAY': 10,\n",
              " 'ocean_proximity=ISLAND': 9}"
            ]
          },
          "metadata": {},
          "execution_count": 208
        }
      ]
    },
    {
      "cell_type": "code",
      "source": [
        "dv.get_feature_names_out()"
      ],
      "metadata": {
        "colab": {
          "base_uri": "https://localhost:8080/"
        },
        "id": "K-_4F4hQCkAT",
        "outputId": "9358b0bc-8da0-4e14-df66-324b5f73ae7b"
      },
      "execution_count": 209,
      "outputs": [
        {
          "output_type": "execute_result",
          "data": {
            "text/plain": [
              "array(['above_average', 'bedrooms_per_room', 'households',\n",
              "       'housing_median_age', 'latitude', 'longitude', 'median_income',\n",
              "       'ocean_proximity=<1H OCEAN', 'ocean_proximity=INLAND',\n",
              "       'ocean_proximity=ISLAND', 'ocean_proximity=NEAR BAY',\n",
              "       'ocean_proximity=NEAR OCEAN', 'population',\n",
              "       'population_per_household', 'rooms_per_household',\n",
              "       'total_bedrooms', 'total_rooms'], dtype=object)"
            ]
          },
          "metadata": {},
          "execution_count": 209
        }
      ]
    },
    {
      "cell_type": "code",
      "source": [
        "val_dict = df_val.to_dict(orient='records')\n",
        "X_val = dv.transform(val_dict)                              # WE DONT FIT ON VALIDATION DATA SET (why?)\n",
        "X_val[0]"
      ],
      "metadata": {
        "colab": {
          "base_uri": "https://localhost:8080/"
        },
        "id": "r2v1xdujQBvZ",
        "outputId": "86b8f110-09fd-4cef-e147-f91aa2fac6d0"
      },
      "execution_count": 210,
      "outputs": [
        {
          "output_type": "execute_result",
          "data": {
            "text/plain": [
              "array([ 0.00000000e+00,  1.59529807e-01,  1.82000000e+02,  3.50000000e+01,\n",
              "        3.67400000e+01, -1.19850000e+02,  3.53750000e+00,  0.00000000e+00,\n",
              "        1.00000000e+00,  0.00000000e+00,  0.00000000e+00,  0.00000000e+00,\n",
              "        5.37000000e+02,  2.95054945e+00,  6.54395604e+00,  1.90000000e+02,\n",
              "        1.19100000e+03])"
            ]
          },
          "metadata": {},
          "execution_count": 210
        }
      ]
    },
    {
      "cell_type": "markdown",
      "source": [
        "### Logistic Regression"
      ],
      "metadata": {
        "id": "PQ4ahfdeEF4t"
      }
    },
    {
      "cell_type": "code",
      "source": [
        "# define and graph sigmoid function  (Defined for reference, but will actually use sklearn for the implementation)\n",
        "def sigmoid(z):\n",
        "    return 1 / (1 + np.exp(-z))\n",
        "\n",
        "z = np.linspace(-7, 7, 51)\n",
        "plt.plot(z, sigmoid(z))\n"
      ],
      "metadata": {
        "colab": {
          "base_uri": "https://localhost:8080/",
          "height": 282
        },
        "id": "NmsTf1vpAbWi",
        "outputId": "59cf0f29-06c0-4eb2-a4f5-08edd6be9a48"
      },
      "execution_count": 211,
      "outputs": [
        {
          "output_type": "execute_result",
          "data": {
            "text/plain": [
              "[<matplotlib.lines.Line2D at 0x7f1134ce9150>]"
            ]
          },
          "metadata": {},
          "execution_count": 211
        },
        {
          "output_type": "display_data",
          "data": {
            "text/plain": [
              "<Figure size 432x288 with 1 Axes>"
            ],
            "image/png": "[encoded data removed]"
          },
          "metadata": {
            "needs_background": "light"
          }
        }
      ]
    },
    {
      "cell_type": "code",
      "source": [
        "# define linear regression  (Defined for reference, but will actually use sklearn for the implementation)\n",
        "def linear_regression(xi):\n",
        "    result = w0\n",
        "    \n",
        "    for j in range(len(w)):\n",
        "        result = result + xi[j] * w[j]\n",
        "        \n",
        "    return result"
      ],
      "metadata": {
        "id": "fVfH_-F4K0Tz"
      },
      "execution_count": 212,
      "outputs": []
    },
    {
      "cell_type": "code",
      "source": [
        "# define logistic regression  (Defined for reference, but will actually use sklearn for the implementation)\n",
        "def logistic_regression(xi):\n",
        "    score = w0\n",
        "    \n",
        "    for j in range(len(w)):\n",
        "        score = score + xi[j] * w[j]\n",
        "        \n",
        "    result = sigmoid(score)\n",
        "    return result"
      ],
      "metadata": {
        "id": "tP6gixHvK3Tz"
      },
      "execution_count": 213,
      "outputs": []
    },
    {
      "cell_type": "code",
      "source": [
        "# Actual implementation (takes +10 min in google collab):\n",
        "model = LogisticRegression(solver=\"liblinear\", C=1.0, max_iter=1000, random_state=42)\n",
        "\n",
        "model.fit(X_train, y_train)"
      ],
      "metadata": {
        "colab": {
          "base_uri": "https://localhost:8080/"
        },
        "id": "jj0F7UCALFdQ",
        "outputId": "712822a7-a51d-420d-bff0-65d022c5cdc6"
      },
      "execution_count": 214,
      "outputs": [
        {
          "output_type": "execute_result",
          "data": {
            "text/plain": [
              "LogisticRegression(max_iter=1000, random_state=42, solver='liblinear')"
            ]
          },
          "metadata": {},
          "execution_count": 214
        }
      ]
    },
    {
      "cell_type": "code",
      "source": [
        "model.intercept_[0]"
      ],
      "metadata": {
        "colab": {
          "base_uri": "https://localhost:8080/"
        },
        "id": "XWaOqMrBMIEl",
        "outputId": "99a371c9-cefa-4ce3-dbb9-5991a1f65072"
      },
      "execution_count": 215,
      "outputs": [
        {
          "output_type": "execute_result",
          "data": {
            "text/plain": [
              "0.001691512544623076"
            ]
          },
          "metadata": {},
          "execution_count": 215
        }
      ]
    },
    {
      "cell_type": "code",
      "source": [
        "model.coef_[0].round(3)   # these are the weights"
      ],
      "metadata": {
        "colab": {
          "base_uri": "https://localhost:8080/"
        },
        "id": "n7T7_a81MJwY",
        "outputId": "ac5b8916-0917-4eb4-cad8-ed78a8ecd3a7"
      },
      "execution_count": 216,
      "outputs": [
        {
          "output_type": "execute_result",
          "data": {
            "text/plain": [
              "array([-0.134, -0.009, -0.034, -0.053,  0.831,  0.255, -0.592, -0.201,\n",
              "        0.344, -0.   , -0.096, -0.045,  0.002, -0.329, -0.049,  0.045,\n",
              "       -0.013])"
            ]
          },
          "metadata": {},
          "execution_count": 216
        }
      ]
    },
    {
      "cell_type": "code",
      "source": [
        "model.predict(X_val)  # \"Hard\" predictions; either yes or no/1 or 0"
      ],
      "metadata": {
        "colab": {
          "base_uri": "https://localhost:8080/"
        },
        "id": "hOD9lJPnMp1C",
        "outputId": "26cae762-78ea-4976-833f-c24f4dc12bfc"
      },
      "execution_count": 217,
      "outputs": [
        {
          "output_type": "execute_result",
          "data": {
            "text/plain": [
              "array([112500.,  87500., 500001., ..., 500001., 500001., 162500.])"
            ]
          },
          "metadata": {},
          "execution_count": 217
        }
      ]
    },
    {
      "cell_type": "code",
      "source": [
        "model.predict_proba(X_val)[:, 1]   # \"Soft\" predictions; predicts a probability, from 0 to 1\n",
        "# 2 column mantrix; first one is probability for \"0\", 2nd one for probability of \"1\""
      ],
      "metadata": {
        "colab": {
          "base_uri": "https://localhost:8080/"
        },
        "id": "HZbNJr0wMtGU",
        "outputId": "5b858535-865a-4320-ff90-22beef387e6b"
      },
      "execution_count": 218,
      "outputs": [
        {
          "output_type": "execute_result",
          "data": {
            "text/plain": [
              "array([4.08779575e-06, 2.94886465e-07, 1.06268085e-16, ...,\n",
              "       2.21817151e-12, 2.50258767e-12, 8.34542828e-07])"
            ]
          },
          "metadata": {},
          "execution_count": 218
        }
      ]
    },
    {
      "cell_type": "code",
      "source": [
        "y_pred = model.predict_proba(X_val)[:, 1]\n",
        "y_pred"
      ],
      "metadata": {
        "colab": {
          "base_uri": "https://localhost:8080/"
        },
        "id": "aoG1qKXfMwcp",
        "outputId": "8b5691ed-e413-48c6-f239-49b208627eb2"
      },
      "execution_count": 219,
      "outputs": [
        {
          "output_type": "execute_result",
          "data": {
            "text/plain": [
              "array([4.08779575e-06, 2.94886465e-07, 1.06268085e-16, ...,\n",
              "       2.21817151e-12, 2.50258767e-12, 8.34542828e-07])"
            ]
          },
          "metadata": {},
          "execution_count": 219
        }
      ]
    },
    {
      "cell_type": "code",
      "source": [
        "decision = (y_pred >= 0.5)\n",
        "df_val[decision].T"
      ],
      "metadata": {
        "colab": {
          "base_uri": "https://localhost:8080/",
          "height": 440
        },
        "id": "-Lb6NJjap-Xq",
        "outputId": "48238b4c-b5ab-48d9-9388-c7407e53d595"
      },
      "execution_count": 220,
      "outputs": [
        {
          "output_type": "execute_result",
          "data": {
            "text/plain": [
              "Empty DataFrame\n",
              "Columns: []\n",
              "Index: [longitude, latitude, housing_median_age, total_rooms, total_bedrooms, population, households, median_income, ocean_proximity, rooms_per_household, bedrooms_per_room, population_per_household, above_average]"
            ],
            "text/html": [
              "\n",
              "  <div id=\"df-a722050a-93ed-4665-9d33-b92cdaebd8fe\">\n",
              "    <div class=\"colab-df-container\">\n",
              "      <div>\n",
              "<style scoped>\n",
              "    .dataframe tbody tr th:only-of-type {\n",
              "        vertical-align: middle;\n",
              "    }\n",
              "\n",
              "    .dataframe tbody tr th {\n",
              "        vertical-align: top;\n",
              "    }\n",
              "\n",
              "    .dataframe thead th {\n",
              "        text-align: right;\n",
              "    }\n",
              "</style>\n",
              "<table border=\"1\" class=\"dataframe\">\n",
              "  <thead>\n",
              "    <tr style=\"text-align: right;\">\n",
              "      <th></th>\n",
              "    </tr>\n",
              "  </thead>\n",
              "  <tbody>\n",
              "    <tr>\n",
              "      <th>longitude</th>\n",
              "    </tr>\n",
              "    <tr>\n",
              "      <th>latitude</th>\n",
              "    </tr>\n",
              "    <tr>\n",
              "      <th>housing_median_age</th>\n",
              "    </tr>\n",
              "    <tr>\n",
              "      <th>total_rooms</th>\n",
              "    </tr>\n",
              "    <tr>\n",
              "      <th>total_bedrooms</th>\n",
              "    </tr>\n",
              "    <tr>\n",
              "      <th>population</th>\n",
              "    </tr>\n",
              "    <tr>\n",
              "      <th>households</th>\n",
              "    </tr>\n",
              "    <tr>\n",
              "      <th>median_income</th>\n",
              "    </tr>\n",
              "    <tr>\n",
              "      <th>ocean_proximity</th>\n",
              "    </tr>\n",
              "    <tr>\n",
              "      <th>rooms_per_household</th>\n",
              "    </tr>\n",
              "    <tr>\n",
              "      <th>bedrooms_per_room</th>\n",
              "    </tr>\n",
              "    <tr>\n",
              "      <th>population_per_household</th>\n",
              "    </tr>\n",
              "    <tr>\n",
              "      <th>above_average</th>\n",
              "    </tr>\n",
              "  </tbody>\n",
              "</table>\n",
              "</div>\n",
              "      <button class=\"colab-df-convert\" onclick=\"convertToInteractive('df-a722050a-93ed-4665-9d33-b92cdaebd8fe')\"\n",
              "              title=\"Convert this dataframe to an interactive table.\"\n",
              "              style=\"display:none;\">\n",
              "        \n",
              "  <svg xmlns=\"http://www.w3.org/2000/svg\" height=\"24px\"viewBox=\"0 0 24 24\"\n",
              "       width=\"24px\">\n",
              "    <path d=\"M0 0h24v24H0V0z\" fill=\"none\"/>\n",
              "    <path d=\"M18.56 5.44l.94 2.06.94-2.06 2.06-.94-2.06-.94-.94-2.06-.94 2.06-2.06.94zm-11 1L8.5 8.5l.94-2.06 2.06-.94-2.06-.94L8.5 2.5l-.94 2.06-2.06.94zm10 10l.94 2.06.94-2.06 2.06-.94-2.06-.94-.94-2.06-.94 2.06-2.06.94z\"/><path d=\"M17.41 7.96l-1.37-1.37c-.4-.4-.92-.59-1.43-.59-.52 0-1.04.2-1.43.59L10.3 9.45l-7.72 7.72c-.78.78-.78 2.05 0 2.83L4 21.41c.39.39.9.59 1.41.59.51 0 1.02-.2 1.41-.59l7.78-7.78 2.81-2.81c.8-.78.8-2.07 0-2.86zM5.41 20L4 18.59l7.72-7.72 1.47 1.35L5.41 20z\"/>\n",
              "  </svg>\n",
              "      </button>\n",
              "      \n",
              "  <style>\n",
              "    .colab-df-container {\n",
              "      display:flex;\n",
              "      flex-wrap:wrap;\n",
              "      gap: 12px;\n",
              "    }\n",
              "\n",
              "    .colab-df-convert {\n",
              "      background-color: #E8F0FE;\n",
              "      border: none;\n",
              "      border-radius: 50%;\n",
              "      cursor: pointer;\n",
              "      display: none;\n",
              "      fill: #1967D2;\n",
              "      height: 32px;\n",
              "      padding: 0 0 0 0;\n",
              "      width: 32px;\n",
              "    }\n",
              "\n",
              "    .colab-df-convert:hover {\n",
              "      background-color: #E2EBFA;\n",
              "      box-shadow: 0px 1px 2px rgba(60, 64, 67, 0.3), 0px 1px 3px 1px rgba(60, 64, 67, 0.15);\n",
              "      fill: #174EA6;\n",
              "    }\n",
              "\n",
              "    [theme=dark] .colab-df-convert {\n",
              "      background-color: #3B4455;\n",
              "      fill: #D2E3FC;\n",
              "    }\n",
              "\n",
              "    [theme=dark] .colab-df-convert:hover {\n",
              "      background-color: #434B5C;\n",
              "      box-shadow: 0px 1px 3px 1px rgba(0, 0, 0, 0.15);\n",
              "      filter: drop-shadow(0px 1px 2px rgba(0, 0, 0, 0.3));\n",
              "      fill: #FFFFFF;\n",
              "    }\n",
              "  </style>\n",
              "\n",
              "      <script>\n",
              "        const buttonEl =\n",
              "          document.querySelector('#df-a722050a-93ed-4665-9d33-b92cdaebd8fe button.colab-df-convert');\n",
              "        buttonEl.style.display =\n",
              "          google.colab.kernel.accessAllowed ? 'block' : 'none';\n",
              "\n",
              "        async function convertToInteractive(key) {\n",
              "          const element = document.querySelector('#df-a722050a-93ed-4665-9d33-b92cdaebd8fe');\n",
              "          const dataTable =\n",
              "            await google.colab.kernel.invokeFunction('convertToInteractive',\n",
              "                                                     [key], {});\n",
              "          if (!dataTable) return;\n",
              "\n",
              "          const docLinkHtml = 'Like what you see? Visit the ' +\n",
              "            '<a target=\"_blank\" href=https://colab.research.google.com/notebooks/data_table.ipynb>data table notebook</a>'\n",
              "            + ' to learn more about interactive tables.';\n",
              "          element.innerHTML = '';\n",
              "          dataTable['output_type'] = 'display_data';\n",
              "          await google.colab.output.renderOutput(dataTable, element);\n",
              "          const docLink = document.createElement('div');\n",
              "          docLink.innerHTML = docLinkHtml;\n",
              "          element.appendChild(docLink);\n",
              "        }\n",
              "      </script>\n",
              "    </div>\n",
              "  </div>\n",
              "  "
            ]
          },
          "metadata": {},
          "execution_count": 220
        }
      ]
    },
    {
      "cell_type": "code",
      "source": [
        "#decision.asType(int)"
      ],
      "metadata": {
        "colab": {
          "base_uri": "https://localhost:8080/",
          "height": 165
        },
        "id": "pobedt2pztDG",
        "outputId": "b05274bf-013e-439b-8d59-1c3fbdb657c8"
      },
      "execution_count": 221,
      "outputs": [
        {
          "output_type": "error",
          "ename": "AttributeError",
          "evalue": "ignored",
          "traceback": [
            "\u001b[0;31m---------------------------------------------------------------------------\u001b[0m",
            "\u001b[0;31mAttributeError\u001b[0m                            Traceback (most recent call last)",
            "\u001b[0;32m<ipython-input-221-a3fa0ebddce3>\u001b[0m in \u001b[0;36m<module>\u001b[0;34m\u001b[0m\n\u001b[0;32m----> 1\u001b[0;31m \u001b[0mdecision\u001b[0m\u001b[0;34m.\u001b[0m\u001b[0masType\u001b[0m\u001b[0;34m(\u001b[0m\u001b[0mint\u001b[0m\u001b[0;34m)\u001b[0m\u001b[0;34m\u001b[0m\u001b[0;34m\u001b[0m\u001b[0m\n\u001b[0m",
            "\u001b[0;31mAttributeError\u001b[0m: 'numpy.ndarray' object has no attribute 'asType'"
          ]
        }
      ]
    },
    {
      "cell_type": "code",
      "source": [
        "#(y_val  == decision).mean()\n"
      ],
      "metadata": {
        "id": "JUdo8N2rqYpC"
      },
      "execution_count": null,
      "outputs": []
    },
    {
      "cell_type": "code",
      "source": [
        "#df_pred = pd.DataFrame()\n",
        "#df_pred['probability'] = y_pred\n",
        "#df_pred['prediction'] = decision.astype(int)\n",
        "#df_pred['actual'] = y_val\n",
        "\n",
        "#df_pred['correct'] = df_pred.prediction == df_pred.actual\n",
        "\n",
        "#df_pred.correct.mean()\n",
        "\n",
        "#decision.astype(int)"
      ],
      "metadata": {
        "id": "OY_LEdu5qC-q"
      },
      "execution_count": null,
      "outputs": []
    },
    {
      "cell_type": "code",
      "source": [
        "y_pred = model.predict(X_val)\n",
        "\n",
        "accuracy = accuracy_score(y_val, y_pred)\n",
        "print(np.round(accuracy, 2))"
      ],
      "metadata": {
        "colab": {
          "base_uri": "https://localhost:8080/"
        },
        "id": "uBmQnpsvj-aC",
        "outputId": "0413db5c-e836-45bb-bc88-9ba60af66dbe"
      },
      "execution_count": 224,
      "outputs": [
        {
          "output_type": "stream",
          "name": "stdout",
          "text": [
            "0.06\n"
          ]
        }
      ]
    }
  ]
}